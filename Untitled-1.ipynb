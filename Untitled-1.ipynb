{
 "cells": [
  {
   "cell_type": "code",
   "execution_count": null,
   "metadata": {},
   "outputs": [],
   "source": [
    "import math\n",
    "from OCC.Core.gp import gp_Pnt\n",
    "from OCC.Core.BRepPrimAPI import BRepPrimAPI_MakeBox\n",
    "from OCC.Core.BRepAlgoAPI import BRepAlgoAPI_Common\n",
    "from OCC.Core.Bnd import Bnd_Box\n",
    "\n",
    "# Create two boxes\n",
    "box1 = BRepPrimAPI_MakeBox(10, 10, 10).Shape()\n",
    "box2 = BRepPrimAPI_MakeBox(10, 10, 10).Shape()\n",
    "\n",
    "# Perform a boolean operation to find the common volume\n",
    "common = BRepAlgoAPI_Common(box1, box2).Shape()\n",
    "\n",
    "# Calculate the volume of the common volume\n",
    "bounding_box = Bnd_Box()\n",
    "common.BoundingBox(bounding_box)\n",
    "x_min, y_min, z_min, x_max, y_max, z_max = bounding_box.Get()\n",
    "volume = (x_max - x_min) * (y_max - y_min) * (z_max - z_min)\n",
    "\n",
    "print(\"Volume of overlap:\", volume)"
   ]
  },
  {
   "cell_type": "code",
   "execution_count": null,
   "metadata": {},
   "outputs": [],
   "source": [
    "import numpy as np\n",
    "import matplotlib.pyplot as plt\n",
    "from OCC.Core.BRepBuilderAPI import BRepBuilderAPI_Transform\n",
    "from OCC.Extend.DataExchange import read_step_file\n",
    "from OCC.Display.SimpleGui import init_display\n",
    "\n",
    "def display_model(shape, color):\n",
    "    display.DisplayShape(shape, color=color)\n",
    "\n",
    "def get_bounding_box_volume(shape):\n",
    "    bounding_box = shape.BoundingBox()\n",
    "    x_min, y_min, z_min, x_max, y_max, z_max = bounding_box.Get()\n",
    "    volume = (x_max - x_min) * (y_max - y_min) * (z_max - z_min)\n",
    "    return volume\n",
    "\n",
    "def calculate_overlap_volume(shape1, shape2):\n",
    "    intersection_shape = shape1.Shaper().Intersection(shape2)\n",
    "    return get_bounding_box_volume(intersection_shape)\n",
    "\n",
    "\n",
    "file_path1 = r\"C:\\alan\\ITRI\\model\\cylinder.IGS\"\n",
    "file_path2 = r\"C:\\alan\\ITRI\\model\\cylinder.IGS\"\n",
    "# Read the IGES files\n",
    "shape1 = read_step_file(file_path1)\n",
    "shape2 = read_step_file(file_path2)\n",
    "\n",
    "# Display the models\n",
    "display, start_display, add_menu, add_function_to_menu = init_display()\n",
    "display_model(shape1, color=\"blue\")\n",
    "display_model(shape2, color=\"red\")\n",
    "\n",
    "# Calculate and display the overlap volume\n",
    "overlap_volume = calculate_overlap_volume(shape1, shape2)\n",
    "print(\"Overlap Volume:\", overlap_volume)\n",
    "\n",
    "start_display()"
   ]
  }
 ],
 "metadata": {
  "language_info": {
   "name": "python"
  }
 },
 "nbformat": 4,
 "nbformat_minor": 2
}
