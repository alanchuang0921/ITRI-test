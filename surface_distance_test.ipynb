{
 "cells": [
  {
   "cell_type": "code",
   "execution_count": 3,
   "metadata": {},
   "outputs": [],
   "source": [
    "import OCC.Extend.DataExchange\n",
    "from OCC.Core.IGESControl import IGESControl_Reader\n",
    "from OCC.Core.GProp import GProp_GProps\n",
    "from OCC.Core.BRepGProp import brepgprop_VolumeProperties\n",
    "from OCC.Display.SimpleGui import init_display\n",
    "from OCC.Extend.DataExchange import read_iges_file\n",
    "iges_file = r\"C:\\alan\\ITRI\\model\\cube_10x10x10.IGS\"\n",
    "model = read_iges_file(iges_file)"
   ]
  },
  {
   "cell_type": "code",
   "execution_count": 4,
   "metadata": {},
   "outputs": [
    {
     "ename": "TypeError",
     "evalue": "object of type 'TopoDS_Compound' has no len()",
     "output_type": "error",
     "traceback": [
      "\u001b[1;31m---------------------------------------------------------------------------\u001b[0m",
      "\u001b[1;31mTypeError\u001b[0m                                 Traceback (most recent call last)",
      "Cell \u001b[1;32mIn[4], line 32\u001b[0m\n\u001b[0;32m     29\u001b[0m surface_B \u001b[38;5;241m=\u001b[39m np\u001b[38;5;241m.\u001b[39mrandom\u001b[38;5;241m.\u001b[39mrand(\u001b[38;5;241m100\u001b[39m, \u001b[38;5;241m100\u001b[39m, \u001b[38;5;241m3\u001b[39m)  \u001b[38;5;66;03m# 生成一个随机曲面 B\u001b[39;00m\n\u001b[0;32m     31\u001b[0m \u001b[38;5;66;03m# 计算距离场\u001b[39;00m\n\u001b[1;32m---> 32\u001b[0m distances_A_to_B, distances_B_to_A \u001b[38;5;241m=\u001b[39m \u001b[43mdistance_field\u001b[49m\u001b[43m(\u001b[49m\u001b[43msurface_A\u001b[49m\u001b[43m,\u001b[49m\u001b[43m \u001b[49m\u001b[43msurface_B\u001b[49m\u001b[43m)\u001b[49m\n\u001b[0;32m     34\u001b[0m \u001b[38;5;66;03m# 计算距离差异\u001b[39;00m\n\u001b[0;32m     35\u001b[0m distance_difference \u001b[38;5;241m=\u001b[39m distances_B_to_A \u001b[38;5;241m-\u001b[39m distances_A_to_B\n",
      "Cell \u001b[1;32mIn[4], line 10\u001b[0m, in \u001b[0;36mdistance_field\u001b[1;34m(surface_A, surface_B)\u001b[0m\n\u001b[0;32m      7\u001b[0m distances_A_to_B \u001b[38;5;241m=\u001b[39m np\u001b[38;5;241m.\u001b[39mzeros_like(surface_A)  \u001b[38;5;66;03m# A 曲面上每个点到 B 曲面的距离\u001b[39;00m\n\u001b[0;32m      8\u001b[0m distances_B_to_A \u001b[38;5;241m=\u001b[39m np\u001b[38;5;241m.\u001b[39mzeros_like(surface_B)  \u001b[38;5;66;03m# B 曲面上每个点到 A 曲面的距离\u001b[39;00m\n\u001b[1;32m---> 10\u001b[0m \u001b[38;5;28;01mfor\u001b[39;00m i \u001b[38;5;129;01min\u001b[39;00m \u001b[38;5;28mrange\u001b[39m(\u001b[38;5;28;43mlen\u001b[39;49m\u001b[43m(\u001b[49m\u001b[43msurface_A\u001b[49m\u001b[43m)\u001b[49m):\n\u001b[0;32m     11\u001b[0m     \u001b[38;5;28;01mfor\u001b[39;00m j \u001b[38;5;129;01min\u001b[39;00m \u001b[38;5;28mrange\u001b[39m(\u001b[38;5;28mlen\u001b[39m(surface_A[i])):\n\u001b[0;32m     12\u001b[0m         distances_A_to_B[i, j] \u001b[38;5;241m=\u001b[39m distance_function(surface_A[i, j], surface_B)\n",
      "\u001b[1;31mTypeError\u001b[0m: object of type 'TopoDS_Compound' has no len()"
     ]
    }
   ],
   "source": [
    "%matplotlib inline\n",
    "import numpy as np\n",
    "import matplotlib.pyplot as plt\n",
    "\n",
    "# 计算距离场\n",
    "def distance_field(surface_A, surface_B):\n",
    "    distances_A_to_B = np.zeros_like(surface_A)  # A 曲面上每个点到 B 曲面的距离\n",
    "    distances_B_to_A = np.zeros_like(surface_B)  # B 曲面上每个点到 A 曲面的距离\n",
    "\n",
    "    for i in range(len(surface_A)):\n",
    "        for j in range(len(surface_A[i])):\n",
    "            distances_A_to_B[i, j] = distance_function(surface_A[i, j], surface_B)\n",
    "            distances_B_to_A[i, j] = distance_function(surface_B[i, j], surface_A)\n",
    "\n",
    "    return distances_A_to_B, distances_B_to_A\n",
    "\n",
    "# 计算距离函数\n",
    "def distance_function(point_on_surface_A, surface_B):\n",
    "    # 这里需要根据曲面 B 的形式来计算距离\n",
    "    # 这里只是一个示例，假设曲面 B 是一个球体\n",
    "    center_B = np.array([0, 0, 0])  # 假设球体的中心\n",
    "    radius_B = 1  # 假设球体的半径\n",
    "    distance = np.linalg.norm(point_on_surface_A - center_B) - radius_B\n",
    "    return distance\n",
    "\n",
    "# 生成曲面 A 和 B 上的点\n",
    "# 这里需要根据实际情况生成曲面 A 和 B 上的点，这里只是一个示例\n",
    "surface_A = model  # 生成一个随机曲面 A\n",
    "surface_B = np.random.rand(100, 100, 3)  # 生成一个随机曲面 B\n",
    "\n",
    "# 计算距离场\n",
    "distances_A_to_B, distances_B_to_A = distance_field(surface_A, surface_B)\n",
    "\n",
    "# 计算距离差异\n",
    "distance_difference = distances_B_to_A - distances_A_to_B\n",
    "\n",
    "# # 可视化距离差异\n",
    "plt.imshow(distance_difference, cmap='coolwarm', interpolation='nearest')\n",
    "plt.colorbar(label='Distance Difference')\n",
    "plt.title('Distance Difference between Surfaces A and B')\n",
    "plt.xlabel('X')\n",
    "plt.ylabel('Y')\n",
    "plt.show()"
   ]
  }
 ],
 "metadata": {
  "kernelspec": {
   "display_name": "pyoccenv",
   "language": "python",
   "name": "python3"
  },
  "language_info": {
   "codemirror_mode": {
    "name": "ipython",
    "version": 3
   },
   "file_extension": ".py",
   "mimetype": "text/x-python",
   "name": "python",
   "nbconvert_exporter": "python",
   "pygments_lexer": "ipython3",
   "version": "3.8.18"
  }
 },
 "nbformat": 4,
 "nbformat_minor": 2
}
