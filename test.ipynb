{
 "cells": [
  {
   "cell_type": "markdown",
   "metadata": {},
   "source": [
    "#### 體積測試"
   ]
  },
  {
   "cell_type": "code",
   "execution_count": 1,
   "metadata": {},
   "outputs": [],
   "source": [
    "from OCC.Display.SimpleGui import init_display\n",
    "from OCC.Extend.DataExchange import read_iges_file\n",
    "\n",
    "shapes = read_iges_file(r\"C:\\alan\\ITRI\\model\\cube.IGS\")\n",
    "# 初始化 3D 顯示環境\n",
    "display, start_display, add_menu, add_function_to_menu = init_display()\n",
    "display.DisplayShape(shapes, update=True)\n",
    "start_display()"
   ]
  },
  {
   "cell_type": "code",
   "execution_count": 1,
   "metadata": {},
   "outputs": [
    {
     "name": "stdout",
     "output_type": "stream",
     "text": [
      "Model Volume: -666666.6666666666\n"
     ]
    },
    {
     "name": "stderr",
     "output_type": "stream",
     "text": [
      "C:\\Users\\Martin\\AppData\\Local\\Temp\\ipykernel_216\\1813956207.py:26: DeprecationWarning: Call to deprecated function brepgprop_VolumeProperties since pythonocc-core 7.7.1. This function will be removed in a future release, please rather use the static method brepgprop.VolumeProperties\n",
      "  brepgprop_VolumeProperties(shape, mass_properties)\n"
     ]
    }
   ],
   "source": [
    "import OCC.Extend.DataExchange\n",
    "from OCC.Core.IGESControl import IGESControl_Reader\n",
    "from OCC.Core.GProp import GProp_GProps\n",
    "from OCC.Core.BRepGProp import brepgprop_VolumeProperties\n",
    "from OCC.Display.SimpleGui import init_display\n",
    "\n",
    "def read_iges_file(file_path):\n",
    "    reader = IGESControl_Reader()\n",
    "    status = reader.ReadFile(file_path)\n",
    "    if status == 0:\n",
    "        raise ValueError(\"Failed to read IGES file\")\n",
    "    reader.TransferRoots()\n",
    "    return reader\n",
    "\n",
    "def calculate_volume(iges_file):\n",
    "    # Read the IGES file\n",
    "    iges_reader = read_iges_file(iges_file)\n",
    "\n",
    "    # Get the top level shape\n",
    "    shape = iges_reader.OneShape()\n",
    "\n",
    "    # Calculate the volume of the shape\n",
    "    volume = 0.0\n",
    "    if not shape.IsNull():\n",
    "        mass_properties = GProp_GProps()\n",
    "        brepgprop_VolumeProperties(shape, mass_properties)\n",
    "        volume = mass_properties.Mass()\n",
    "    \n",
    "    return volume\n",
    "\n",
    "# Example usage:\n",
    "iges_file = r\"C:\\alan\\ITRI\\model\\cube.IGS\"\n",
    "model_volume = calculate_volume(iges_file)\n",
    "print(\"Model Volume:\", model_volume)"
   ]
  },
  {
   "cell_type": "markdown",
   "metadata": {},
   "source": [
    "#### 掃掠物體（填充物）"
   ]
  },
  {
   "cell_type": "code",
   "execution_count": 3,
   "metadata": {},
   "outputs": [
    {
     "ename": "NameError",
     "evalue": "name 'TColgp_Array1OfPnt' is not defined",
     "output_type": "error",
     "traceback": [
      "\u001b[1;31m---------------------------------------------------------------------------\u001b[0m",
      "\u001b[1;31mNameError\u001b[0m                                 Traceback (most recent call last)",
      "Cell \u001b[1;32mIn[3], line 7\u001b[0m\n\u001b[0;32m      4\u001b[0m \u001b[38;5;28;01mfrom\u001b[39;00m \u001b[38;5;21;01mOCC\u001b[39;00m\u001b[38;5;21;01m.\u001b[39;00m\u001b[38;5;21;01mCore\u001b[39;00m\u001b[38;5;21;01m.\u001b[39;00m\u001b[38;5;21;01mBRepOffsetAPI\u001b[39;00m \u001b[38;5;28;01mimport\u001b[39;00m BRepOffsetAPI_MakePipeShell\n\u001b[0;32m      6\u001b[0m \u001b[38;5;66;03m# Create a profile curve (for example, a circle)\u001b[39;00m\n\u001b[1;32m----> 7\u001b[0m profile_points \u001b[38;5;241m=\u001b[39m \u001b[43mTColgp_Array1OfPnt\u001b[49m(\u001b[38;5;241m1\u001b[39m, \u001b[38;5;28mlen\u001b[39m(profile_points))\n\u001b[0;32m      8\u001b[0m \u001b[38;5;28;01mfor\u001b[39;00m i, point \u001b[38;5;129;01min\u001b[39;00m \u001b[38;5;28menumerate\u001b[39m(profile_points):\n\u001b[0;32m      9\u001b[0m     profile_points\u001b[38;5;241m.\u001b[39mSetValue(i \u001b[38;5;241m+\u001b[39m \u001b[38;5;241m1\u001b[39m, point)\n",
      "\u001b[1;31mNameError\u001b[0m: name 'TColgp_Array1OfPnt' is not defined"
     ]
    }
   ],
   "source": [
    "from OCC.Core.BRepBuilderAPI import BRepBuilderAPI_MakeEdge, BRepBuilderAPI_MakeWire, BRepBuilderAPI_MakeFace, BRepBuilderAPI_MakeShell\n",
    "from OCC.Core.gp import gp_Pnt, gp_Vec\n",
    "from OCC.Core.GeomAPI import GeomAPI_PointsToBSpline\n",
    "from OCC.Core.BRepOffsetAPI import BRepOffsetAPI_MakePipeShell\n",
    "\n",
    "# Create a profile curve (for example, a circle)\n",
    "profile_points = TColgp_Array1OfPnt(1, len(profile_points))\n",
    "for i, point in enumerate(profile_points):\n",
    "    profile_points.SetValue(i + 1, point)\n",
    "profile_curve_geom = GeomAPI_PointsToBSpline(profile_points).Curve()\n",
    "\n",
    "# Create a guide curve (for example, a line)\n",
    "guide_points = TColgp_Array1OfPnt(1, len(guide_points))\n",
    "for i, point in enumerate(guide_points):\n",
    "    guide_points.SetValue(i + 1, point)\n",
    "guide_curve_geom = GeomAPI_PointsToBSpline(guide_points).Curve()\n",
    "\n",
    "# Create a wire from the profile curve\n",
    "profile_edge = BRepBuilderAPI_MakeEdge(profile_curve).Edge()\n",
    "profile_wire = BRepBuilderAPI_MakeWire(profile_edge).Wire()\n",
    "\n",
    "# Create the swept shell using BRepOffsetAPI_MakePipeShell\n",
    "pipe_shell_maker = BRepOffsetAPI_MakePipeShell(guide_curve)\n",
    "pipe_shell_maker.Add(profile_wire)\n",
    "pipe_shell_maker.Build()\n",
    "\n",
    "# Get the resulting shell\n",
    "result_shell = pipe_shell_maker.Shape()\n",
    "\n",
    "# Create a face from the shell (optional)\n",
    "result_face_maker = BRepBuilderAPI_MakeFace(result_shell)\n",
    "result_face_maker.Build()\n",
    "result_face = result_face_maker.Face()"
   ]
  }
 ],
 "metadata": {
  "kernelspec": {
   "display_name": "base",
   "language": "python",
   "name": "python3"
  },
  "language_info": {
   "codemirror_mode": {
    "name": "ipython",
    "version": 3
   },
   "file_extension": ".py",
   "mimetype": "text/x-python",
   "name": "python",
   "nbconvert_exporter": "python",
   "pygments_lexer": "ipython3",
   "version": "3.8.18"
  }
 },
 "nbformat": 4,
 "nbformat_minor": 2
}
