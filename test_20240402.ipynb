{
 "cells": [
  {
   "cell_type": "markdown",
   "metadata": {},
   "source": [
    "#### 體積測試"
   ]
  },
  {
   "cell_type": "code",
   "execution_count": 8,
   "metadata": {},
   "outputs": [],
   "source": [
    "from OCC.Display.SimpleGui import init_display\n",
    "from OCC.Extend.DataExchange import read_iges_file\n",
    "\n",
    "shapes = read_iges_file(r\"C:\\alan\\ITRI\\model\\cube.IGS\")\n",
    "# 初始化 3D 顯示環境\n",
    "display, start_display, add_menu, add_function_to_menu = init_display()\n",
    "display.DisplayShape(shapes, update=True)\n",
    "start_display()"
   ]
  },
  {
   "cell_type": "code",
   "execution_count": 2,
   "metadata": {},
   "outputs": [
    {
     "name": "stdout",
     "output_type": "stream",
     "text": [
      "Model Volume: -666666.6666666666\n"
     ]
    },
    {
     "name": "stderr",
     "output_type": "stream",
     "text": [
      "C:\\Users\\Martin\\AppData\\Local\\Temp\\ipykernel_5536\\1813956207.py:26: DeprecationWarning: Call to deprecated function brepgprop_VolumeProperties since pythonocc-core 7.7.1. This function will be removed in a future release, please rather use the static method brepgprop.VolumeProperties\n",
      "  brepgprop_VolumeProperties(shape, mass_properties)\n"
     ]
    }
   ],
   "source": [
    "import OCC.Extend.DataExchange\n",
    "from OCC.Core.IGESControl import IGESControl_Reader\n",
    "from OCC.Core.GProp import GProp_GProps\n",
    "from OCC.Core.BRepGProp import brepgprop_VolumeProperties\n",
    "from OCC.Display.SimpleGui import init_display\n",
    "\n",
    "def read_iges_file(file_path):\n",
    "    reader = IGESControl_Reader()\n",
    "    status = reader.ReadFile(file_path)\n",
    "    if status == 0:\n",
    "        raise ValueError(\"Failed to read IGES file\")\n",
    "    reader.TransferRoots()\n",
    "    return reader\n",
    "\n",
    "def calculate_volume(iges_file):\n",
    "    # Read the IGES file\n",
    "    iges_reader = read_iges_file(iges_file)\n",
    "\n",
    "    # Get the top level shape\n",
    "    shape = iges_reader.OneShape()\n",
    "\n",
    "    # Calculate the volume of the shape\n",
    "    volume = 0.0\n",
    "    if not shape.IsNull():\n",
    "        mass_properties = GProp_GProps()\n",
    "        brepgprop_VolumeProperties(shape, mass_properties)\n",
    "        volume = mass_properties.Mass()\n",
    "    \n",
    "    return volume\n",
    "\n",
    "# Example usage:\n",
    "iges_file = r\"C:\\alan\\ITRI\\model\\cube.IGS\"\n",
    "model_volume = calculate_volume(iges_file)\n",
    "print(\"Model Volume:\", model_volume)"
   ]
  },
  {
   "cell_type": "markdown",
   "metadata": {},
   "source": [
    "#### 掃掠物體（填充物）"
   ]
  },
  {
   "cell_type": "code",
   "execution_count": 3,
   "metadata": {},
   "outputs": [],
   "source": [
    "from OCC.Core.BRepPrimAPI import BRepPrimAPI_MakeSphere, BRepPrimAPI_MakeCylinder\n",
    "from OCC.Core.GC import GC_MakeSegment\n",
    "from OCC.Core.GeomAPI import GeomAPI_PointsToBSpline\n",
    "from OCC.Core.GeomLProp import GeomLProp_SurfaceTool\n",
    "from OCC.Core.ShapeAnalysis import ShapeAnalysis_FreeBoundsProperties\n",
    "from OCC.Core.BRepOffsetAPI import BRepOffsetAPI_ThruSections\n",
    "from OCC.Core.GeomFill import GeomFill_Pipe\n",
    "from OCC.Core.TopoDS import TopoDS_Compound\n",
    "from OCC.Core.BRep import BRep_Tool_Surface\n",
    "from OCC.Core.BRepBuilderAPI import BRepBuilderAPI_MakeFace\n",
    "from OCC.Core.TopExp import TopExp_Explorer"
   ]
  },
  {
   "cell_type": "code",
   "execution_count": 4,
   "metadata": {},
   "outputs": [
    {
     "name": "stderr",
     "output_type": "stream",
     "text": [
      "Exception in Tkinter callback\n",
      "Traceback (most recent call last):\n",
      "  File \"c:\\Users\\Martin\\anaconda3\\envs\\pyoccenv\\lib\\tkinter\\__init__.py\", line 1892, in __call__\n",
      "    return self.func(*args)\n",
      "  File \"c:\\Users\\Martin\\anaconda3\\envs\\pyoccenv\\lib\\site-packages\\OCC\\Display\\tkDisplay.py\", line 62, in Zoom\n",
      "    self._display.ZoomFactor(zoom_factor)\n",
      "UnboundLocalError: local variable 'zoom_factor' referenced before assignment\n",
      "Exception in Tkinter callback\n",
      "Traceback (most recent call last):\n",
      "  File \"c:\\Users\\Martin\\anaconda3\\envs\\pyoccenv\\lib\\tkinter\\__init__.py\", line 1892, in __call__\n",
      "    return self.func(*args)\n",
      "  File \"c:\\Users\\Martin\\anaconda3\\envs\\pyoccenv\\lib\\site-packages\\OCC\\Display\\tkDisplay.py\", line 62, in Zoom\n",
      "    self._display.ZoomFactor(zoom_factor)\n",
      "UnboundLocalError: local variable 'zoom_factor' referenced before assignment\n",
      "Exception in Tkinter callback\n",
      "Traceback (most recent call last):\n",
      "  File \"c:\\Users\\Martin\\anaconda3\\envs\\pyoccenv\\lib\\tkinter\\__init__.py\", line 1892, in __call__\n",
      "    return self.func(*args)\n",
      "  File \"c:\\Users\\Martin\\anaconda3\\envs\\pyoccenv\\lib\\site-packages\\OCC\\Display\\tkDisplay.py\", line 62, in Zoom\n",
      "    self._display.ZoomFactor(zoom_factor)\n",
      "UnboundLocalError: local variable 'zoom_factor' referenced before assignment\n",
      "Exception in Tkinter callback\n",
      "Traceback (most recent call last):\n",
      "  File \"c:\\Users\\Martin\\anaconda3\\envs\\pyoccenv\\lib\\tkinter\\__init__.py\", line 1892, in __call__\n",
      "    return self.func(*args)\n",
      "  File \"c:\\Users\\Martin\\anaconda3\\envs\\pyoccenv\\lib\\site-packages\\OCC\\Display\\tkDisplay.py\", line 62, in Zoom\n",
      "    self._display.ZoomFactor(zoom_factor)\n",
      "UnboundLocalError: local variable 'zoom_factor' referenced before assignment\n",
      "Exception in Tkinter callback\n",
      "Traceback (most recent call last):\n",
      "  File \"c:\\Users\\Martin\\anaconda3\\envs\\pyoccenv\\lib\\tkinter\\__init__.py\", line 1892, in __call__\n",
      "    return self.func(*args)\n",
      "  File \"c:\\Users\\Martin\\anaconda3\\envs\\pyoccenv\\lib\\site-packages\\OCC\\Display\\tkDisplay.py\", line 62, in Zoom\n",
      "    self._display.ZoomFactor(zoom_factor)\n",
      "UnboundLocalError: local variable 'zoom_factor' referenced before assignment\n"
     ]
    }
   ],
   "source": [
    "# 函數作用: 通過兩點生成線段\n",
    "from OCC.Core.gp import gp_Pnt\n",
    "from OCC.Core.GC import GC_MakeSegment\n",
    "from OCC.Core.BRepBuilderAPI import BRepBuilderAPI_MakeEdge, BRepBuilderAPI_MakeWire\n",
    "from OCC.Display.SimpleGui import init_display\n",
    "# 輸入: 兩個點\n",
    "# 輸出: 線段\n",
    "# def generate_segment(point1, point2):\n",
    "#     aSegment = GC_MakeSegment(gp_Pnt(*point1), gp_Pnt(*point2))\n",
    "#     anEdge = BRepBuilderAPI_MakeEdge(aSegment.Value())\n",
    "#     aWire = BRepBuilderAPI_MakeWire(anEdge.Edge())\n",
    "#     return aWire.Shape()\n",
    "\n",
    "aSegment = GC_MakeSegment(gp_Pnt(0,0,0), gp_Pnt(15,0,0))\n",
    "anEdge = BRepBuilderAPI_MakeEdge(aSegment.Value())\n",
    "aWire = BRepBuilderAPI_MakeWire(anEdge.Edge())\n",
    "\n",
    "#生成兩段線段\n",
    "# E21=BRepBuilderAPI_MakeEdge(gp_Pnt(40,0,10),gp_Pnt(82.5,25,10)).Edge()\n",
    "# E22=BRepBuilderAPI_MakeEdge(gp_Pnt(82.5,25,10),gp_Pnt(42.5,93,10)).Edge()\n",
    "# W2=BRepBuilderAPI_MakeWire(E21,E22)\n",
    "\n",
    "if __name__ == \"__main__\":\n",
    "    display, start_display, add_menu, add_function_to_menu = init_display()\n",
    "    display.DisplayShape(aWire.Shape(), update=True)\n",
    "    # display.FitAll()\n",
    "    start_display()"
   ]
  },
  {
   "cell_type": "code",
   "execution_count": 5,
   "metadata": {},
   "outputs": [],
   "source": [
    "#根據引導軌跡掃出圖形\n",
    "from OCC.Core.BRepBuilderAPI import BRepBuilderAPI_MakeEdge, BRepBuilderAPI_MakeWire,BRepBuilderAPI_MakeFace\n",
    "from OCC.Core.BRepOffsetAPI import BRepOffsetAPI_MakePipe\n",
    "from OCC.Core.gp import gp_Circ, gp_Ax2, gp_Pnt, gp_Dir\n",
    "from OCC.Display.SimpleGui import init_display\n",
    "\n",
    "E21=BRepBuilderAPI_MakeEdge(gp_Pnt(40,0,10),gp_Pnt(82.5,25,10)).Edge()\n",
    "E22=BRepBuilderAPI_MakeEdge(gp_Pnt(82.5,25,10),gp_Pnt(42.5,93,10)).Edge()\n",
    "W2=BRepBuilderAPI_MakeWire(E21,E22)\n",
    "\n",
    "#(以圓作為截面)\n",
    "c=gp_Circ(gp_Ax2(gp_Pnt(0,0,0),gp_Dir(42.5,25,0)),10)\n",
    "\n",
    "Ec = BRepBuilderAPI_MakeEdge(c).Edge()\n",
    "Wc = BRepBuilderAPI_MakeWire(Ec).Wire()\n",
    "F=BRepBuilderAPI_MakeFace(Wc, True)\n",
    "S=BRepOffsetAPI_MakePipe(W2.Wire(), F.Shape())#第一个参数轨迹线,第二个参数是轮廟\n",
    "\n",
    "\n",
    "display, start_display, add_menu, add_function_to_menu = init_display()\n",
    "display.DisplayShape(S.Shape(),update=True)\n",
    "start_display()"
   ]
  },
  {
   "cell_type": "code",
   "execution_count": 15,
   "metadata": {},
   "outputs": [
    {
     "name": "stdout",
     "output_type": "stream",
     "text": [
      "[0. 1. 0.]\n",
      "[-15   0   0]\n",
      "[0. 2. 2.]\n",
      "[ 0.  2. -2.]\n",
      "[ 0. -5. -5.]\n",
      "[ 0. -5.  5.]\n"
     ]
    }
   ],
   "source": [
    "#根據引導軌跡掃出圖形\n",
    "from OCC.Core.gp import gp_Pnt, gp_Vec, gp_Dir\n",
    "from OCC.Core.BRepBuilderAPI import BRepBuilderAPI_MakeEdge, BRepBuilderAPI_MakeWire\n",
    "import numpy as np\n",
    "\n",
    "#input\n",
    "#normal_vector\n",
    "normal_vector=np.array((0,1,0))\n",
    "magnitude = np.linalg.norm(normal_vector)# 將向量除以其範數以得到單位向量\n",
    "normal_vector = normal_vector/ magnitude\n",
    "print(normal_vector)\n",
    "\n",
    "#two point_position\n",
    "point_start=np.array((0,0,0))\n",
    "point_end=np.array((15,0,0))\n",
    "tan_vector=point_start-point_end\n",
    "print(tan_vector)\n",
    "\n",
    "#direction_1\n",
    "dir_1= np.cross(normal_vector, tan_vector)\n",
    "magnitude = np.linalg.norm(dir_1)# 將向量除以其範數以得到單位向量\n",
    "dir_1 = dir_1/ magnitude\n",
    "\n",
    "# 定義截面為方形\n",
    "# 定義方形的四個頂點\n",
    "point_1=point_start+normal_vector*2+dir_1*2\n",
    "point_2=point_start+normal_vector*2-dir_1*2\n",
    "point_3=point_start-normal_vector*5-dir_1*5\n",
    "point_4=point_start-normal_vector*5+dir_1*5\n",
    "p1 = gp_Pnt(point_1[0], point_1[1], point_1[2])\n",
    "p2 = gp_Pnt(point_2[0], point_2[1], point_2[2])\n",
    "p3 = gp_Pnt(point_3[0], point_3[1], point_3[2])\n",
    "p4 = gp_Pnt(point_4[0], point_4[1], point_4[2])\n",
    "print(point_1)\n",
    "print(point_2)\n",
    "print(point_3)\n",
    "print(point_4)\n",
    "# 使用這些頂點創建方形的邊緣\n",
    "edge1 = BRepBuilderAPI_MakeEdge(p1, p2).Edge()\n",
    "edge2 = BRepBuilderAPI_MakeEdge(p2, p3).Edge()\n",
    "edge3 = BRepBuilderAPI_MakeEdge(p3, p4).Edge()\n",
    "edge4 = BRepBuilderAPI_MakeEdge(p4, p1).Edge()\n",
    "\n",
    "# 使用這些邊緣創建方形的線框\n",
    "square_wire = BRepBuilderAPI_MakeWire(edge1, edge2, edge3, edge4).Wire()\n",
    "\n",
    "# 將線框轉換為面，作為截面\n",
    "F = BRepBuilderAPI_MakeFace(square_wire, True)\n",
    "S=BRepOffsetAPI_MakePipe(aWire.Wire(), F.Shape())#第一个参数轨迹线,第二个参数是轮廟\n",
    "\n",
    "\n",
    "display, start_display, add_menu, add_function_to_menu = init_display()\n",
    "display.DisplayShape(S.Shape(),update=True)\n",
    "start_display()"
   ]
  },
  {
   "cell_type": "markdown",
   "metadata": {},
   "source": [
    "#### 相減測試"
   ]
  },
  {
   "cell_type": "code",
   "execution_count": 10,
   "metadata": {},
   "outputs": [],
   "source": [
    "from OCC.Core.gp import gp_Pnt\n",
    "from OCC.Core.BRepPrimAPI import BRepPrimAPI_MakeBox, BRepPrimAPI_MakeSphere\n",
    "from OCC.Core.BRepAlgoAPI import BRepAlgoAPI_Cut\n",
    "from OCC.Display.SimpleGui import init_display\n",
    "\n",
    "# 创建一个长方体\n",
    "box = BRepPrimAPI_MakeBox(10, 10, 10).Shape()\n",
    "\n",
    "# 创建一个球体\n",
    "sphere = BRepPrimAPI_MakeSphere(gp_Pnt(5, 5, 5), 6).Shape()\n",
    "\n",
    "# 创建一个几何切割对象\n",
    "cut_algo = BRepAlgoAPI_Cut(box, sphere)\n",
    "\n",
    "# 执行几何切割操作\n",
    "cut_result = cut_algo.Shape()\n",
    "\n",
    "# 显示结果\n",
    "display, start_display, add_menu, add_function_to_menu = init_display()\n",
    "# display.DisplayShape(box, update=True)\n",
    "# display.DisplayShape(sphere, update=True)\n",
    "display.DisplayShape(cut_result, update=True)\n",
    "start_display()"
   ]
  },
  {
   "cell_type": "code",
   "execution_count": 58,
   "metadata": {},
   "outputs": [],
   "source": [
    "from OCC.Core.gp import gp_Pnt\n",
    "from OCC.Core.BRepPrimAPI import BRepPrimAPI_MakeBox, BRepPrimAPI_MakeSphere\n",
    "from OCC.Core.BRepAlgoAPI import BRepAlgoAPI_Common\n",
    "from OCC.Display.SimpleGui import init_display\n",
    "\n",
    "# 创建一个长方体\n",
    "box = BRepPrimAPI_MakeBox(10, 10, 10).Shape()\n",
    "\n",
    "# 创建一个球体\n",
    "sphere = BRepPrimAPI_MakeSphere(gp_Pnt(5, 5, 5), 6).Shape()\n",
    "\n",
    "# 创建一个几何相交对象\n",
    "common_algo = BRepAlgoAPI_Common(box, sphere)\n",
    "\n",
    "# 执行几何相交操作\n",
    "common_result = common_algo.Shape()\n",
    "\n",
    "# 显示结果\n",
    "display, start_display, add_menu, add_function_to_menu = init_display()\n",
    "# display.DisplayShape(box, update=True)\n",
    "# display.DisplayShape(sphere, update=True)\n",
    "display.DisplayShape(common_result, update=True)\n",
    "start_display()"
   ]
  },
  {
   "cell_type": "code",
   "execution_count": 16,
   "metadata": {},
   "outputs": [],
   "source": [
    "from OCC.Core.gp import gp_Pnt\n",
    "from OCC.Core.BRepPrimAPI import BRepPrimAPI_MakeBox, BRepPrimAPI_MakeSphere\n",
    "from OCC.Core.BRepAlgoAPI import BRepAlgoAPI_Cut\n",
    "from OCC.Display.SimpleGui import init_display\n",
    "\n",
    "\n",
    "# 创建一个球体\n",
    "sphere = BRepPrimAPI_MakeSphere(gp_Pnt(5, 0, 0), 6).Shape()\n",
    "\n",
    "# 创建一个几何切割对象\n",
    "cut_algo = BRepAlgoAPI_Cut(sphere,S.Shape() )\n",
    "\n",
    "# 执行几何切割操作\n",
    "cut_result = cut_algo.Shape()\n",
    "\n",
    "# 显示结果\n",
    "display, start_display, add_menu, add_function_to_menu = init_display()\n",
    "# display.DisplayShape(box, update=True)\n",
    "# display.DisplayShape(sphere, update=True)\n",
    "display.DisplayShape(cut_result, update=True)\n",
    "start_display()"
   ]
  }
 ],
 "metadata": {
  "kernelspec": {
   "display_name": "base",
   "language": "python",
   "name": "python3"
  },
  "language_info": {
   "codemirror_mode": {
    "name": "ipython",
    "version": 3
   },
   "file_extension": ".py",
   "mimetype": "text/x-python",
   "name": "python",
   "nbconvert_exporter": "python",
   "pygments_lexer": "ipython3",
   "version": "3.8.18"
  }
 },
 "nbformat": 4,
 "nbformat_minor": 2
}
