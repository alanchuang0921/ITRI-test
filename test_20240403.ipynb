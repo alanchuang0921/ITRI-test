{
 "cells": [
  {
   "cell_type": "markdown",
   "metadata": {},
   "source": [
    "## 讀取模型IGS"
   ]
  },
  {
   "cell_type": "code",
   "execution_count": 13,
   "metadata": {},
   "outputs": [],
   "source": [
    "import OCC.Extend.DataExchange\n",
    "from OCC.Core.IGESControl import IGESControl_Reader\n",
    "from OCC.Core.GProp import GProp_GProps\n",
    "from OCC.Core.BRepGProp import brepgprop_VolumeProperties\n",
    "from OCC.Display.SimpleGui import init_display\n",
    "from OCC.Extend.DataExchange import read_iges_file\n",
    "\n",
    "\n",
    "#讀取模型\n",
    "iges_file = r\"C:\\alan\\ITRI\\model\\cube_10x10x10.IGS\"\n",
    "model = read_iges_file(iges_file)\n",
    "# Get the top level shape\n",
    "# model = iges_reader.OneShape()\n",
    "\n",
    "# 初始化 3D 顯示環境\n",
    "display, start_display, add_menu, add_function_to_menu = init_display()\n",
    "display.DisplayShape(model, update=True)\n",
    "start_display()\n"
   ]
  },
  {
   "cell_type": "markdown",
   "metadata": {},
   "source": [
    "## 生成線段(input:兩點座標)"
   ]
  },
  {
   "cell_type": "code",
   "execution_count": 33,
   "metadata": {},
   "outputs": [],
   "source": [
    "# 函數作用: 通過兩點生成線段\n",
    "from OCC.Core.gp import gp_Pnt\n",
    "from OCC.Core.GC import GC_MakeSegment\n",
    "from OCC.Core.BRepBuilderAPI import BRepBuilderAPI_MakeEdge, BRepBuilderAPI_MakeWire\n",
    "from OCC.Display.SimpleGui import init_display\n",
    "\n",
    "import numpy as np\n",
    "\n",
    "# 輸入: 兩個點\n",
    "# 輸出: 線段\n",
    "# def generate_segment(point1, point2):\n",
    "#     aSegment = GC_MakeSegment(gp_Pnt(*point1), gp_Pnt(*point2))\n",
    "#     anEdge = BRepBuilderAPI_MakeEdge(aSegment.Value())\n",
    "#     aWire = BRepBuilderAPI_MakeWire(anEdge.Edge())\n",
    "#     return aWire.Shape()\n",
    "\n",
    "point_start=np.array((-5,5,0))\n",
    "point_end=np.array((5,5,0))\n",
    "\n",
    "point_start=gp_Pnt(float(point_start[0]),float(point_start[1]), float(point_start[2]))\n",
    "point_end=gp_Pnt(float(point_end[0]),float(point_end[1]), float(point_end[2]))\n",
    "# print(point_start[0])\n",
    "# p_start = gp_Pnt(point_start[0], point_start[1], point_start[2])\n",
    "# p_end = gp_Pnt(point_start[0], point_start[1], point_start[2])\n",
    "\n",
    "aSegment = GC_MakeSegment(point_start, point_end )\n",
    "anEdge = BRepBuilderAPI_MakeEdge(aSegment.Value())\n",
    "aWire = BRepBuilderAPI_MakeWire(anEdge.Edge())\n",
    "\n",
    "#生成兩段線段\n",
    "# E21=BRepBuilderAPI_MakeEdge(gp_Pnt(40,0,10),gp_Pnt(82.5,25,10)).Edge()\n",
    "# E22=BRepBuilderAPI_MakeEdge(gp_Pnt(82.5,25,10),gp_Pnt(42.5,93,10)).Edge()\n",
    "# W2=BRepBuilderAPI_MakeWire(E21,E22)\n",
    "\n",
    "if __name__ == \"__main__\":\n",
    "    display, start_display, add_menu, add_function_to_menu = init_display()\n",
    "    display.DisplayShape(aWire.Shape(), update=True)\n",
    "    # display.FitAll()\n",
    "    start_display()"
   ]
  },
  {
   "cell_type": "markdown",
   "metadata": {},
   "source": [
    "## 掃除範圍生成(input:起始點的法向量rxryrz)"
   ]
  },
  {
   "cell_type": "code",
   "execution_count": 9,
   "metadata": {},
   "outputs": [
    {
     "name": "stdout",
     "output_type": "stream",
     "text": [
      "[-10   0   0]\n"
     ]
    },
    {
     "name": "stderr",
     "output_type": "stream",
     "text": [
      "Exception in Tkinter callback\n",
      "Traceback (most recent call last):\n",
      "  File \"c:\\Users\\Martin\\anaconda3\\envs\\pyoccenv\\lib\\tkinter\\__init__.py\", line 1892, in __call__\n",
      "    return self.func(*args)\n",
      "  File \"c:\\Users\\Martin\\anaconda3\\envs\\pyoccenv\\lib\\site-packages\\OCC\\Display\\tkDisplay.py\", line 62, in Zoom\n",
      "    self._display.ZoomFactor(zoom_factor)\n",
      "UnboundLocalError: local variable 'zoom_factor' referenced before assignment\n"
     ]
    }
   ],
   "source": [
    "#根據引導軌跡掃出圖形\n",
    "from OCC.Core.gp import gp_Pnt, gp_Vec, gp_Dir\n",
    "from OCC.Core.BRepBuilderAPI import BRepBuilderAPI_MakeEdge, BRepBuilderAPI_MakeWire,BRepBuilderAPI_MakeFace\n",
    "from OCC.Core.BRepOffsetAPI import BRepOffsetAPI_MakePipe\n",
    "from OCC.Core.gp import gp_Circ, gp_Ax2, gp_Pnt, gp_Dir\n",
    "from OCC.Display.SimpleGui import init_display\n",
    "import numpy as np\n",
    "\n",
    "#input\n",
    "#normal_vector\n",
    "normal_vector=np.array((0,1,0))\n",
    "magnitude = np.linalg.norm(normal_vector)# 將向量除以其範數以得到單位向量\n",
    "normal_vector = normal_vector/ magnitude\n",
    "\n",
    "#two point_position\n",
    "tan_vector=point_start-point_end\n",
    "print(tan_vector)\n",
    "\n",
    "#direction_1\n",
    "dir_1= np.cross(normal_vector, tan_vector)\n",
    "magnitude = np.linalg.norm(dir_1)# 將向量除以其範數以得到單位向量\n",
    "dir_1 = dir_1/ magnitude\n",
    "\n",
    "# 定義截面為方形\n",
    "# 定義方形的四個頂點\n",
    "point_1=point_start+normal_vector*0.5+dir_1*2\n",
    "point_2=point_start+normal_vector*0.5-dir_1*2\n",
    "point_3=point_start-normal_vector*0.5-dir_1*2\n",
    "point_4=point_start-normal_vector*0.5+dir_1*2\n",
    "p1 = gp_Pnt(point_1[0], point_1[1], point_1[2])\n",
    "p2 = gp_Pnt(point_2[0], point_2[1], point_2[2])\n",
    "p3 = gp_Pnt(point_3[0], point_3[1], point_3[2])\n",
    "p4 = gp_Pnt(point_4[0], point_4[1], point_4[2])\n",
    "\n",
    "# 使用這些頂點創建方形的邊緣\n",
    "edge1 = BRepBuilderAPI_MakeEdge(p1, p2).Edge()\n",
    "edge2 = BRepBuilderAPI_MakeEdge(p2, p3).Edge()\n",
    "edge3 = BRepBuilderAPI_MakeEdge(p3, p4).Edge()\n",
    "edge4 = BRepBuilderAPI_MakeEdge(p4, p1).Edge()\n",
    "\n",
    "# 使用這些邊緣創建方形的線框\n",
    "square_wire = BRepBuilderAPI_MakeWire(edge1, edge2, edge3, edge4).Wire()\n",
    "\n",
    "# 將線框轉換為面，作為截面\n",
    "F = BRepBuilderAPI_MakeFace(square_wire, True)\n",
    "S=BRepOffsetAPI_MakePipe(aWire.Wire(), F.Shape())#第一个参数轨迹线,第二个参数是轮廟\n",
    "\n",
    "\n",
    "display, start_display, add_menu, add_function_to_menu = init_display()  \n",
    "display.DisplayShape(S.Shape(),update=True)\n",
    "start_display()"
   ]
  },
  {
   "cell_type": "markdown",
   "metadata": {},
   "source": [
    "## 對物件進行掃除"
   ]
  },
  {
   "cell_type": "code",
   "execution_count": 10,
   "metadata": {},
   "outputs": [
    {
     "name": "stderr",
     "output_type": "stream",
     "text": [
      "Exception in Tkinter callback\n",
      "Traceback (most recent call last):\n",
      "  File \"c:\\Users\\Martin\\anaconda3\\envs\\pyoccenv\\lib\\tkinter\\__init__.py\", line 1892, in __call__\n",
      "    return self.func(*args)\n",
      "  File \"c:\\Users\\Martin\\anaconda3\\envs\\pyoccenv\\lib\\site-packages\\OCC\\Display\\tkDisplay.py\", line 62, in Zoom\n",
      "    self._display.ZoomFactor(zoom_factor)\n",
      "UnboundLocalError: local variable 'zoom_factor' referenced before assignment\n",
      "Exception in Tkinter callback\n",
      "Traceback (most recent call last):\n",
      "  File \"c:\\Users\\Martin\\anaconda3\\envs\\pyoccenv\\lib\\tkinter\\__init__.py\", line 1892, in __call__\n",
      "    return self.func(*args)\n",
      "  File \"c:\\Users\\Martin\\anaconda3\\envs\\pyoccenv\\lib\\site-packages\\OCC\\Display\\tkDisplay.py\", line 62, in Zoom\n",
      "    self._display.ZoomFactor(zoom_factor)\n",
      "UnboundLocalError: local variable 'zoom_factor' referenced before assignment\n",
      "Exception in Tkinter callback\n",
      "Traceback (most recent call last):\n",
      "  File \"c:\\Users\\Martin\\anaconda3\\envs\\pyoccenv\\lib\\tkinter\\__init__.py\", line 1892, in __call__\n",
      "    return self.func(*args)\n",
      "  File \"c:\\Users\\Martin\\anaconda3\\envs\\pyoccenv\\lib\\site-packages\\OCC\\Display\\tkDisplay.py\", line 62, in Zoom\n",
      "    self._display.ZoomFactor(zoom_factor)\n",
      "UnboundLocalError: local variable 'zoom_factor' referenced before assignment\n",
      "Exception in Tkinter callback\n",
      "Traceback (most recent call last):\n",
      "  File \"c:\\Users\\Martin\\anaconda3\\envs\\pyoccenv\\lib\\tkinter\\__init__.py\", line 1892, in __call__\n",
      "    return self.func(*args)\n",
      "  File \"c:\\Users\\Martin\\anaconda3\\envs\\pyoccenv\\lib\\site-packages\\OCC\\Display\\tkDisplay.py\", line 62, in Zoom\n",
      "    self._display.ZoomFactor(zoom_factor)\n",
      "UnboundLocalError: local variable 'zoom_factor' referenced before assignment\n",
      "Exception in Tkinter callback\n",
      "Traceback (most recent call last):\n",
      "  File \"c:\\Users\\Martin\\anaconda3\\envs\\pyoccenv\\lib\\tkinter\\__init__.py\", line 1892, in __call__\n",
      "    return self.func(*args)\n",
      "  File \"c:\\Users\\Martin\\anaconda3\\envs\\pyoccenv\\lib\\site-packages\\OCC\\Display\\tkDisplay.py\", line 62, in Zoom\n",
      "    self._display.ZoomFactor(zoom_factor)\n",
      "UnboundLocalError: local variable 'zoom_factor' referenced before assignment\n",
      "Exception in Tkinter callback\n",
      "Traceback (most recent call last):\n",
      "  File \"c:\\Users\\Martin\\anaconda3\\envs\\pyoccenv\\lib\\tkinter\\__init__.py\", line 1892, in __call__\n",
      "    return self.func(*args)\n",
      "  File \"c:\\Users\\Martin\\anaconda3\\envs\\pyoccenv\\lib\\site-packages\\OCC\\Display\\tkDisplay.py\", line 62, in Zoom\n",
      "    self._display.ZoomFactor(zoom_factor)\n",
      "UnboundLocalError: local variable 'zoom_factor' referenced before assignment\n",
      "Exception in Tkinter callback\n",
      "Traceback (most recent call last):\n",
      "  File \"c:\\Users\\Martin\\anaconda3\\envs\\pyoccenv\\lib\\tkinter\\__init__.py\", line 1892, in __call__\n",
      "    return self.func(*args)\n",
      "  File \"c:\\Users\\Martin\\anaconda3\\envs\\pyoccenv\\lib\\site-packages\\OCC\\Display\\tkDisplay.py\", line 62, in Zoom\n",
      "    self._display.ZoomFactor(zoom_factor)\n",
      "UnboundLocalError: local variable 'zoom_factor' referenced before assignment\n",
      "Exception in Tkinter callback\n",
      "Traceback (most recent call last):\n",
      "  File \"c:\\Users\\Martin\\anaconda3\\envs\\pyoccenv\\lib\\tkinter\\__init__.py\", line 1892, in __call__\n",
      "    return self.func(*args)\n",
      "  File \"c:\\Users\\Martin\\anaconda3\\envs\\pyoccenv\\lib\\site-packages\\OCC\\Display\\tkDisplay.py\", line 62, in Zoom\n",
      "    self._display.ZoomFactor(zoom_factor)\n",
      "UnboundLocalError: local variable 'zoom_factor' referenced before assignment\n",
      "Exception in Tkinter callback\n",
      "Traceback (most recent call last):\n",
      "  File \"c:\\Users\\Martin\\anaconda3\\envs\\pyoccenv\\lib\\tkinter\\__init__.py\", line 1892, in __call__\n",
      "    return self.func(*args)\n",
      "  File \"c:\\Users\\Martin\\anaconda3\\envs\\pyoccenv\\lib\\site-packages\\OCC\\Display\\tkDisplay.py\", line 62, in Zoom\n",
      "    self._display.ZoomFactor(zoom_factor)\n",
      "UnboundLocalError: local variable 'zoom_factor' referenced before assignment\n"
     ]
    }
   ],
   "source": [
    "from OCC.Core.gp import gp_Pnt\n",
    "from OCC.Core.BRepPrimAPI import BRepPrimAPI_MakeBox, BRepPrimAPI_MakeSphere\n",
    "from OCC.Core.BRepAlgoAPI import BRepAlgoAPI_Cut\n",
    "from OCC.Display.SimpleGui import init_display\n",
    "from OCC.Core.IGESControl import IGESControl_Reader\n",
    "\n",
    "# #讀取模型\n",
    "# iges_file = r\"C:\\alan\\ITRI\\model\\cube.IGS\"\n",
    "# iges_reader = read_iges_file(iges_file)\n",
    "# # Get the top level shape\n",
    "# model = iges_reader.OneShape()\n",
    "\n",
    "# # 创建一个长方体\n",
    "box = BRepPrimAPI_MakeBox(10, 10, 10).Shape()\n",
    "\n",
    "# 创建一个几何切割对象\n",
    "cut_algo = BRepAlgoAPI_Cut(box,S.Shape() )\n",
    "\n",
    "# 执行几何切割操作\n",
    "cut_result = cut_algo.Shape()\n",
    "\n",
    "# 显示结果\n",
    "display, start_display, add_menu, add_function_to_menu = init_display()\n",
    "\n",
    "# display.DisplayShape(box, update=True)\n",
    "# display.DisplayShape(sphere, update=True)\n",
    "display.DisplayShape(cut_result, update=True)\n",
    "start_display()"
   ]
  },
  {
   "cell_type": "markdown",
   "metadata": {},
   "source": [
    "## 計算掃除體積"
   ]
  },
  {
   "cell_type": "code",
   "execution_count": 11,
   "metadata": {},
   "outputs": [
    {
     "name": "stdout",
     "output_type": "stream",
     "text": [
      "Model Volume: -666.6666666666669\n",
      "Model Volume: 989.9999999999999\n"
     ]
    },
    {
     "name": "stderr",
     "output_type": "stream",
     "text": [
      "C:\\Users\\Martin\\AppData\\Local\\Temp\\ipykernel_2196\\1102814728.py:13: DeprecationWarning: Call to deprecated function brepgprop_VolumeProperties since pythonocc-core 7.7.1. This function will be removed in a future release, please rather use the static method brepgprop.VolumeProperties\n",
      "  brepgprop_VolumeProperties(topods_shape, volume_props)\n",
      "C:\\Users\\Martin\\AppData\\Local\\Temp\\ipykernel_2196\\1102814728.py:13: DeprecationWarning: Call to deprecated function brepgprop_VolumeProperties since pythonocc-core 7.7.1. This function will be removed in a future release, please rather use the static method brepgprop.VolumeProperties\n",
      "  brepgprop_VolumeProperties(topods_shape, volume_props)\n"
     ]
    }
   ],
   "source": [
    "from OCC.Core.BRepGProp import brepgprop_VolumeProperties\n",
    "from OCC.Core.GProp import GProp_GProps\n",
    "from OCC.Core.TopExp import TopExp_Explorer\n",
    "from OCC.Core.TopoDS import TopoDS_Shape\n",
    "\n",
    "def calculate_volume(shape):\n",
    "    # 將 shape 轉換為 TopoDS_Shape\n",
    "    topods_shape = TopoDS_Shape(shape)\n",
    "    # 初始化體積屬性\n",
    "    volume_props = GProp_GProps()\n",
    "\n",
    "    # 計算體積屬性\n",
    "    brepgprop_VolumeProperties(topods_shape, volume_props)\n",
    "\n",
    "    # 獲取體積\n",
    "    volume = volume_props.Mass()\n",
    "    \n",
    "    return volume\n",
    "\n",
    "# 假設您已經有一個名為 model 的形狀\n",
    "volume_origin = calculate_volume(model)\n",
    "volume_cut_result=calculate_volume(cut_result)\n",
    "print(\"Model Volume:\", volume_origin) \n",
    "print(\"Model Volume:\", volume_cut_result)"
   ]
  },
  {
   "cell_type": "code",
   "execution_count": 9,
   "metadata": {},
   "outputs": [
    {
     "name": "stdout",
     "output_type": "stream",
     "text": [
      "Model Volume: -666.6666666666669\n"
     ]
    },
    {
     "name": "stderr",
     "output_type": "stream",
     "text": [
      "C:\\Users\\Martin\\AppData\\Local\\Temp\\ipykernel_24632\\1102814728.py:13: DeprecationWarning: Call to deprecated function brepgprop_VolumeProperties since pythonocc-core 7.7.1. This function will be removed in a future release, please rather use the static method brepgprop.VolumeProperties\n",
      "  brepgprop_VolumeProperties(topods_shape, volume_props)\n"
     ]
    }
   ],
   "source": [
    "import OCC.Extend.DataExchange\n",
    "from OCC.Core.IGESControl import IGESControl_Reader\n",
    "from OCC.Core.GProp import GProp_GProps\n",
    "from OCC.Core.BRepGProp import brepgprop_VolumeProperties\n",
    "from OCC.Display.SimpleGui import init_display\n",
    "\n",
    "\n",
    "model_volume = calculate_volume(model)\n",
    "print(\"Model Volume:\", model_volume)"
   ]
  },
  {
   "cell_type": "markdown",
   "metadata": {},
   "source": [
    "## 計算掃除面積"
   ]
  },
  {
   "cell_type": "code",
   "execution_count": 10,
   "metadata": {},
   "outputs": [
    {
     "name": "stdout",
     "output_type": "stream",
     "text": [
      "Model Volume: 600.0\n",
      "Model Volume: 619.9999999999999\n"
     ]
    },
    {
     "name": "stderr",
     "output_type": "stream",
     "text": [
      "C:\\Users\\Martin\\AppData\\Local\\Temp\\ipykernel_24632\\3613906193.py:13: DeprecationWarning: Call to deprecated function brepgprop_SurfaceProperties since pythonocc-core 7.7.1. This function will be removed in a future release, please rather use the static method brepgprop.SurfaceProperties\n",
      "  brepgprop_SurfaceProperties(topods_shape, surface_props)\n",
      "C:\\Users\\Martin\\AppData\\Local\\Temp\\ipykernel_24632\\3613906193.py:13: DeprecationWarning: Call to deprecated function brepgprop_SurfaceProperties since pythonocc-core 7.7.1. This function will be removed in a future release, please rather use the static method brepgprop.SurfaceProperties\n",
      "  brepgprop_SurfaceProperties(topods_shape, surface_props)\n"
     ]
    }
   ],
   "source": [
    "from OCC.Core.BRepGProp import brepgprop_SurfaceProperties\n",
    "from OCC.Core.GProp import GProp_GProps\n",
    "from OCC.Core.TopoDS import TopoDS_Shape\n",
    "\n",
    "def calculate_surface_area(shape):\n",
    "    # 將 shape 轉換為 TopoDS_Shape\n",
    "    topods_shape = TopoDS_Shape(shape)\n",
    "\n",
    "    # 初始化表面屬性\n",
    "    surface_props = GProp_GProps()\n",
    "\n",
    "    # 計算表面屬性\n",
    "    brepgprop_SurfaceProperties(topods_shape, surface_props)\n",
    "    \n",
    "\n",
    "    # 獲取表面積\n",
    "    surface_area = surface_props.Mass()\n",
    "\n",
    "    return surface_area\n",
    "\n",
    "\n",
    "surface_origin = calculate_surface_area(model)\n",
    "surface_cut_result=calculate_surface_area(cut_result)\n",
    "print(\"Model Volume:\", surface_origin) \n",
    "print(\"Model Volume:\", surface_cut_result)"
   ]
  }
 ],
 "metadata": {
  "kernelspec": {
   "display_name": "pyoccenv",
   "language": "python",
   "name": "python3"
  },
  "language_info": {
   "codemirror_mode": {
    "name": "ipython",
    "version": 3
   },
   "file_extension": ".py",
   "mimetype": "text/x-python",
   "name": "python",
   "nbconvert_exporter": "python",
   "pygments_lexer": "ipython3",
   "version": "3.8.18"
  }
 },
 "nbformat": 4,
 "nbformat_minor": 2
}
