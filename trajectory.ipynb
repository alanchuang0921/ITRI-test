{
 "cells": [
  {
   "cell_type": "markdown",
   "metadata": {},
   "source": [
    "#### 讀取檔案並秀出"
   ]
  },
  {
   "cell_type": "code",
   "execution_count": 1,
   "metadata": {},
   "outputs": [],
   "source": [
    "from OCC.Display.SimpleGui import init_display\n",
    "from OCC.Extend.DataExchange import read_iges_file\n",
    "\n",
    "shapes = read_iges_file(r\"C:\\alan\\ITRI\\model\\cube.IGS\")\n",
    "# 初始化 3D 顯示環境\n",
    "display, start_display, add_menu, add_function_to_menu = init_display()\n",
    "display.DisplayShape(shapes, update=True)\n",
    "start_display()"
   ]
  },
  {
   "cell_type": "markdown",
   "metadata": {},
   "source": [
    "#### 將物件中所有面都畫出來"
   ]
  },
  {
   "cell_type": "code",
   "execution_count": 2,
   "metadata": {},
   "outputs": [
    {
     "name": "stderr",
     "output_type": "stream",
     "text": [
      "C:\\Users\\Martin\\AppData\\Local\\Temp\\ipykernel_9272\\3441983799.py:24: DeprecationWarning: Call to deprecated function topods_Face since pythonocc-core 7.7.1. This function will be removed in a future release, please rather use the static method topods.Face\n",
      "  face = topods_Face(explorer.Current())\n"
     ]
    }
   ],
   "source": [
    "import time\n",
    "from OCC.Display.SimpleGui import init_display\n",
    "from OCC.Core.IGESControl import IGESControl_Reader\n",
    "from OCC.Core.TopExp import TopExp_Explorer\n",
    "from OCC.Core.TopoDS import topods_Face\n",
    "from OCC.Core.TopAbs import TopAbs_FACE\n",
    "\n",
    "# 初始化 3D 顯示環境\n",
    "display, start_display, add_menu, add_function_to_menu = init_display()\n",
    "\n",
    "# IGS檔案路徑\n",
    "file_path = r\"C:\\alan\\ITRI\\model\\cylinder.IGS\"\n",
    "\n",
    "# 讀取檔案\n",
    "reader = IGESControl_Reader()\n",
    "status = reader.ReadFile(file_path)\n",
    "if status == 1:  # 確認文件是否存在\n",
    "    reader.TransferRoots()\n",
    "    shape = reader.Shape()\n",
    "\n",
    "    # 找所有的面\n",
    "    explorer = TopExp_Explorer(shape, TopAbs_FACE)\n",
    "    while explorer.More():\n",
    "        face = topods_Face(explorer.Current())\n",
    "\n",
    "        # 清除當前顯示\n",
    "        display.EraseAll()\n",
    "\n",
    "        # 顯示目前的面\n",
    "        display.DisplayShape(face, update=True)\n",
    "        display.FitAll()\n",
    "\n",
    "        time.sleep(2)  # 暫停兩秒\n",
    "\n",
    "        # 移動到下一個面\n",
    "        explorer.Next()\n",
    "else:\n",
    "    print(\"Failed to read the file.\")\n",
    "\n",
    "# 啟動 OCC 視窗\n",
    "start_display()"
   ]
  },
  {
   "cell_type": "markdown",
   "metadata": {},
   "source": [
    "#### 將物件中所有面畫出來並儲存"
   ]
  },
  {
   "cell_type": "code",
   "execution_count": 3,
   "metadata": {},
   "outputs": [
    {
     "name": "stderr",
     "output_type": "stream",
     "text": [
      "C:\\Users\\Martin\\AppData\\Local\\Temp\\ipykernel_9272\\1804153163.py:28: DeprecationWarning: Call to deprecated function topods_Face since pythonocc-core 7.7.1. This function will be removed in a future release, please rather use the static method topods.Face\n",
      "  face = topods_Face(explorer.Current())\n"
     ]
    },
    {
     "name": "stdout",
     "output_type": "stream",
     "text": [
      "Many colors for color name BLUE, using first.\n",
      "Saved image of face 1 to C:\\alan\\ITRI\\images\\face_1.png\n"
     ]
    }
   ],
   "source": [
    "import os\n",
    "import time\n",
    "from OCC.Display.SimpleGui import init_display\n",
    "from OCC.Core.IGESControl import IGESControl_Reader\n",
    "from OCC.Core.TopExp import TopExp_Explorer\n",
    "from OCC.Core.TopoDS import topods_Face\n",
    "from OCC.Core.TopAbs import TopAbs_FACE\n",
    "\n",
    "display, start_display, add_menu, add_function_to_menu = init_display()\n",
    "\n",
    "file_path = r\"C:\\alan\\ITRI\\model\\cube.IGS\"\n",
    "\n",
    "# 影像的保存路徑\n",
    "image_directory = r\"C:\\alan\\ITRI\\images\"\n",
    "if not os.path.exists(image_directory):\n",
    "    os.makedirs(image_directory)\n",
    "\n",
    "\n",
    "reader = IGESControl_Reader()\n",
    "status = reader.ReadFile(file_path)\n",
    "if status == 1:  \n",
    "    reader.TransferRoots()\n",
    "    shape = reader.Shape()\n",
    "\n",
    "    index = 1\n",
    "    explorer = TopExp_Explorer(shape, TopAbs_FACE)\n",
    "    while explorer.More():\n",
    "        face = topods_Face(explorer.Current())\n",
    "\n",
    "        display.EraseAll()\n",
    "\n",
    "        display.DisplayShape(face, update=True, color='BLUE', transparency=0.5)  # 可以調整顏色和透明度\n",
    "        display.FitAll()\n",
    "\n",
    "        time.sleep(2)  # 暫停兩秒\n",
    "\n",
    "        # 儲存每個面的影像\n",
    "        image_path = os.path.join(image_directory, f'face_{index}.png')\n",
    "        display.View.Dump(image_path)\n",
    "        print(f'Saved image of face {index} to {image_path}')\n",
    "\n",
    "        # 移動到下一個面\n",
    "        index += 1\n",
    "        explorer.Next()\n",
    "else:\n",
    "    print(\"Failed to read the file.\")\n",
    "start_display()"
   ]
  },
  {
   "cell_type": "markdown",
   "metadata": {},
   "source": [
    "#### 去計算每個面的一些資訊(面積，上下界，面的類型)"
   ]
  },
  {
   "cell_type": "code",
   "execution_count": 4,
   "metadata": {},
   "outputs": [
    {
     "name": "stdout",
     "output_type": "stream",
     "text": [
      "Face 1:\n",
      "  Type: 7\n",
      "  Bounds in U: 1.5707963271795888 to 4.712388980179589\n",
      "  Bounds in V: -1.0463605493570475e-13 to 99.99999999999994\n",
      "  Area: 17703.274620218293\n"
     ]
    },
    {
     "name": "stderr",
     "output_type": "stream",
     "text": [
      "C:\\Users\\Martin\\AppData\\Local\\Temp\\ipykernel_9272\\2229307294.py:26: DeprecationWarning: Call to deprecated function topods_Face since pythonocc-core 7.7.1. This function will be removed in a future release, please rather use the static method topods.Face\n",
      "  face = topods_Face(explorer.Current())\n",
      "C:\\Users\\Martin\\AppData\\Local\\Temp\\ipykernel_9272\\2229307294.py:36: DeprecationWarning: Call to deprecated function brepgprop_SurfaceProperties since pythonocc-core 7.7.1. This function will be removed in a future release, please rather use the static method brepgprop.SurfaceProperties\n",
      "  brepgprop_SurfaceProperties(face, gprops)           # 計算面的面積\n"
     ]
    }
   ],
   "source": [
    "import os\n",
    "import time\n",
    "from OCC.Display.SimpleGui import init_display\n",
    "from OCC.Core.IGESControl import IGESControl_Reader\n",
    "from OCC.Core.TopExp import TopExp_Explorer\n",
    "from OCC.Core.TopoDS import topods_Face\n",
    "from OCC.Core.TopAbs import TopAbs_FACE\n",
    "from OCC.Core.BRepTools import breptools_UVBounds\n",
    "from OCC.Core.GeomLProp import GeomLProp_SLProps\n",
    "from OCC.Core.BRepGProp import brepgprop_SurfaceProperties\n",
    "from OCC.Core.BRepAdaptor import BRepAdaptor_Surface\n",
    "from OCC.Core.GProp import GProp_GProps\n",
    "from OCC.Core.gp import gp_Pnt\n",
    "\n",
    "file_path = r\"C:\\alan\\ITRI\\model\\cylinder.IGS\"\n",
    "\n",
    "reader = IGESControl_Reader()\n",
    "status = reader.ReadFile(file_path)\n",
    "if status == 1: \n",
    "    reader.TransferRoots()\n",
    "    shape = reader.Shape()\n",
    "\n",
    "    index = 1\n",
    "    explorer = TopExp_Explorer(shape, TopAbs_FACE)\n",
    "    while explorer.More():\n",
    "        face = topods_Face(explorer.Current())\n",
    "        \n",
    "        adaptor_surface = BRepAdaptor_Surface(face, True)\n",
    "        surface_type = adaptor_surface.GetType()              # 獲取面的類型\n",
    "    \n",
    "        # 獲取面的邊界\n",
    "        u_min, u_max, v_min, v_max = adaptor_surface.FirstUParameter(), adaptor_surface.LastUParameter(), adaptor_surface.FirstVParameter(), adaptor_surface.LastVParameter()\n",
    "    \n",
    "        # 計算面積\n",
    "        gprops = GProp_GProps()                             # 用於獲取面的質量等信息\n",
    "        brepgprop_SurfaceProperties(face, gprops)           # 計算面的面積\n",
    "        area = gprops.Mass()                                # 獲取面的面積\n",
    "\n",
    "        print(f\"Face {index}:\")\n",
    "        print(f\"  Type: {surface_type}\")\n",
    "        print(f\"  Bounds in U: {u_min} to {u_max}\")\n",
    "        print(f\"  Bounds in V: {v_min} to {v_max}\")\n",
    "        print(f\"  Area: {area}\")\n",
    "\n",
    "        index += 1\n",
    "        explorer.Next()"
   ]
  },
  {
   "cell_type": "markdown",
   "metadata": {},
   "source": [
    "#### 讀取檔案後計算每個面的法向量 以及 最大跟最小曲率"
   ]
  },
  {
   "cell_type": "code",
   "execution_count": 5,
   "metadata": {},
   "outputs": [
    {
     "name": "stdout",
     "output_type": "stream",
     "text": [
      "最大曲率: 0.017745827935200725\n",
      "最小曲率: 0.0\n",
      "法向量: -8.979205123174363e-11 0.0 -1.0\n"
     ]
    },
    {
     "name": "stderr",
     "output_type": "stream",
     "text": [
      "C:\\Users\\Martin\\AppData\\Local\\Temp\\ipykernel_9272\\1712942013.py:26: DeprecationWarning: Call to deprecated function topods_Face since pythonocc-core 7.7.1. This function will be removed in a future release, please rather use the static method topods.Face\n",
      "  face = topods_Face(explorer.Current())               # 獲取當前的面 explorer.Current()\n"
     ]
    }
   ],
   "source": [
    "import os\n",
    "from OCC.Core.IGESControl import IGESControl_Reader\n",
    "from OCC.Core.TopExp import TopExp_Explorer\n",
    "from OCC.Core.TopoDS import topods_Face\n",
    "from OCC.Core.BRepAdaptor import BRepAdaptor_Surface\n",
    "from OCC.Core.BRepLProp import BRepLProp_SLProps\n",
    "from OCC.Core.TopAbs import TopAbs_FACE\n",
    "from OCC.Core.gp import gp_Pnt2d\n",
    "\n",
    "# IGS檔案路徑\n",
    "file_path = r\"C:\\alan\\ITRI\\model\\cylinder.IGS\"\n",
    "\n",
    "# 確認文件是否存在\n",
    "if not os.path.exists(file_path):\n",
    "    print(\"檔案路徑錯誤！\")\n",
    "else:\n",
    "    # 讀取檔案\n",
    "    reader = IGESControl_Reader()\n",
    "    reader.ReadFile(file_path)\n",
    "    reader.TransferRoots()          # 使用 TransferRoots 方法轉換模型數據\n",
    "    shape = reader.Shape()          # 獲取模型的形狀\n",
    "\n",
    "    # 找所有的面\n",
    "    explorer = TopExp_Explorer(shape, TopAbs_FACE)\n",
    "    while explorer.More():\n",
    "        face = topods_Face(explorer.Current())               # 獲取當前的面 explorer.Current()\n",
    "        adaptor_surface = BRepAdaptor_Surface(face, True)    # 創建一個物件用於分析面的幾何特性\n",
    "        props = BRepLProp_SLProps(adaptor_surface, 2, 0.01)  # 用於獲取面的曲率信息，2 表示計算主曲率，也就是曲面在特定點的最大和最小曲率，0.01控制計算精度\n",
    "        u_min, u_max, v_min, v_max = adaptor_surface.FirstUParameter(), adaptor_surface.LastUParameter(), adaptor_surface.FirstVParameter(), adaptor_surface.LastVParameter()\n",
    "        u_mid = (u_min + u_max) / 2 \n",
    "        v_mid = (v_min + v_max) / 2                          # 計算面的中心點坐標\n",
    "        props.SetParameters(u_mid, v_mid)                    # 設置曲率計算的參數，到時候求出法向量就為該點的向量\n",
    "        if props.IsCurvatureDefined():                       # 檢查曲率是否被定義\n",
    "            max_curvature = props.MaxCurvature()             # 最大曲率\n",
    "            min_curvature = props.MinCurvature()             # 最小曲率\n",
    "            print(\"最大曲率:\", max_curvature)\n",
    "            print(\"最小曲率:\", min_curvature)\n",
    "            normal = props.Normal()                          # 計算該點的法向量\n",
    "            # 如果面朝向是反的，反轉法向量\n",
    "            if face.Orientation() == TopAbs_FACE:            # 檢查面的朝向是否為反向\n",
    "                normal.Reverse()\n",
    "            print(\"法向量:\", normal.X(), normal.Y(), normal.Z())\n",
    "        explorer.Next()                                      # 進入下一個面"
   ]
  },
  {
   "cell_type": "code",
   "execution_count": 6,
   "metadata": {},
   "outputs": [
    {
     "name": "stderr",
     "output_type": "stream",
     "text": [
      "C:\\Users\\Martin\\AppData\\Local\\Temp\\ipykernel_9272\\2365779602.py:26: DeprecationWarning: Call to deprecated function topods_Face since pythonocc-core 7.7.1. This function will be removed in a future release, please rather use the static method topods.Face\n",
      "  face = topods_Face(explorer.Current())               # 獲取當前的面 explorer.Current()\n"
     ]
    },
    {
     "name": "stdout",
     "output_type": "stream",
     "text": [
      "最大曲率: 0.017745827935200725\n",
      "最小曲率: 0.0\n"
     ]
    },
    {
     "ename": "AttributeError",
     "evalue": "'BRepLProp_SLProps' object has no attribute 'MaxCurvatureDirection'",
     "output_type": "error",
     "traceback": [
      "\u001b[1;31m---------------------------------------------------------------------------\u001b[0m",
      "\u001b[1;31mAttributeError\u001b[0m                            Traceback (most recent call last)",
      "Cell \u001b[1;32mIn[6], line 38\u001b[0m\n\u001b[0;32m     36\u001b[0m \u001b[38;5;28mprint\u001b[39m(\u001b[38;5;124m\"\u001b[39m\u001b[38;5;124m最大曲率:\u001b[39m\u001b[38;5;124m\"\u001b[39m, max_curvature)\n\u001b[0;32m     37\u001b[0m \u001b[38;5;28mprint\u001b[39m(\u001b[38;5;124m\"\u001b[39m\u001b[38;5;124m最小曲率:\u001b[39m\u001b[38;5;124m\"\u001b[39m, min_curvature)\n\u001b[1;32m---> 38\u001b[0m max_curvature_dir \u001b[38;5;241m=\u001b[39m \u001b[43mprops\u001b[49m\u001b[38;5;241;43m.\u001b[39;49m\u001b[43mMaxCurvatureDirection\u001b[49m() \u001b[38;5;66;03m# 最大曲率方向\u001b[39;00m\n\u001b[0;32m     39\u001b[0m normal \u001b[38;5;241m=\u001b[39m props\u001b[38;5;241m.\u001b[39mNormal()                          \u001b[38;5;66;03m# 計算該點的法向量\u001b[39;00m\n\u001b[0;32m     40\u001b[0m \u001b[38;5;66;03m# 如果面朝向是反的，反轉法向量\u001b[39;00m\n",
      "\u001b[1;31mAttributeError\u001b[0m: 'BRepLProp_SLProps' object has no attribute 'MaxCurvatureDirection'"
     ]
    }
   ],
   "source": [
    "import os\n",
    "from OCC.Core.IGESControl import IGESControl_Reader\n",
    "from OCC.Core.TopExp import TopExp_Explorer\n",
    "from OCC.Core.TopoDS import topods_Face\n",
    "from OCC.Core.BRepAdaptor import BRepAdaptor_Surface\n",
    "from OCC.Core.BRepLProp import BRepLProp_SLProps\n",
    "from OCC.Core.TopAbs import TopAbs_FACE\n",
    "from OCC.Core.gp import gp_Pnt2d, gp_Dir\n",
    "\n",
    "# IGS檔案路徑\n",
    "file_path = r\"C:\\alan\\ITRI\\model\\cylinder.IGS\"\n",
    "\n",
    "# 確認文件是否存在\n",
    "if not os.path.exists(file_path):\n",
    "    print(\"檔案路徑錯誤！\")\n",
    "else:\n",
    "    # 讀取檔案\n",
    "    reader = IGESControl_Reader()\n",
    "    reader.ReadFile(file_path)\n",
    "    reader.TransferRoots()          # 使用 TransferRoots 方法轉換模型數據\n",
    "    shape = reader.Shape()          # 獲取模型的形狀\n",
    "\n",
    "    # 找所有的面\n",
    "    explorer = TopExp_Explorer(shape, TopAbs_FACE)\n",
    "    while explorer.More():\n",
    "        face = topods_Face(explorer.Current())               # 獲取當前的面 explorer.Current()\n",
    "        adaptor_surface = BRepAdaptor_Surface(face, True)    # 創建一個物件用於分析面的幾何特性\n",
    "        props = BRepLProp_SLProps(adaptor_surface, 2, 0.01)  # 用於獲取面的曲率信息，2 表示計算主曲率，也就是曲面在特定點的最大和最小曲率，0.01控制計算精度\n",
    "        u_min, u_max, v_min, v_max = adaptor_surface.FirstUParameter(), adaptor_surface.LastUParameter(), adaptor_surface.FirstVParameter(), adaptor_surface.LastVParameter()\n",
    "        u_mid = (u_min + u_max) / 2 \n",
    "        v_mid = (v_min + v_max) / 2                          # 計算面的中心點坐標\n",
    "        props.SetParameters(u_mid, v_mid)                    # 設置曲率計算的參數，到時候求出法向量就為該點的向量\n",
    "        if props.IsCurvatureDefined():                       # 檢查曲率是否被定義\n",
    "            max_curvature = props.MaxCurvature()             # 最大曲率\n",
    "            min_curvature = props.MinCurvature()             # 最小曲率\n",
    "            print(\"最大曲率:\", max_curvature)\n",
    "            print(\"最小曲率:\", min_curvature)\n",
    "            max_curvature_dir = props.MaxCurvatureDirection() # 最大曲率方向\n",
    "            normal = props.Normal()                          # 計算該點的法向量\n",
    "            # 如果面朝向是反的，反轉法向量\n",
    "            if face.Orientation() == TopAbs_FACE:            # 檢查面的朝向是否為反向\n",
    "                normal.Reverse()\n",
    "            print(\"法向量:\", normal.X(), normal.Y(), normal.Z())\n",
    "            print(\"最大曲率方向:\", max_curvature_dir.X(), max_curvature_dir.Y(), max_curvature_dir.Z())\n",
    "        explorer.Next()"
   ]
  }
 ],
 "metadata": {
  "kernelspec": {
   "display_name": "pyoccenv",
   "language": "python",
   "name": "python3"
  },
  "language_info": {
   "codemirror_mode": {
    "name": "ipython",
    "version": 3
   },
   "file_extension": ".py",
   "mimetype": "text/x-python",
   "name": "python",
   "nbconvert_exporter": "python",
   "pygments_lexer": "ipython3",
   "version": "3.8.18"
  }
 },
 "nbformat": 4,
 "nbformat_minor": 2
}
