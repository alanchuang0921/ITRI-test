{
 "cells": [
  {
   "cell_type": "code",
   "execution_count": 1,
   "metadata": {},
   "outputs": [],
   "source": [
    "import OCC.Extend.DataExchange\n",
    "from OCC.Core.IGESControl import IGESControl_Reader\n",
    "from OCC.Core.GProp import GProp_GProps\n",
    "from OCC.Core.BRepGProp import brepgprop_VolumeProperties\n",
    "from OCC.Display.SimpleGui import init_display\n",
    "from OCC.Extend.DataExchange import read_iges_file\n",
    "\n",
    "\n",
    "#讀取模型\n",
    "iges_file = r\"C:\\alan\\ITRI\\model\\complex_3.IGS\"\n",
    "model = read_iges_file(iges_file)\n",
    "# Get the top level shape\n",
    "# model = iges_reader.OneShape()\n",
    "\n",
    "# 初始化 3D 顯示環境\n",
    "display, start_display, add_menu, add_function_to_menu = init_display()\n",
    "display.DisplayShape(model, update=True)\n",
    "start_display()"
   ]
  },
  {
   "cell_type": "code",
   "execution_count": 3,
   "metadata": {},
   "outputs": [],
   "source": [
    "from OCC.Core.BRepPrimAPI import BRepPrimAPI_MakeBox, BRepPrimAPI_MakeSphere\n",
    "from OCC.Core.TopoDS import TopoDS_Shape\n",
    "from OCC.Core.gp import gp_Trsf,gp_Pnt,gp_Vec\n",
    "from OCC.Core.TopLoc import TopLoc_Location\n",
    "from OCC.Display.OCCViewer import rgb_color\n",
    "from OCC.Core.BRepBuilderAPI import BRepBuilderAPI_Transform\n",
    "# # 创建一个长方体\n",
    "my_box = BRepPrimAPI_MakeBox(10, 10, 10).Shape()\n",
    "\n",
    "iges_file = r\"C:\\alan\\ITRI\\model\\complex_3.IGS\"\n",
    "model = read_iges_file(iges_file)\n",
    "iges_file = r\"C:\\alan\\ITRI\\model\\complex_3_2times.IGS\"\n",
    "model2 = read_iges_file(iges_file)\n",
    "# box=TopoDS_Shape(my_box)\n",
    "# t1=gp_Trsf()\n",
    "# t=gp_Pnt(0,0,0)\n",
    "# t1.SetScale(t,5)\n",
    "# boxloc=TopLoc_Location(t1)\n",
    "# box.Move(boxloc)\n",
    "\n",
    "# display, start_display, add_menu, add_function_to_menu = init_display()\n",
    "# display.DisplayShape(box, update=True,color=rgb_color(0,0,0))\n",
    "# # display.DisplayShape(my_box, update=True,color=rgb_color(1,0,0))\n",
    "# start_display()\n",
    "\n",
    "t1 = gp_Trsf()\n",
    "t = gp_Pnt(0, 0, 61.5)#物件質心位置,單位mm\n",
    "t1.SetScale(t, 2)\n",
    "\n",
    "# 对形状进行缩放\n",
    "scaled_box = BRepBuilderAPI_Transform(model, t1, True).Shape()\n",
    "\n",
    "# 创建一个移动变换\n",
    "t2 = gp_Trsf()\n",
    "t2.SetTranslation(gp_Vec(200, 0, 0))  # 将形状移动到新的位置，單位mm\n",
    "\n",
    "# # 对形状进行移动\n",
    "moved_box = BRepBuilderAPI_Transform(scaled_box, t2, True).Shape()\n",
    "\n",
    "display, start_display, add_menu, add_function_to_menu = init_display()\n",
    "display.DisplayShape(moved_box, update=True, color=rgb_color(0, 0, 0))\n",
    "display.DisplayShape(model, update=True, color=rgb_color(1, 0, 0))\n",
    "\n",
    "start_display()\n",
    "\n"
   ]
  }
 ],
 "metadata": {
  "kernelspec": {
   "display_name": "pyoccenv",
   "language": "python",
   "name": "python3"
  },
  "language_info": {
   "codemirror_mode": {
    "name": "ipython",
    "version": 3
   },
   "file_extension": ".py",
   "mimetype": "text/x-python",
   "name": "python",
   "nbconvert_exporter": "python",
   "pygments_lexer": "ipython3",
   "version": "3.8.18"
  }
 },
 "nbformat": 4,
 "nbformat_minor": 2
}
