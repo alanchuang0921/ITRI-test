{
 "cells": [
  {
   "cell_type": "code",
   "execution_count": 4,
   "metadata": {},
   "outputs": [],
   "source": [
    "import OCC.Extend.DataExchange\n",
    "from OCC.Core.IGESControl import IGESControl_Reader\n",
    "from OCC.Core.GProp import GProp_GProps\n",
    "from OCC.Core.BRepGProp import brepgprop_VolumeProperties\n",
    "from OCC.Display.SimpleGui import init_display\n",
    "from OCC.Extend.DataExchange import read_iges_file\n",
    "\n",
    "\n",
    "#讀取模型\n",
    "iges_file = r\"C:\\alan\\ITRI\\ITRI-test\\model\\complex_2.IGS\"\n",
    "model = read_iges_file(iges_file)\n",
    "# Get the top level shape\n",
    "# model = iges_reader.OneShape()\n",
    "\n",
    "# 初始化 3D 顯示環境\n",
    "display, start_display, add_menu, add_function_to_menu = init_display()\n",
    "display.DisplayShape(model, update=True)\n",
    "start_display()"
   ]
  },
  {
   "cell_type": "code",
   "execution_count": 8,
   "metadata": {},
   "outputs": [
    {
     "ename": "TypeError",
     "evalue": "Wrong number or type of arguments for overloaded function 'new_BRepBuilderAPI_Transform'.\n  Possible C/C++ prototypes are:\n    BRepBuilderAPI_Transform::BRepBuilderAPI_Transform(gp_Trsf const &)\n    BRepBuilderAPI_Transform::BRepBuilderAPI_Transform(TopoDS_Shape const &,gp_Trsf const &,Standard_Boolean const,Standard_Boolean const)\n",
     "output_type": "error",
     "traceback": [
      "\u001b[1;31m---------------------------------------------------------------------------\u001b[0m",
      "\u001b[1;31mTypeError\u001b[0m                                 Traceback (most recent call last)",
      "Cell \u001b[1;32mIn[8], line 31\u001b[0m\n\u001b[0;32m     28\u001b[0m t1\u001b[38;5;241m.\u001b[39mSetScale(t, \u001b[38;5;241m2\u001b[39m)\n\u001b[0;32m     30\u001b[0m \u001b[38;5;66;03m# 对形状进行缩放\u001b[39;00m\n\u001b[1;32m---> 31\u001b[0m scaled_box \u001b[38;5;241m=\u001b[39m \u001b[43mBRepBuilderAPI_Transform\u001b[49m\u001b[43m(\u001b[49m\u001b[43mmodel\u001b[49m\u001b[43m,\u001b[49m\u001b[43m \u001b[49m\u001b[43mt1\u001b[49m\u001b[43m,\u001b[49m\u001b[43m \u001b[49m\u001b[38;5;28;43;01mTrue\u001b[39;49;00m\u001b[43m)\u001b[49m\u001b[38;5;241m.\u001b[39mShape()\n\u001b[0;32m     33\u001b[0m \u001b[38;5;66;03m# 创建一个移动变换\u001b[39;00m\n\u001b[0;32m     34\u001b[0m t2 \u001b[38;5;241m=\u001b[39m gp_Trsf()\n",
      "File \u001b[1;32mc:\\Users\\sw_ya\\anaconda3\\envs\\pyoccenv\\lib\\site-packages\\OCC\\Core\\BRepBuilderAPI.py:4737\u001b[0m, in \u001b[0;36mBRepBuilderAPI_Transform.__init__\u001b[1;34m(self, *args)\u001b[0m\n\u001b[0;32m   4706\u001b[0m \u001b[38;5;28;01mdef\u001b[39;00m \u001b[38;5;21m__init__\u001b[39m(\u001b[38;5;28mself\u001b[39m, \u001b[38;5;241m*\u001b[39margs):\n\u001b[0;32m   4707\u001b[0m \u001b[38;5;250m    \u001b[39m\u001b[38;5;124mr\u001b[39m\u001b[38;5;124;03m\"\"\"\u001b[39;00m\n\u001b[0;32m   4708\u001b[0m \n\u001b[0;32m   4709\u001b[0m \u001b[38;5;124;03m    Parameters\u001b[39;00m\n\u001b[1;32m   (...)\u001b[0m\n\u001b[0;32m   4735\u001b[0m \n\u001b[0;32m   4736\u001b[0m \u001b[38;5;124;03m    \"\"\"\u001b[39;00m\n\u001b[1;32m-> 4737\u001b[0m     _BRepBuilderAPI\u001b[38;5;241m.\u001b[39mBRepBuilderAPI_Transform_swiginit(\u001b[38;5;28mself\u001b[39m, \u001b[43m_BRepBuilderAPI\u001b[49m\u001b[38;5;241;43m.\u001b[39;49m\u001b[43mnew_BRepBuilderAPI_Transform\u001b[49m\u001b[43m(\u001b[49m\u001b[38;5;241;43m*\u001b[39;49m\u001b[43margs\u001b[49m\u001b[43m)\u001b[49m)\n",
      "\u001b[1;31mTypeError\u001b[0m: Wrong number or type of arguments for overloaded function 'new_BRepBuilderAPI_Transform'.\n  Possible C/C++ prototypes are:\n    BRepBuilderAPI_Transform::BRepBuilderAPI_Transform(gp_Trsf const &)\n    BRepBuilderAPI_Transform::BRepBuilderAPI_Transform(TopoDS_Shape const &,gp_Trsf const &,Standard_Boolean const,Standard_Boolean const)\n"
     ]
    }
   ],
   "source": [
    "from OCC.Core.BRepPrimAPI import BRepPrimAPI_MakeBox, BRepPrimAPI_MakeSphere\n",
    "from OCC.Core.TopoDS import TopoDS_Shape\n",
    "from OCC.Core.gp import gp_Trsf,gp_Pnt,gp_Vec\n",
    "from OCC.Core.TopLoc import TopLoc_Location\n",
    "from OCC.Display.OCCViewer import rgb_color\n",
    "from OCC.Core.BRepBuilderAPI import BRepBuilderAPI_Transform\n",
    "# # 创建一个长方体\n",
    "my_box = BRepPrimAPI_MakeBox(10, 10, 10).Shape()\n",
    "\n",
    "iges_file = r\"C:\\alan\\ITRI\\ITRI-test\\model\\complex_3.IGS\"\n",
    "model = read_iges_file(iges_file)\n",
    "iges_file = r\"C:\\alan\\ITRI\\ITRI-test\\model\\complex_1.IGS\"\n",
    "model2 = read_iges_file(iges_file)\n",
    "# box=TopoDS_Shape(my_box)\n",
    "# t1=gp_Trsf()\n",
    "# t=gp_Pnt(0,0,0)\n",
    "# t1.SetScale(t,5)\n",
    "# boxloc=TopLoc_Location(t1)\n",
    "# box.Move(boxloc)\n",
    "\n",
    "# display, start_display, add_menu, add_function_to_menu = init_display()\n",
    "# display.DisplayShape(box, update=True,color=rgb_color(0,0,0))\n",
    "# # display.DisplayShape(my_box, update=True,color=rgb_color(1,0,0))\n",
    "# start_display()\n",
    "\n",
    "t1 = gp_Trsf()\n",
    "t = gp_Pnt(0, 0, 61.5)#物件質心位置,單位mm\n",
    "t1.SetScale(t, 2)\n",
    "\n",
    "# 对形状进行缩放\n",
    "scaled_box = BRepBuilderAPI_Transform(model, t1, True).Shape()\n",
    "\n",
    "# 创建一个移动变换\n",
    "t2 = gp_Trsf()\n",
    "t2.SetTranslation(gp_Vec(200, 0, 0))  # 将形状移动到新的位置，單位mm\n",
    "\n",
    "# # 对形状进行移动\n",
    "moved_box = BRepBuilderAPI_Transform(scaled_box, t2, True).Shape()\n",
    "\n",
    "display, start_display, add_menu, add_function_to_menu = init_display()\n",
    "display.DisplayShape(moved_box, update=True, color=rgb_color(0, 0, 0))\n",
    "display.DisplayShape(model, update=True, color=rgb_color(1, 0, 0))\n",
    "\n",
    "start_display()\n",
    "\n"
   ]
  },
  {
   "cell_type": "code",
   "execution_count": 1,
   "metadata": {},
   "outputs": [
    {
     "name": "stdout",
     "output_type": "stream",
     "text": [
      "type: <class 'OCC.Core.TopoDS.TopoDS_Compound'>\n"
     ]
    }
   ],
   "source": [
    "from OCC.Core.BRepPrimAPI import BRepPrimAPI_MakeBox\n",
    "from OCC.Core.gp import gp_Trsf, gp_Pnt, gp_Vec\n",
    "from OCC.Core.BRepBuilderAPI import BRepBuilderAPI_Transform\n",
    "from OCC.Extend.DataExchange import read_iges_file\n",
    "from OCC.Display.SimpleGui import init_display\n",
    "from OCC.Display.OCCViewer import rgb_color\n",
    "\n",
    "# 创建一个长方体\n",
    "my_box = BRepPrimAPI_MakeBox(10, 10, 10).Shape()\n",
    "\n",
    "# 读取IGES文件\n",
    "iges_file1 = r\"C:\\alan\\ITRI\\ITRI-test\\model\\cylinder.IGS\"\n",
    "model1 = read_iges_file(iges_file1)\n",
    "model1=model1[0]\n",
    "\n",
    "iges_file2 = r\"C:\\alan\\ITRI\\ITRI-test\\model\\complex_1.IGS\"\n",
    "model2 = read_iges_file(iges_file2)\n",
    "\n",
    "# 确认model1是TopoDS_Shape类型\n",
    "print(\"type:\",type(model1))  # 应输出 <class 'OCC.Core.TopoDS.TopoDS_Shape'>\n",
    "\n",
    "# 定义缩放变换\n",
    "t1 = gp_Trsf()\n",
    "t = gp_Pnt(0, 0, 61.5)  # 物件质心位置，单位mm\n",
    "t1.SetScale(t, 2)\n",
    "\n",
    "# 对模型1进行缩放\n",
    "scaled_model1 = BRepBuilderAPI_Transform(model1, t1, True, True).Shape()\n",
    "\n",
    "# 定义平移变换\n",
    "t2 = gp_Trsf()\n",
    "t2.SetTranslation(gp_Vec(200, 0, 0))  # 将形状移动到新的位置，单位mm\n",
    "\n",
    "# 对缩放后的模型1进行平移\n",
    "moved_model1 = BRepBuilderAPI_Transform(scaled_model1, t2, True, True).Shape()\n",
    "\n",
    "# 初始化显示窗口\n",
    "display, start_display, add_menu, add_function_to_menu = init_display()\n",
    "\n",
    "# 显示平移后的模型1和原始模型2\n",
    "display.DisplayShape(moved_model1, update=True, color=rgb_color(0, 0, 0))\n",
    "display.DisplayShape(model2, update=True, color=rgb_color(1, 0, 0))\n",
    "\n",
    "# 开始显示\n",
    "start_display()"
   ]
  }
 ],
 "metadata": {
  "kernelspec": {
   "display_name": "pyoccenv",
   "language": "python",
   "name": "python3"
  },
  "language_info": {
   "codemirror_mode": {
    "name": "ipython",
    "version": 3
   },
   "file_extension": ".py",
   "mimetype": "text/x-python",
   "name": "python",
   "nbconvert_exporter": "python",
   "pygments_lexer": "ipython3",
   "version": "3.8.19"
  }
 },
 "nbformat": 4,
 "nbformat_minor": 2
}
