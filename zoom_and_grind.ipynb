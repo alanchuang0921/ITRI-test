{
 "cells": [
  {
   "cell_type": "markdown",
   "metadata": {},
   "source": [
    "#### 讀取模型資料"
   ]
  },
  {
   "cell_type": "code",
   "execution_count": 163,
   "metadata": {},
   "outputs": [],
   "source": [
    "import OCC.Extend.DataExchange\n",
    "from OCC.Core.IGESControl import IGESControl_Reader\n",
    "from OCC.Core.GProp import GProp_GProps\n",
    "from OCC.Core.BRepGProp import brepgprop_VolumeProperties\n",
    "from OCC.Display.SimpleGui import init_display\n",
    "from OCC.Extend.DataExchange import read_iges_file\n",
    "\n",
    "\n",
    "#讀取模型\n",
    "iges_file =  r\"C:\\alan\\ITRI\\model\\simple_1.IGS\"\n",
    "model = read_iges_file(iges_file)\n",
    "# Get the top level shape\n",
    "# model = iges_reader.OneShape()\n",
    "\n",
    "# 初始化 3D 顯示環境\n",
    "display, start_display, add_menu, add_function_to_menu = init_display()\n",
    "display.DisplayShape(model, update=True)\n",
    "start_display()"
   ]
  },
  {
   "cell_type": "markdown",
   "metadata": {},
   "source": [
    "#### 計算每殼層面積"
   ]
  },
  {
   "cell_type": "code",
   "execution_count": 164,
   "metadata": {},
   "outputs": [],
   "source": [
    "from OCC.Core.BRepGProp import brepgprop_SurfaceProperties\n",
    "from OCC.Core.GProp import GProp_GProps\n",
    "from OCC.Core.TopoDS import TopoDS_Shape\n",
    "\n",
    "def calculate_surface_area(shape):\n",
    "    # 將 shape 轉換為 TopoDS_Shape\n",
    "    topods_shape = TopoDS_Shape(shape)\n",
    "\n",
    "    # 初始化表面屬性\n",
    "    surface_props = GProp_GProps()\n",
    "\n",
    "    # 計算表面屬性\n",
    "    brepgprop_SurfaceProperties(topods_shape, surface_props)\n",
    "    \n",
    "\n",
    "    # 獲取表面積\n",
    "    surface_area = surface_props.Mass()\n",
    "\n",
    "    return surface_area"
   ]
  },
  {
   "cell_type": "markdown",
   "metadata": {},
   "source": [
    "#### 輸入起始點、終點座標、法向量，生成掃除路徑"
   ]
  },
  {
   "cell_type": "code",
   "execution_count": 165,
   "metadata": {},
   "outputs": [],
   "source": [
    "# 函數作用: 通過兩點生成線段\n",
    "from OCC.Core.gp import gp_Pnt\n",
    "from OCC.Core.GC import GC_MakeSegment\n",
    "from OCC.Core.BRepBuilderAPI import BRepBuilderAPI_MakeEdge, BRepBuilderAPI_MakeWire\n",
    "from OCC.Core.gp import gp_Pnt, gp_Vec, gp_Dir,gp_Circ, gp_Ax2, gp_Pnt\n",
    "from OCC.Core.BRepBuilderAPI import BRepBuilderAPI_MakeEdge, BRepBuilderAPI_MakeWire,BRepBuilderAPI_MakeFace\n",
    "from OCC.Core.BRepOffsetAPI import BRepOffsetAPI_MakePipe\n",
    "from OCC.Display.SimpleGui import init_display\n",
    "import numpy as np\n",
    "# 輸入: 兩個點\n",
    "# 輸出: 線段\n",
    "# def generate_segment(point1, point2):\n",
    "#     aSegment = GC_MakeSegment(gp_Pnt(*point1), gp_Pnt(*point2))\n",
    "#     anEdge = BRepBuilderAPI_MakeEdge(aSegment.Value())\n",
    "#     aWire = BRepBuilderAPI_MakeWire(anEdge.Edge())\n",
    "#     return aWire.Shape()\n",
    "\n",
    "def grinding_area(point_start,point_end,normal_vector):\n",
    "    #根據起始、終點生成線段\n",
    "    point_s=gp_Pnt(float(point_start[0]),float(point_start[1]), float(point_start[2]))\n",
    "    point_e=gp_Pnt(float(point_end[0]),float(point_end[1]), float(point_end[2]))\n",
    "    aSegment = GC_MakeSegment(point_s, point_e )\n",
    "    anEdge = BRepBuilderAPI_MakeEdge(aSegment.Value())\n",
    "    aWire = BRepBuilderAPI_MakeWire(anEdge.Edge())\n",
    "\n",
    "    #input\n",
    "    #normal_vector\n",
    "    magnitude = np.linalg.norm(normal_vector)# 將法向量除以其範數以得到單位法向量\n",
    "    normal_vector = normal_vector/ magnitude\n",
    "\n",
    "    #two point_position\n",
    "    tan_vector=point_start-point_end\n",
    "\n",
    "    #direction_1\n",
    "    dir_1= np.cross(normal_vector, tan_vector)\n",
    "    magnitude = np.linalg.norm(dir_1)# 將向量除以其範數以得到單位向量\n",
    "    dir_1 = dir_1/ magnitude\n",
    "\n",
    "    # 定義截面為方形\n",
    "    # 定義方形的四個頂點\n",
    "    point_1=point_start+normal_vector*0.5+dir_1*5\n",
    "    point_2=point_start+normal_vector*0.5-dir_1*5\n",
    "    point_3=point_start-normal_vector*0.5-dir_1*5\n",
    "    point_4=point_start-normal_vector*0.5+dir_1*5\n",
    "    p1 = gp_Pnt(point_1[0], point_1[1], point_1[2])\n",
    "    p2 = gp_Pnt(point_2[0], point_2[1], point_2[2])\n",
    "    p3 = gp_Pnt(point_3[0], point_3[1], point_3[2])\n",
    "    p4 = gp_Pnt(point_4[0], point_4[1], point_4[2])\n",
    "\n",
    "    # 使用這些頂點創建方形的邊緣\n",
    "    edge1 = BRepBuilderAPI_MakeEdge(p1, p2).Edge()\n",
    "    edge2 = BRepBuilderAPI_MakeEdge(p2, p3).Edge()\n",
    "    edge3 = BRepBuilderAPI_MakeEdge(p3, p4).Edge()\n",
    "    edge4 = BRepBuilderAPI_MakeEdge(p4, p1).Edge()\n",
    "\n",
    "    # 使用這些邊緣創建方形的線框\n",
    "    square_wire = BRepBuilderAPI_MakeWire(edge1, edge2, edge3, edge4).Wire()\n",
    "\n",
    "    # 將線框轉換為面，作為截面\n",
    "    F = BRepBuilderAPI_MakeFace(square_wire, True)\n",
    "    S=BRepOffsetAPI_MakePipe(aWire.Wire(), F.Shape())#第一个参数轨迹线,第二个参数是轮廟\n",
    "\n",
    "    return S"
   ]
  },
  {
   "cell_type": "markdown",
   "metadata": {},
   "source": [
    "#### 等比例縮放"
   ]
  },
  {
   "cell_type": "code",
   "execution_count": 166,
   "metadata": {},
   "outputs": [],
   "source": [
    "from OCC.Core.BRepPrimAPI import BRepPrimAPI_MakeBox, BRepPrimAPI_MakeSphere\n",
    "from OCC.Core.TopoDS import TopoDS_Shape\n",
    "from OCC.Core.gp import gp_Trsf,gp_Pnt,gp_Vec\n",
    "from OCC.Core.TopLoc import TopLoc_Location\n",
    "from OCC.Display.OCCViewer import rgb_color\n",
    "from OCC.Core.BRepBuilderAPI import BRepBuilderAPI_Transform\n",
    "\n",
    "def zoom(model,m_center,mag):\n",
    "    t1 = gp_Trsf()\n",
    "    #物件質心位置,單位mm\n",
    "    t1.SetScale(m_center, mag)\n",
    "\n",
    "    # 对形状进行缩放\n",
    "    scaled_box = BRepBuilderAPI_Transform(model, t1, True).Shape()\n",
    "\n",
    "\n",
    "    # display, start_display, add_menu, add_function_to_menu = init_display()\n",
    "    # display.DisplayShape(scaled_box, update=True, color=rgb_color(0, 0, 0))\n",
    "    # display.DisplayShape(model, update=True, color=rgb_color(1, 0, 0))\n",
    "    # start_display()\n",
    "    return scaled_box\n",
    "\n",
    "\n",
    "\n",
    "\n"
   ]
  },
  {
   "cell_type": "markdown",
   "metadata": {},
   "source": [
    "#### 掃除"
   ]
  },
  {
   "cell_type": "code",
   "execution_count": 167,
   "metadata": {},
   "outputs": [],
   "source": [
    "from OCC.Core.gp import gp_Pnt\n",
    "from OCC.Core.BRepPrimAPI import BRepPrimAPI_MakeBox, BRepPrimAPI_MakeSphere\n",
    "from OCC.Core.BRepAlgoAPI import BRepAlgoAPI_Cut\n",
    "from OCC.Display.SimpleGui import init_display\n",
    "from OCC.Core.IGESControl import IGESControl_Reader\n",
    "\n",
    "def grind(model,S):\n",
    "    # 创建一个几何切割对象\n",
    "    cut_algo = BRepAlgoAPI_Cut(model,S.Shape() )\n",
    "    # 执行几何切割操作\n",
    "    cut_result = cut_algo.Shape()\n",
    "    return cut_result\n"
   ]
  },
  {
   "cell_type": "markdown",
   "metadata": {},
   "source": [
    "#### 對每一殼層進行掃除，並儲存掃除結果"
   ]
  },
  {
   "cell_type": "code",
   "execution_count": 216,
   "metadata": {},
   "outputs": [
    {
     "name": "stdout",
     "output_type": "stream",
     "text": [
      "Model_0_origin_area: 60000.0\n",
      "Model_0_final_area: 59200.0\n",
      "Warning: C:\\alan\\ITRI\\cut_result\\layer_0.igs already exists and will be replaced\n",
      "Model_1_origin_area: 54150.0\n",
      "Model_1_final_area: 54150.0\n",
      "Warning: C:\\alan\\ITRI\\cut_result\\layer_1.igs already exists and will be replaced\n",
      "Model_2_origin_area: 48600.0\n",
      "Model_2_final_area: 48600.0\n",
      "Warning: C:\\alan\\ITRI\\cut_result\\layer_2.igs already exists and will be replaced\n",
      "Warning: C:\\alan\\ITRI\\cut_result\\all.igs already exists and will be replaced\n"
     ]
    },
    {
     "name": "stderr",
     "output_type": "stream",
     "text": [
      "C:\\Users\\Martin\\AppData\\Local\\Temp\\ipykernel_9940\\155294808.py:13: DeprecationWarning: Call to deprecated function brepgprop_SurfaceProperties since pythonocc-core 7.7.1. This function will be removed in a future release, please rather use the static method brepgprop.SurfaceProperties\n",
      "  brepgprop_SurfaceProperties(topods_shape, surface_props)\n",
      "C:\\Users\\Martin\\AppData\\Local\\Temp\\ipykernel_9940\\155294808.py:13: DeprecationWarning: Call to deprecated function brepgprop_SurfaceProperties since pythonocc-core 7.7.1. This function will be removed in a future release, please rather use the static method brepgprop.SurfaceProperties\n",
      "  brepgprop_SurfaceProperties(topods_shape, surface_props)\n",
      "C:\\Users\\Martin\\AppData\\Local\\Temp\\ipykernel_9940\\155294808.py:13: DeprecationWarning: Call to deprecated function brepgprop_SurfaceProperties since pythonocc-core 7.7.1. This function will be removed in a future release, please rather use the static method brepgprop.SurfaceProperties\n",
      "  brepgprop_SurfaceProperties(topods_shape, surface_props)\n",
      "C:\\Users\\Martin\\AppData\\Local\\Temp\\ipykernel_9940\\155294808.py:13: DeprecationWarning: Call to deprecated function brepgprop_SurfaceProperties since pythonocc-core 7.7.1. This function will be removed in a future release, please rather use the static method brepgprop.SurfaceProperties\n",
      "  brepgprop_SurfaceProperties(topods_shape, surface_props)\n",
      "C:\\Users\\Martin\\AppData\\Local\\Temp\\ipykernel_9940\\155294808.py:13: DeprecationWarning: Call to deprecated function brepgprop_SurfaceProperties since pythonocc-core 7.7.1. This function will be removed in a future release, please rather use the static method brepgprop.SurfaceProperties\n",
      "  brepgprop_SurfaceProperties(topods_shape, surface_props)\n",
      "C:\\Users\\Martin\\AppData\\Local\\Temp\\ipykernel_9940\\155294808.py:13: DeprecationWarning: Call to deprecated function brepgprop_SurfaceProperties since pythonocc-core 7.7.1. This function will be removed in a future release, please rather use the static method brepgprop.SurfaceProperties\n",
      "  brepgprop_SurfaceProperties(topods_shape, surface_props)\n"
     ]
    }
   ],
   "source": [
    "from OCC.Extend.DataExchange import write_iges_file\n",
    "import os\n",
    "from OCC.Core.BRepAlgoAPI import BRepAlgoAPI_Fuse\n",
    "#讀取模型\n",
    "iges_file =  r\"C:\\alan\\ITRI\\model\\simple_1.IGS\"\n",
    "model = read_iges_file(iges_file)\n",
    "\n",
    "point_start=np.array((-40,50,0))\n",
    "point_end=np.array((40,50,0))\n",
    "normal_vector=np.array((0,1,0))\n",
    "S=grinding_area(point_start,point_end,normal_vector)\n",
    "m_center= gp_Pnt(0, 0, 0)#質心位置\n",
    "#simple_1:m_center=(0,0,0)\n",
    "#simple_2:m_center=(0,-2.2,-2.2)\n",
    "#simple_3:m_center=(-0.36,-0.76,-0.36)\n",
    "#complex_3:m_center= gp_Pnt(0, 0, 61.5)\n",
    "\n",
    "i=0\n",
    "while i<3:\n",
    "    mag=1-i*0.05\n",
    "    Model=zoom(model,m_center,mag)\n",
    "    cut_result=grind(Model,S)\n",
    "    \n",
    "    surface_origin = calculate_surface_area(Model)\n",
    "    print(f\"Model_{i}_origin_area:\", surface_origin) \n",
    "    surface_cut_result=calculate_surface_area(cut_result)\n",
    "    print(f\"Model_{i}_final_area:\", surface_cut_result)\n",
    "\n",
    "\n",
    "    # display, start_display, add_menu, add_function_to_menu = init_display()\n",
    "    # box=display.DisplayShape(cut_result, update=True)[0]\n",
    "    # box.SetTransparency(0.1)\n",
    "    # start_display()\n",
    "    if i==0:\n",
    "        all_result=cut_result\n",
    "        # all_result = all_result.Shape()\n",
    "    else:\n",
    "        all_result = BRepAlgoAPI_Fuse(all_result,cut_result)\n",
    "        all_result = all_result.Shape()\n",
    "\n",
    "    iges_file_path=os.path.join(r\"C:\\alan\\ITRI\\cut_result\",f'layer_{i}.igs' )\n",
    "    write_iges_file(cut_result, iges_file_path)\n",
    "    i=i+1\n",
    "\n",
    "iges_file_path=os.path.join(r\"C:\\alan\\ITRI\\cut_result\\all.igs\" )\n",
    "write_iges_file(all_result, iges_file_path)"
   ]
  },
  {
   "cell_type": "markdown",
   "metadata": {},
   "source": [
    "#### 檢視各層研磨結果"
   ]
  },
  {
   "cell_type": "code",
   "execution_count": 217,
   "metadata": {},
   "outputs": [],
   "source": [
    "from OCC.Core.Quantity import Quantity_Color\n",
    "#讀取模型\n",
    "iges_file = r\"C:\\alan\\ITRI\\cut_result\\all.igs\"\n",
    "cut_result = read_iges_file(iges_file)\n",
    "\n",
    "display, start_display, add_menu, add_function_to_menu = init_display()\n",
    "box=display.DisplayShape(cut_result, update=True)[0]\n",
    "box.SetTransparency(0.5)\n",
    "start_display()\n"
   ]
  },
  {
   "cell_type": "code",
   "execution_count": 205,
   "metadata": {},
   "outputs": [
    {
     "name": "stdout",
     "output_type": "stream",
     "text": [
      "Warning: C:\\alan\\ITRI\\cut_result\\all.igs already exists and will be replaced\n"
     ]
    }
   ],
   "source": [
    "from OCC.Core.TopoDS import TopoDS_Compound\n",
    "from OCC.Core.BRepAlgoAPI import BRepAlgoAPI_Fuse\n",
    "# 创建一个空的复合形状\n",
    "all = BRepAlgoAPI_Fuse(cut_result,cut_result_1)\n",
    "all = all.Shape()\n",
    "iges_file_path=os.path.join(r\"C:\\alan\\ITRI\\cut_result\\all.igs\" )\n",
    "write_iges_file(all, iges_file_path)\n"
   ]
  },
  {
   "cell_type": "code",
   "execution_count": 206,
   "metadata": {},
   "outputs": [],
   "source": [
    "from OCC.Core.Quantity import Quantity_Color\n",
    "#讀取模型\n",
    "iges_file = r\"C:\\alan\\ITRI\\cut_result\\all.igs\"\n",
    "result = read_iges_file(iges_file)\n",
    "\n",
    "# 初始化 3D 顯示環境\n",
    "display, start_display, add_menu, add_function_to_menu = init_display()\n",
    "box=display.DisplayShape(result, update=True)[0]\n",
    "box.SetTransparency(0.5)\n",
    "\n",
    "\n",
    "start_display()"
   ]
  }
 ],
 "metadata": {
  "kernelspec": {
   "display_name": "pyoccenv",
   "language": "python",
   "name": "python3"
  },
  "language_info": {
   "codemirror_mode": {
    "name": "ipython",
    "version": 3
   },
   "file_extension": ".py",
   "mimetype": "text/x-python",
   "name": "python",
   "nbconvert_exporter": "python",
   "pygments_lexer": "ipython3",
   "version": "3.8.18"
  }
 },
 "nbformat": 4,
 "nbformat_minor": 2
}
