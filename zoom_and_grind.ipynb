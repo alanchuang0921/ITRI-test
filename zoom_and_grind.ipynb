{
 "cells": [
  {
   "cell_type": "markdown",
   "metadata": {},
   "source": [
    "#### 輸入起始點、終點座標、法向量，生成掃除路徑"
   ]
  },
  {
   "cell_type": "code",
   "execution_count": 1,
   "metadata": {},
   "outputs": [],
   "source": [
    "# 函數作用: 通過兩點生成線段\n",
    "from OCC.Core.gp import gp_Pnt\n",
    "from OCC.Core.GC import GC_MakeSegment\n",
    "from OCC.Core.BRepBuilderAPI import BRepBuilderAPI_MakeEdge, BRepBuilderAPI_MakeWire\n",
    "from OCC.Core.gp import gp_Pnt, gp_Vec, gp_Dir,gp_Circ, gp_Ax2, gp_Pnt\n",
    "from OCC.Core.BRepBuilderAPI import BRepBuilderAPI_MakeEdge, BRepBuilderAPI_MakeWire,BRepBuilderAPI_MakeFace\n",
    "from OCC.Core.BRepOffsetAPI import BRepOffsetAPI_MakePipe\n",
    "from OCC.Display.SimpleGui import init_display\n",
    "import numpy as np\n",
    "\n",
    "def grinding_area(point_start,point_end,normal_vector):\n",
    "    #根據起始、終點生成線段\n",
    "    point_s=gp_Pnt(float(point_start[0]),float(point_start[1]), float(point_start[2]))\n",
    "    point_e=gp_Pnt(float(point_end[0]),float(point_end[1]), float(point_end[2]))\n",
    "    aSegment = GC_MakeSegment(point_s, point_e )\n",
    "    anEdge = BRepBuilderAPI_MakeEdge(aSegment.Value())\n",
    "    aWire = BRepBuilderAPI_MakeWire(anEdge.Edge())\n",
    "\n",
    "    #input\n",
    "    #normal_vector\n",
    "    magnitude = np.linalg.norm(normal_vector)# 將法向量除以其範數以得到單位法向量\n",
    "    normal_vector = normal_vector/ magnitude\n",
    "\n",
    "    #two point_position\n",
    "    tan_vector=point_start-point_end\n",
    "\n",
    "    #direction_1\n",
    "    dir_1= np.cross(normal_vector, tan_vector)\n",
    "    magnitude = np.linalg.norm(dir_1)# 將向量除以其範數以得到單位向量\n",
    "    dir_1 = dir_1/ magnitude\n",
    "\n",
    "    # 定義截面為方形\n",
    "    # 定義方形的四個頂點\n",
    "    depth=2#每次研磨深度\n",
    "    width=5#研磨寬度\n",
    "    point_1=point_start+normal_vector*depth+dir_1*width\n",
    "    point_2=point_start+normal_vector*depth-dir_1*width\n",
    "    point_3=point_start-normal_vector*depth-dir_1*width\n",
    "    point_4=point_start-normal_vector*depth+dir_1*width\n",
    "    p1 = gp_Pnt(point_1[0], point_1[1], point_1[2])\n",
    "    p2 = gp_Pnt(point_2[0], point_2[1], point_2[2])\n",
    "    p3 = gp_Pnt(point_3[0], point_3[1], point_3[2])\n",
    "    p4 = gp_Pnt(point_4[0], point_4[1], point_4[2])\n",
    "\n",
    "    # 使用這些頂點創建方形的邊緣\n",
    "    edge1 = BRepBuilderAPI_MakeEdge(p1, p2).Edge()\n",
    "    edge2 = BRepBuilderAPI_MakeEdge(p2, p3).Edge()\n",
    "    edge3 = BRepBuilderAPI_MakeEdge(p3, p4).Edge()\n",
    "    edge4 = BRepBuilderAPI_MakeEdge(p4, p1).Edge()\n",
    "\n",
    "    # 使用這些邊緣創建方形的線框\n",
    "    square_wire = BRepBuilderAPI_MakeWire(edge1, edge2, edge3, edge4).Wire()\n",
    "\n",
    "    # 將線框轉換為面，作為截面\n",
    "    F = BRepBuilderAPI_MakeFace(square_wire, True)\n",
    "    S=BRepOffsetAPI_MakePipe(aWire.Wire(), F.Shape())#第一个参数轨迹线,第二个参数是轮廟\n",
    "\n",
    "    return S.Shape()"
   ]
  },
  {
   "cell_type": "markdown",
   "metadata": {},
   "source": [
    "#### 等比例縮放"
   ]
  },
  {
   "cell_type": "code",
   "execution_count": 2,
   "metadata": {},
   "outputs": [],
   "source": [
    "from OCC.Core.BRepPrimAPI import BRepPrimAPI_MakeBox, BRepPrimAPI_MakeSphere\n",
    "from OCC.Core.TopoDS import TopoDS_Shape\n",
    "from OCC.Core.gp import gp_Trsf,gp_Pnt,gp_Vec\n",
    "from OCC.Core.TopLoc import TopLoc_Location\n",
    "from OCC.Display.OCCViewer import rgb_color\n",
    "from OCC.Core.BRepBuilderAPI import BRepBuilderAPI_Transform\n",
    "\n",
    "def zoom(model,m_center,mag):\n",
    "    t1 = gp_Trsf()\n",
    "    #物件質心位置,單位mm\n",
    "    t1.SetScale(m_center, mag)\n",
    "\n",
    "    # 对形状进行缩放\n",
    "    scaled_box = BRepBuilderAPI_Transform(model, t1, True).Shape()\n",
    "\n",
    "\n",
    "    # display, start_display, add_menu, add_function_to_menu = init_display()\n",
    "    # display.DisplayShape(scaled_box, update=True, color=rgb_color(0, 0, 0))\n",
    "    # display.DisplayShape(model, update=True, color=rgb_color(1, 0, 0))\n",
    "    # start_display()\n",
    "    return scaled_box\n"
   ]
  },
  {
   "cell_type": "markdown",
   "metadata": {},
   "source": [
    "#### 掃除"
   ]
  },
  {
   "cell_type": "code",
   "execution_count": 3,
   "metadata": {},
   "outputs": [],
   "source": [
    "from OCC.Core.gp import gp_Pnt\n",
    "from OCC.Core.BRepPrimAPI import BRepPrimAPI_MakeBox, BRepPrimAPI_MakeSphere\n",
    "from OCC.Core.BRepAlgoAPI import BRepAlgoAPI_Cut\n",
    "from OCC.Display.SimpleGui import init_display\n",
    "from OCC.Core.IGESControl import IGESControl_Reader\n",
    "\n",
    "def grind(model,S):\n",
    "    # 创建一个几何切割对象\n",
    "    cut_algo = BRepAlgoAPI_Cut(model,S)\n",
    "    # 执行几何切割操作\n",
    "    cut_result = cut_algo.Shape()\n",
    "    return cut_result\n"
   ]
  },
  {
   "cell_type": "markdown",
   "metadata": {},
   "source": [
    "#### 計算表面積"
   ]
  },
  {
   "cell_type": "code",
   "execution_count": 4,
   "metadata": {},
   "outputs": [],
   "source": [
    "from OCC.Core.BRepGProp import brepgprop_SurfaceProperties\n",
    "from OCC.Core.GProp import GProp_GProps\n",
    "from OCC.Core.TopoDS import TopoDS_Shape\n",
    "\n",
    "def calculate_surface_area(shape):\n",
    "    # 將 shape 轉換為 TopoDS_Shape\n",
    "    topods_shape = TopoDS_Shape(shape)\n",
    "\n",
    "    # 初始化表面屬性\n",
    "    surface_props = GProp_GProps()\n",
    "\n",
    "    # 計算表面屬性\n",
    "    brepgprop_SurfaceProperties(topods_shape, surface_props)\n",
    "    \n",
    "\n",
    "    # 獲取表面積\n",
    "    surface_area = surface_props.Mass()\n",
    "\n",
    "    return surface_area"
   ]
  },
  {
   "cell_type": "markdown",
   "metadata": {},
   "source": [
    "#### 讀取路徑資料"
   ]
  },
  {
   "cell_type": "code",
   "execution_count": 13,
   "metadata": {},
   "outputs": [
    {
     "name": "stdout",
     "output_type": "stream",
     "text": [
      "Line: 1\t    1\t        -40\t50\t0\t0\t1\t0\n",
      "\n",
      "Line: 1\t    1\t        -20\t50\t0\t0\t1\t0\n",
      "\n",
      "Line: 1\t    1\t        0\t50\t0\t0\t1\t0\n",
      "\n",
      "Line: 1\t    1\t        20\t50\t0\t0\t1\t0\n",
      "\n",
      "Line: 1\t    1\t        40\t50\t0\t0\t1\t0\n",
      "\n",
      "Line: 1\t    2\t        -40\t50\t5\t0\t1\t0\n",
      "\n",
      "Line: 1\t    2\t        -20\t50\t5\t0\t1\t0\n",
      "\n",
      "Line: 1\t    2\t        0\t50\t5\t0\t1\t0\n",
      "\n",
      "Line: \n",
      "\n",
      "Error: Unable to unpack values from line: \n",
      "\n",
      "points = [('1', '1', '-40', '50', '0', '0', '1', '0'), ('1', '1', '-20', '50', '0', '0', '1', '0'), ('1', '1', '0', '50', '0', '0', '1', '0'), ('1', '1', '20', '50', '0', '0', '1', '0'), ('1', '1', '40', '50', '0', '0', '1', '0'), ('1', '2', '-40', '50', '5', '0', '1', '0'), ('1', '2', '-20', '50', '5', '0', '1', '0'), ('1', '2', '0', '50', '5', '0', '1', '0')]\n"
     ]
    }
   ],
   "source": [
    "points = []  # 创建一个空列表来存储解析后的reward值\n",
    "with open(r\"C:\\alan\\ITRI\\points_test.txt\", \"r\") as file:\n",
    "    for line in file:\n",
    "        # 输出每一行内容，以确保正确读取\n",
    "        print(\"Line:\", line)\n",
    "        try:\n",
    "            # 从每一行中解析出8个值\n",
    "            face, trajc, x, y, z, rx, ry, rz = line.split()\n",
    "            # 将解析后的值作为一个元组添加到rewards列表中\n",
    "            points.append((face, trajc, x, y, z, rx, ry, rz))\n",
    "        except ValueError:\n",
    "            # 如果发生拆包错误，输出错误信息\n",
    "            print(\"Error: Unable to unpack values from line:\", line)\n",
    "\n",
    "# 输出解析后的rewards列表\n",
    "print(\"points =\", points)"
   ]
  },
  {
   "cell_type": "markdown",
   "metadata": {},
   "source": [
    "#### 組合掃除路徑"
   ]
  },
  {
   "cell_type": "code",
   "execution_count": 19,
   "metadata": {},
   "outputs": [
    {
     "name": "stdout",
     "output_type": "stream",
     "text": [
      "Maximum value of point[1]: 1\n",
      "[-40.  50.   0.]\n",
      "[-20.  50.   0.]\n",
      "[ 0. 50.  0.]\n",
      "[20. 50.  0.]\n",
      "[-40.  50.   5.]\n",
      "[-20.  50.   5.]\n"
     ]
    }
   ],
   "source": [
    "from OCC.Core.BRepAlgoAPI import BRepAlgoAPI_Fuse\n",
    "max_value_a = max(int(point[0]) for point in points)\n",
    "print(\"Maximum value of point[1]:\", max_value_a)\n",
    "max_value_b = max(int(point[1]) for point in points)\n",
    "\n",
    "for a in range(1, max_value_a+1): \n",
    "    same_surface_points = [point for point in points if float(point[0]) ==  a]#提取同一面上的點\n",
    "    # same_surface_points=[point for point in points if point[0] == '2']#提取同一面上的點\n",
    "    for b in range(1, max_value_b+1): \n",
    "        same_path_points = [point for point in same_surface_points if float(point[1]) ==  b]#提取同一路徑上的點\n",
    "\n",
    "\n",
    "        #same_path_points = [point for point in same_surface_points if point[1] == '1']#提取同一路徑上的點\n",
    "        for i, point in enumerate(same_path_points):\n",
    "            point = [float(item) for item in point]  # 将字符串转换为浮点数\n",
    "            # print(\"Current Point:\", point)\n",
    "            \n",
    "            point_end=np.array((point[2],point[3],point[4]))\n",
    "            # print(point_end)\n",
    "            normal_vector=np.array((point[5],point[6],point[7]))\n",
    "            if i > 0:\n",
    "                previous_point = [float(item) for item in same_path_points[i - 1]]  # 获取前一个 point 的信息\n",
    "                # print(\"Previous Point:\", previous_point)\n",
    "                point_start=np.array((previous_point[2],previous_point[3],previous_point[4]))\n",
    "                print(point_start)\n",
    "                S=grinding_area(point_start,point_end,normal_vector)#生成研磨範圍\n",
    "\n",
    "                if i==1:\n",
    "                    path_result=S\n",
    "                    # all_result = all_result.Shape()\n",
    "                else:\n",
    "                    path_result = BRepAlgoAPI_Fuse(path_result,S)\n",
    "                    path_result = path_result.Shape()\n",
    "\n",
    "        display, start_display, add_menu, add_function_to_menu = init_display()\n",
    "        box=display.DisplayShape(path_result, update=True)[0]\n",
    "        box.SetTransparency(0.8)\n",
    "        start_display()\n",
    "        \n",
    "        if b==1:\n",
    "            surface_result=path_result\n",
    "            # all_result = all_result.Shape()\n",
    "        else:\n",
    "            surface_result = BRepAlgoAPI_Fuse(path_result,surface_result)\n",
    "            surface_result = surface_result.Shape()\n",
    "\n",
    "    display, start_display, add_menu, add_function_to_menu = init_display()\n",
    "    box=display.DisplayShape(surface_result, update=True)[0]\n",
    "    box.SetTransparency(0.8)\n",
    "    start_display()\n",
    "\n",
    "    if a==1:\n",
    "        all_result=surface_result\n",
    "        # all_result = all_result.Shape()\n",
    "    else:\n",
    "        all_result = BRepAlgoAPI_Fuse(all_result,surface_result)\n",
    "        all_result = all_result.Shape()\n",
    "        \n",
    "display, start_display, add_menu, add_function_to_menu = init_display()\n",
    "box=display.DisplayShape(all_result, update=True)[0]\n",
    "box.SetTransparency(0.8)\n",
    "start_display()\n",
    "\n",
    "    \n",
    "    # if i < len(same_path_points) - 1:\n",
    "    #     next_point = [float(item) for item in same_path_points[i + 1]]  # 获取后一个 point 的信息\n",
    "    #     print(\"Next Point:\", next_point)"
   ]
  },
  {
   "cell_type": "code",
   "execution_count": 12,
   "metadata": {},
   "outputs": [
    {
     "name": "stdout",
     "output_type": "stream",
     "text": [
      "[-40.  50.   0.]\n",
      "[-20.  50.   0.]\n",
      "[ 0. 50.  0.]\n",
      "[20. 50.  0.]\n"
     ]
    }
   ],
   "source": [
    "from OCC.Core.BRepAlgoAPI import BRepAlgoAPI_Fuse\n",
    "max_value = max(int(point[1]) for point in points)\n",
    "# print(\"Maximum value of point[1]:\", max_value)\n",
    "\n",
    "\n",
    "    \n",
    "same_surface_points = [point for point in points if float(point[0]) ==  1]#提取同一面上的點\n",
    "\n",
    "# same_surface_points=[point for point in points if point[0] == '2']#提取同一面上的點\n",
    "same_path_points = [point for point in same_surface_points if point[1] == '1']#提取同一路徑上的點\n",
    "for i, point in enumerate(same_path_points):\n",
    "    point = [float(item) for item in point]  # 将字符串转换为浮点数\n",
    "    # print(\"Current Point:\", point)\n",
    "        \n",
    "    point_end=np.array((point[2],point[3],point[4]))\n",
    "        # print(point_end)\n",
    "    normal_vector=np.array((point[5],point[6],point[7]))\n",
    "    if i > 0:\n",
    "        previous_point = [float(item) for item in same_path_points[i - 1]]  # 获取前一个 point 的信息\n",
    "        # print(\"Previous Point:\", previous_point)\n",
    "        point_start=np.array((previous_point[2],previous_point[3],previous_point[4]))\n",
    "        print(point_start)\n",
    "        S=grinding_area(point_start,point_end,normal_vector)#生成研磨範圍\n",
    "\n",
    "        if i==1:\n",
    "            path_result=S\n",
    "                # all_result = all_result.Shape()\n",
    "        else:\n",
    "            path_result = BRepAlgoAPI_Fuse(path_result,S)\n",
    "            path_result = path_result.Shape()\n",
    "\n",
    "display, start_display, add_menu, add_function_to_menu = init_display()\n",
    "box=display.DisplayShape(path_result, update=True)[0]\n",
    "box.SetTransparency(0.8)\n",
    "start_display()\n",
    "    \n",
    "    # if i < len(same_path_points) - 1:\n",
    "    #     next_point = [float(item) for item in same_path_points[i + 1]]  # 获取后一个 point 的信息\n",
    "    #     print(\"Next Point:\", next_point)"
   ]
  },
  {
   "cell_type": "markdown",
   "metadata": {},
   "source": [
    "#### 對每一殼層進行掃除，並儲存掃除結果"
   ]
  },
  {
   "cell_type": "code",
   "execution_count": 171,
   "metadata": {},
   "outputs": [
    {
     "name": "stderr",
     "output_type": "stream",
     "text": [
      "C:\\Users\\Martin\\AppData\\Local\\Temp\\ipykernel_36336\\155294808.py:13: DeprecationWarning: Call to deprecated function brepgprop_SurfaceProperties since pythonocc-core 7.7.1. This function will be removed in a future release, please rather use the static method brepgprop.SurfaceProperties\n",
      "  brepgprop_SurfaceProperties(topods_shape, surface_props)\n",
      "C:\\Users\\Martin\\AppData\\Local\\Temp\\ipykernel_36336\\155294808.py:13: DeprecationWarning: Call to deprecated function brepgprop_SurfaceProperties since pythonocc-core 7.7.1. This function will be removed in a future release, please rather use the static method brepgprop.SurfaceProperties\n",
      "  brepgprop_SurfaceProperties(topods_shape, surface_props)\n",
      "C:\\Users\\Martin\\AppData\\Local\\Temp\\ipykernel_36336\\155294808.py:13: DeprecationWarning: Call to deprecated function brepgprop_SurfaceProperties since pythonocc-core 7.7.1. This function will be removed in a future release, please rather use the static method brepgprop.SurfaceProperties\n",
      "  brepgprop_SurfaceProperties(topods_shape, surface_props)\n",
      "C:\\Users\\Martin\\AppData\\Local\\Temp\\ipykernel_36336\\155294808.py:13: DeprecationWarning: Call to deprecated function brepgprop_SurfaceProperties since pythonocc-core 7.7.1. This function will be removed in a future release, please rather use the static method brepgprop.SurfaceProperties\n",
      "  brepgprop_SurfaceProperties(topods_shape, surface_props)\n"
     ]
    },
    {
     "name": "stdout",
     "output_type": "stream",
     "text": [
      "Model_0_origin_area: 58054.87158468008\n",
      "Model_0_final_area: 57264.66622245295\n",
      "Warning: C:\\alan\\ITRI\\cut_result\\layer_0.igs already exists and will be replaced\n",
      "Model_1_origin_area: 56899.57964014494\n",
      "Model_1_final_area: 56125.01319734041\n",
      "Warning: C:\\alan\\ITRI\\cut_result\\layer_1.igs already exists and will be replaced\n",
      "Model_2_origin_area: 55755.89866992674\n",
      "Model_2_final_area: 54999.01946504352\n",
      "Warning: C:\\alan\\ITRI\\cut_result\\layer_2.igs already exists and will be replaced\n",
      "Model_3_origin_area: 54623.82867402547\n",
      "Model_3_final_area: 53888.688090945405\n"
     ]
    },
    {
     "name": "stderr",
     "output_type": "stream",
     "text": [
      "C:\\Users\\Martin\\AppData\\Local\\Temp\\ipykernel_36336\\155294808.py:13: DeprecationWarning: Call to deprecated function brepgprop_SurfaceProperties since pythonocc-core 7.7.1. This function will be removed in a future release, please rather use the static method brepgprop.SurfaceProperties\n",
      "  brepgprop_SurfaceProperties(topods_shape, surface_props)\n",
      "C:\\Users\\Martin\\AppData\\Local\\Temp\\ipykernel_36336\\155294808.py:13: DeprecationWarning: Call to deprecated function brepgprop_SurfaceProperties since pythonocc-core 7.7.1. This function will be removed in a future release, please rather use the static method brepgprop.SurfaceProperties\n",
      "  brepgprop_SurfaceProperties(topods_shape, surface_props)\n",
      "C:\\Users\\Martin\\AppData\\Local\\Temp\\ipykernel_36336\\155294808.py:13: DeprecationWarning: Call to deprecated function brepgprop_SurfaceProperties since pythonocc-core 7.7.1. This function will be removed in a future release, please rather use the static method brepgprop.SurfaceProperties\n",
      "  brepgprop_SurfaceProperties(topods_shape, surface_props)\n",
      "C:\\Users\\Martin\\AppData\\Local\\Temp\\ipykernel_36336\\155294808.py:13: DeprecationWarning: Call to deprecated function brepgprop_SurfaceProperties since pythonocc-core 7.7.1. This function will be removed in a future release, please rather use the static method brepgprop.SurfaceProperties\n",
      "  brepgprop_SurfaceProperties(topods_shape, surface_props)\n"
     ]
    },
    {
     "name": "stdout",
     "output_type": "stream",
     "text": [
      "Warning: C:\\alan\\ITRI\\cut_result\\layer_3.igs already exists and will be replaced\n",
      "Model_4_origin_area: 53503.36965244114\n",
      "Model_4_final_area: 52815.36965244114\n"
     ]
    },
    {
     "name": "stderr",
     "output_type": "stream",
     "text": [
      "C:\\Users\\Martin\\AppData\\Local\\Temp\\ipykernel_36336\\155294808.py:13: DeprecationWarning: Call to deprecated function brepgprop_SurfaceProperties since pythonocc-core 7.7.1. This function will be removed in a future release, please rather use the static method brepgprop.SurfaceProperties\n",
      "  brepgprop_SurfaceProperties(topods_shape, surface_props)\n",
      "C:\\Users\\Martin\\AppData\\Local\\Temp\\ipykernel_36336\\155294808.py:13: DeprecationWarning: Call to deprecated function brepgprop_SurfaceProperties since pythonocc-core 7.7.1. This function will be removed in a future release, please rather use the static method brepgprop.SurfaceProperties\n",
      "  brepgprop_SurfaceProperties(topods_shape, surface_props)\n"
     ]
    },
    {
     "name": "stdout",
     "output_type": "stream",
     "text": [
      "Warning: C:\\alan\\ITRI\\cut_result\\layer_4.igs already exists and will be replaced\n",
      "Warning: C:\\alan\\ITRI\\cut_result\\all.igs already exists and will be replaced\n"
     ]
    }
   ],
   "source": [
    "from OCC.Extend.DataExchange import write_iges_file\n",
    "import os\n",
    "from OCC.Core.BRepAlgoAPI import BRepAlgoAPI_Fuse\n",
    "from OCC.Extend.DataExchange import read_iges_file\n",
    "\n",
    "\n",
    "\n",
    "#讀取模型\n",
    "iges_file =  r\"C:\\alan\\ITRI\\model\\simple_3.igs\"\n",
    "model = read_iges_file(iges_file)\n",
    "display, start_display, add_menu, add_function_to_menu = init_display()\n",
    "display.DisplayShape(model, update=True)[0]\n",
    "start_display()\n",
    "\n",
    "layer_n=5\n",
    "point_start=np.array((-40,50,0))\n",
    "point_end=np.array((40,50,0))\n",
    "normal_vector=np.array((0,1,0))\n",
    "S=grinding_area(point_start,point_end,normal_vector)#生成研磨範圍\n",
    "m_center= gp_Pnt(0,0,0)#質心位置\n",
    "#simple_1:m_center=(0,0,0)\n",
    "#simple_2:m_center=(0,-2.2,-2.2)\n",
    "#simple_3:m_center=(-0.36,-0.76,-0.36)\n",
    "#complex_3:m_center= gp_Pnt(0, 0, 61.5)\n",
    "\n",
    "i=0\n",
    "while i<layer_n:\n",
    "    mag=1-i*0.01\n",
    "    Model=zoom(model,m_center,mag)\n",
    "    cut_result=grind(Model,S)\n",
    "    \n",
    "    surface_origin = calculate_surface_area(Model)\n",
    "    print(f\"Model_{i}_origin_area:\", surface_origin) \n",
    "    surface_cut_result=calculate_surface_area(cut_result)\n",
    "    print(f\"Model_{i}_final_area:\", surface_cut_result)  \n",
    "\n",
    "\n",
    "    # display, start_display, add_menu, add_function_to_menu = init_display()\n",
    "    # box=display.DisplayShape(cut_result, update=True)[0]\n",
    "    # box.SetTransparency(0.1)\n",
    "    # start_display()\n",
    "\n",
    "\n",
    "    if i==0:\n",
    "        all_result=cut_result\n",
    "        # all_result = all_result.Shape()\n",
    "    else:\n",
    "        all_result = BRepAlgoAPI_Fuse(all_result,cut_result)\n",
    "        all_result = all_result.Shape()\n",
    "\n",
    "    iges_file_path=os.path.join(r\"C:\\alan\\ITRI\\cut_result\",f'layer_{i}.igs' )\n",
    "    write_iges_file(cut_result, iges_file_path)\n",
    "\n",
    "\n",
    "    # if surface_origin== surface_cut_result:\n",
    "    #     break\n",
    "\n",
    "    i=i+1\n",
    "\n",
    "iges_file_path=os.path.join(r\"C:\\alan\\ITRI\\cut_result\\all.igs\" )\n",
    "write_iges_file(all_result, iges_file_path)"
   ]
  },
  {
   "cell_type": "markdown",
   "metadata": {},
   "source": [
    "#### 檢視各層研磨結果"
   ]
  },
  {
   "cell_type": "code",
   "execution_count": 172,
   "metadata": {},
   "outputs": [],
   "source": [
    "from OCC.Core.Quantity import Quantity_Color\n",
    "#讀取模型\n",
    "iges_file = r\"C:\\alan\\ITRI\\cut_result\\all.igs\"\n",
    "cut_result = read_iges_file(iges_file)\n",
    "\n",
    "display, start_display, add_menu, add_function_to_menu = init_display()\n",
    "box=display.DisplayShape(cut_result, update=True)[0]\n",
    "box.SetTransparency(0.8)\n",
    "start_display()\n"
   ]
  },
  {
   "cell_type": "code",
   "execution_count": 90,
   "metadata": {},
   "outputs": [],
   "source": [
    "from OCC.Core.Quantity import Quantity_Color\n",
    "#讀取模型\n",
    "iges_file = r\"C:\\alan\\ITRI\\cut_result\\layer_3.igs\"\n",
    "cut_result = read_iges_file(iges_file)\n",
    "display, start_display, add_menu, add_function_to_menu = init_display()\n",
    "box=display.DisplayShape(cut_result, update=True)[0]\n",
    "box.SetTransparency(0.8)\n",
    "start_display()"
   ]
  },
  {
   "cell_type": "markdown",
   "metadata": {},
   "source": [
    "#### 計算研磨成功率"
   ]
  },
  {
   "cell_type": "code",
   "execution_count": null,
   "metadata": {},
   "outputs": [],
   "source": []
  }
 ],
 "metadata": {
  "kernelspec": {
   "display_name": "pyoccenv",
   "language": "python",
   "name": "python3"
  },
  "language_info": {
   "codemirror_mode": {
    "name": "ipython",
    "version": 3
   },
   "file_extension": ".py",
   "mimetype": "text/x-python",
   "name": "python",
   "nbconvert_exporter": "python",
   "pygments_lexer": "ipython3",
   "version": "3.8.18"
  }
 },
 "nbformat": 4,
 "nbformat_minor": 2
}
