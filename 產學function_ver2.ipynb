{
 "cells": [
  {
   "cell_type": "markdown",
   "metadata": {},
   "source": [
    "### functon 1 讀取檔案\n",
    "input ： path, is_display(bool)\n",
    "\n",
    "\n",
    "output： 物件"
   ]
  },
  {
   "cell_type": "code",
   "execution_count": 150,
   "metadata": {},
   "outputs": [],
   "source": [
    "import os\n",
    "from OCC.Display.SimpleGui import init_display\n",
    "from OCC.Extend.DataExchange import read_iges_file\n",
    "\n",
    "def read_file(path, is_display=False):\n",
    "    \n",
    "    if os.path.exists(path):           # 防止路徑不存在\n",
    "        shapes = read_iges_file(path)  # 一定要用這個方法讀取\n",
    "    else:\n",
    "        print(\"檔案路徑錯誤！\")\n",
    "    \n",
    "    if is_display:\n",
    "        # 初始化 3D 顯示環境\n",
    "        display, start_display, add_menu, add_function_to_menu = init_display()\n",
    "        display.DisplayShape(shapes, update=True)\n",
    "        start_display()\n",
    "        \n",
    "    return shapes"
   ]
  },
  {
   "cell_type": "code",
   "execution_count": 151,
   "metadata": {},
   "outputs": [],
   "source": [
    "path = r\"C:\\alan\\ITRI\\ITRI-test\\model\\complex_2.IGS\"#物件路徑\n",
    "object_1 = read_file(path, is_display=True)\n",
    "object_1=object_1[0]"
   ]
  },
  {
   "cell_type": "markdown",
   "metadata": {},
   "source": [
    "### functon 2 分割物件平面\n",
    "input ： object, save_path, is_save(bool)\n",
    "\n",
    "output： 面 1 ~ 面 n"
   ]
  },
  {
   "cell_type": "code",
   "execution_count": 152,
   "metadata": {},
   "outputs": [],
   "source": [
    "#計算表面積\n",
    "from OCC.Core.BRepGProp import brepgprop_SurfaceProperties\n",
    "from OCC.Core.GProp import GProp_GProps\n",
    "from OCC.Core.TopoDS import TopoDS_Shape\n",
    "\n",
    "def calculate_surface_area(shape):\n",
    "    # 將 shape 轉換為 TopoDS_Shape\n",
    "    topods_shape = TopoDS_Shape(shape)\n",
    "\n",
    "    # 初始化表面屬性\n",
    "    surface_props = GProp_GProps()\n",
    "\n",
    "    # 計算表面屬性\n",
    "    brepgprop_SurfaceProperties(topods_shape, surface_props)\n",
    "    \n",
    "\n",
    "    # 獲取表面積\n",
    "    surface_area = surface_props.Mass()\n",
    "\n",
    "    return surface_area"
   ]
  },
  {
   "cell_type": "code",
   "execution_count": 153,
   "metadata": {},
   "outputs": [],
   "source": [
    "import os\n",
    "from OCC.Core.TopExp import TopExp_Explorer\n",
    "from OCC.Core.TopoDS import topods\n",
    "from OCC.Core.TopAbs import TopAbs_FACE\n",
    "from OCC.Display.OCCViewer import OffscreenRenderer\n",
    "from OCC.Core.GProp import GProp_GProps\n",
    "\n",
    "# 平面影像儲存路徑\n",
    "image_directory = r\"C:\\alan\\ITRI\\ITRI-test\\images\"\n",
    "\n",
    "\n",
    "def plane_segmentation(object, save_path, is_save=True):\n",
    "    # 初始化 GProp_GProps 對象來存儲屬性\n",
    "\n",
    "    if not os.path.exists(save_path):        # 如果 save_path 不存在，則創建一個\n",
    "        os.makedirs(save_path)\n",
    "        \n",
    "    \n",
    "    explorer = TopExp_Explorer(object, TopAbs_FACE) # TopAbs_FACE 只對面感興趣\n",
    " \n",
    "    faces = []\n",
    "    index = 1\n",
    "    # 宣告一個渲彩器(不會顯示出來)\n",
    "    renderer = OffscreenRenderer()\n",
    "    renderer.Create()\n",
    "    \n",
    "    while explorer.More():\n",
    "        \n",
    "        face = topods.Face(explorer.Current())\n",
    "        area=calculate_surface_area(face)\n",
    "        print(\"surface area=\",area)\n",
    "        if area>100:\n",
    "            faces.append(face)                     # 將當前的面儲存到 list 中\n",
    "        \n",
    "            renderer.EraseAll()\n",
    "            renderer.DisplayShape(face, update=True, color='BLUE', transparency=0.5)  # 可以調整顏色和透明度\n",
    "            renderer.FitAll()\n",
    "            \n",
    "            if is_save:\n",
    "                image_path = os.path.join(image_directory, f'object_face_{index}.png')            \n",
    "                renderer.View.Dump(image_path)\n",
    "                print(f'Saved image of face {index} to {image_path}')\n",
    "\n",
    "            index += 1\n",
    "        explorer.Next()                      # 移動到下一個面\n",
    "    \n",
    "    return faces"
   ]
  },
  {
   "cell_type": "code",
   "execution_count": 154,
   "metadata": {},
   "outputs": [
    {
     "name": "stderr",
     "output_type": "stream",
     "text": [
      "C:\\Users\\sw_ya\\AppData\\Local\\Temp\\ipykernel_28428\\2646621404.py:14: DeprecationWarning: Call to deprecated function brepgprop_SurfaceProperties since pythonocc-core 7.7.1. This function will be removed in a future release, please rather use the static method brepgprop.SurfaceProperties\n",
      "  brepgprop_SurfaceProperties(topods_shape, surface_props)\n",
      "C:\\Users\\sw_ya\\AppData\\Local\\Temp\\ipykernel_28428\\2646621404.py:14: DeprecationWarning: Call to deprecated function brepgprop_SurfaceProperties since pythonocc-core 7.7.1. This function will be removed in a future release, please rather use the static method brepgprop.SurfaceProperties\n",
      "  brepgprop_SurfaceProperties(topods_shape, surface_props)\n",
      "C:\\Users\\sw_ya\\AppData\\Local\\Temp\\ipykernel_28428\\2646621404.py:14: DeprecationWarning: Call to deprecated function brepgprop_SurfaceProperties since pythonocc-core 7.7.1. This function will be removed in a future release, please rather use the static method brepgprop.SurfaceProperties\n",
      "  brepgprop_SurfaceProperties(topods_shape, surface_props)\n"
     ]
    },
    {
     "name": "stdout",
     "output_type": "stream",
     "text": [
      "surface area= 2722.643851351966\n",
      "Many colors for color name BLUE, using first.\n",
      "OffscreenRenderer content dumped to c:\\alan\\ITRI\\ITRI-test\\capture-1-1721297636.jpeg\n",
      "Saved image of face 1 to C:\\alan\\ITRI\\ITRI-test\\images\\object_face_1.png\n",
      "surface area= 2722.643852688907\n",
      "Many colors for color name BLUE, using first.\n",
      "OffscreenRenderer content dumped to c:\\alan\\ITRI\\ITRI-test\\capture-2-1721297636.jpeg\n",
      "Saved image of face 2 to C:\\alan\\ITRI\\ITRI-test\\images\\object_face_2.png\n",
      "surface area= 2722.643577835775\n",
      "Many colors for color name BLUE, using first.\n",
      "OffscreenRenderer content dumped to c:\\alan\\ITRI\\ITRI-test\\capture-3-1721297636.jpeg\n",
      "Saved image of face 3 to C:\\alan\\ITRI\\ITRI-test\\images\\object_face_3.png\n",
      "surface area= 7704.05429829504\n",
      "Many colors for color name BLUE, using first.\n",
      "OffscreenRenderer content dumped to c:\\alan\\ITRI\\ITRI-test\\capture-4-1721297637.jpeg\n",
      "Saved image of face 4 to C:\\alan\\ITRI\\ITRI-test\\images\\object_face_4.png\n",
      "surface area= 7704.0540750618875\n",
      "Many colors for color name BLUE, using first.\n",
      "OffscreenRenderer content dumped to c:\\alan\\ITRI\\ITRI-test\\capture-5-1721297637.jpeg\n",
      "Saved image of face 5 to C:\\alan\\ITRI\\ITRI-test\\images\\object_face_5.png\n",
      "surface area= 2722.6435785477856\n",
      "Many colors for color name BLUE, using first.\n",
      "OffscreenRenderer content dumped to c:\\alan\\ITRI\\ITRI-test\\capture-6-1721297637.jpeg\n",
      "Saved image of face 6 to C:\\alan\\ITRI\\ITRI-test\\images\\object_face_6.png\n",
      "surface area= 5928.284615374617\n",
      "Many colors for color name BLUE, using first.\n"
     ]
    },
    {
     "name": "stderr",
     "output_type": "stream",
     "text": [
      "C:\\Users\\sw_ya\\AppData\\Local\\Temp\\ipykernel_28428\\2646621404.py:14: DeprecationWarning: Call to deprecated function brepgprop_SurfaceProperties since pythonocc-core 7.7.1. This function will be removed in a future release, please rather use the static method brepgprop.SurfaceProperties\n",
      "  brepgprop_SurfaceProperties(topods_shape, surface_props)\n",
      "C:\\Users\\sw_ya\\AppData\\Local\\Temp\\ipykernel_28428\\2646621404.py:14: DeprecationWarning: Call to deprecated function brepgprop_SurfaceProperties since pythonocc-core 7.7.1. This function will be removed in a future release, please rather use the static method brepgprop.SurfaceProperties\n",
      "  brepgprop_SurfaceProperties(topods_shape, surface_props)\n",
      "C:\\Users\\sw_ya\\AppData\\Local\\Temp\\ipykernel_28428\\2646621404.py:14: DeprecationWarning: Call to deprecated function brepgprop_SurfaceProperties since pythonocc-core 7.7.1. This function will be removed in a future release, please rather use the static method brepgprop.SurfaceProperties\n",
      "  brepgprop_SurfaceProperties(topods_shape, surface_props)\n",
      "C:\\Users\\sw_ya\\AppData\\Local\\Temp\\ipykernel_28428\\2646621404.py:14: DeprecationWarning: Call to deprecated function brepgprop_SurfaceProperties since pythonocc-core 7.7.1. This function will be removed in a future release, please rather use the static method brepgprop.SurfaceProperties\n",
      "  brepgprop_SurfaceProperties(topods_shape, surface_props)\n"
     ]
    },
    {
     "name": "stdout",
     "output_type": "stream",
     "text": [
      "OffscreenRenderer content dumped to c:\\alan\\ITRI\\ITRI-test\\capture-7-1721297637.jpeg\n",
      "Saved image of face 7 to C:\\alan\\ITRI\\ITRI-test\\images\\object_face_7.png\n",
      "surface area= 5928.283321419987\n",
      "Many colors for color name BLUE, using first.\n",
      "OffscreenRenderer content dumped to c:\\alan\\ITRI\\ITRI-test\\capture-8-1721297637.jpeg\n",
      "Saved image of face 8 to C:\\alan\\ITRI\\ITRI-test\\images\\object_face_8.png\n",
      "surface area= 5928.284036201905\n",
      "Many colors for color name BLUE, using first.\n",
      "OffscreenRenderer content dumped to c:\\alan\\ITRI\\ITRI-test\\capture-9-1721297637.jpeg\n",
      "Saved image of face 9 to C:\\alan\\ITRI\\ITRI-test\\images\\object_face_9.png\n",
      "surface area= 5928.283321627232\n",
      "Many colors for color name BLUE, using first.\n",
      "OffscreenRenderer content dumped to c:\\alan\\ITRI\\ITRI-test\\capture-10-1721297637.jpeg\n",
      "Saved image of face 10 to C:\\alan\\ITRI\\ITRI-test\\images\\object_face_10.png\n",
      "object_1 總共有 10 個物件\n"
     ]
    },
    {
     "name": "stderr",
     "output_type": "stream",
     "text": [
      "C:\\Users\\sw_ya\\AppData\\Local\\Temp\\ipykernel_28428\\2646621404.py:14: DeprecationWarning: Call to deprecated function brepgprop_SurfaceProperties since pythonocc-core 7.7.1. This function will be removed in a future release, please rather use the static method brepgprop.SurfaceProperties\n",
      "  brepgprop_SurfaceProperties(topods_shape, surface_props)\n",
      "C:\\Users\\sw_ya\\AppData\\Local\\Temp\\ipykernel_28428\\2646621404.py:14: DeprecationWarning: Call to deprecated function brepgprop_SurfaceProperties since pythonocc-core 7.7.1. This function will be removed in a future release, please rather use the static method brepgprop.SurfaceProperties\n",
      "  brepgprop_SurfaceProperties(topods_shape, surface_props)\n",
      "C:\\Users\\sw_ya\\AppData\\Local\\Temp\\ipykernel_28428\\2646621404.py:14: DeprecationWarning: Call to deprecated function brepgprop_SurfaceProperties since pythonocc-core 7.7.1. This function will be removed in a future release, please rather use the static method brepgprop.SurfaceProperties\n",
      "  brepgprop_SurfaceProperties(topods_shape, surface_props)\n"
     ]
    }
   ],
   "source": [
    "object_1_faces = plane_segmentation(object_1, image_directory)\n",
    "print(\"object_1 總共有\", len(object_1_faces), \"個物件\")"
   ]
  },
  {
   "cell_type": "markdown",
   "metadata": {},
   "source": [
    "### functon 3 平面+線段 生成 drive plane\n",
    "input ： 平面 選擇的邊線 \n",
    "\n",
    "output： 面 1 ~ 面 n"
   ]
  },
  {
   "cell_type": "code",
   "execution_count": 155,
   "metadata": {},
   "outputs": [],
   "source": [
    "## 計算線段曲率\n",
    "from OCC.Core.BRepLProp import BRepLProp_CLProps\n",
    "from OCC.Core.BRepAdaptor import BRepAdaptor_Curve\n",
    "from OCC.Core.GeomAPI import GeomAPI_ProjectPointOnSurf\n",
    "from OCC.Core.GCPnts import GCPnts_UniformAbscissa\n",
    "from OCC.Core.GCPnts import GCPnts_AbscissaPoint\n",
    "\n",
    "from OCC.Core.GeomLProp import GeomLProp_SLProps\n",
    "from OCC.Core.gp import gp_Pnt, gp_Vec\n",
    "\n",
    "def calculate_average_curvature(edge, curve_length, props, point_spacing, num_points=10):\n",
    "    # 將交線轉換成曲線\n",
    "    curve_adaptor = BRepAdaptor_Curve(edge)\n",
    "    first_param = curve_adaptor.FirstParameter() \n",
    "    last_param = curve_adaptor.LastParameter()   \n",
    "    num_points = int(curve_length / point_spacing) + 1\n",
    "    curvature_sum = 0\n",
    "    \n",
    "    for i in range(1, num_points - 1):  # 第一個跟最後一個點不算，怕有問題\n",
    "        param = first_param + i * (last_param - first_param) * point_spacing / curve_length \n",
    "        point = curve_adaptor.Value(param)                                                 # 依序得到座標(從UV轉為XYZ)\n",
    "        \"\"\"\n",
    "        它從你設計的這個面（比如一個彎曲的盾牌表面）中，取出它的數學模型，讓我們可以計算和操作它，例如測量它的彎曲程度或找到它的中心點等。\n",
    "        \"\"\"                                                 \n",
    "        surface_handle = BRep_Tool.Surface(face)                                           \n",
    "        projector = GeomAPI_ProjectPointOnSurf(point, surface_handle) ##在尋找如果從這個點垂直投影到曲面上，它會落在哪里\n",
    "        \n",
    "        if projector.NbPoints() > 0:  ##確保至少有一個投影點\n",
    "            \"\"\"\n",
    "            在曲面上，每個點都可以通過兩個參數（通常表示為 u 和 v）來定位。這些參數有點像地圖上的經緯度，它們告訴你這個點在曲面的「網格」上的位置。\n",
    "            \"\"\"\n",
    "            u, v = projector.LowerDistanceParameters()\n",
    "        props.SetParameters(u, v)     ##告訴分析器在曲面上的哪個點進行計算\n",
    "        if props.IsCurvatureDefined():\n",
    "            curvature = props.MaxCurvature()\n",
    "            \n",
    "            \n",
    "        curvature_sum += curvature    \n",
    "        \n",
    "    # if props.IsCurvatureDefined():\n",
    "        #     max_dir, min_dir = gp_Dir(), gp_Dir()\n",
    "        #     props.CurvatureDirections(max_dir, min_dir)\n",
    "        #     # 最大最小曲率的方向?\n",
    "        #     print(\"Direction of Maximum Curvature:\", max_dir.X(), max_dir.Y(), max_dir.Z())\n",
    "        #     print(\"Direction of Minimum Curvature:\", min_dir.X(), min_dir.Y(), min_dir.Z())\n",
    "\n",
    "    average_curvature = curvature_sum / (num_points - 2)  ## 計算平均曲率\n",
    "    # print(face_index + \"\\t\" + path_index + \"\\t\" + average_curvature)  \n",
    "    return average_curvature\n",
    "    "
   ]
  },
  {
   "cell_type": "markdown",
   "metadata": {},
   "source": [
    "# 根據取率調整採樣點的距離"
   ]
  },
  {
   "cell_type": "code",
   "execution_count": 156,
   "metadata": {},
   "outputs": [],
   "source": [
    "from OCC.Core.GeomLProp import GeomLProp_SLProps\n",
    "from OCC.Core.gp import gp_Pnt, gp_Vec\n",
    "import math\n",
    "def calculate_suitable_plane_spacing(edge, curve_length, props, point_spacing, num_points=10, x=0.5):\n",
    "    # 將交線轉換成曲線\n",
    "    curve_adaptor = BRepAdaptor_Curve(edge)\n",
    "    first_param = curve_adaptor.FirstParameter() \n",
    "    last_param = curve_adaptor.LastParameter()   \n",
    "    num_points = int(curve_length / point_spacing) + 1\n",
    "    curvature_list = []\n",
    "    \n",
    "    for i in range(1, num_points - 1):  # 第一個跟最後一個點不算，怕有問題\n",
    "        param = first_param + i * (last_param - first_param) * point_spacing / curve_length \n",
    "        point = curve_adaptor.Value(param)                                                 # 依序得到座標(從UV轉為XYZ)\n",
    "        \"\"\"\n",
    "        它從你設計的這個面（比如一個彎曲的盾牌表面）中，取出它的數學模型，讓我們可以計算和操作它，例如測量它的彎曲程度或找到它的中心點等。\n",
    "        \"\"\"                                                 \n",
    "        surface_handle = BRep_Tool.Surface(face)                                           \n",
    "        projector = GeomAPI_ProjectPointOnSurf(point, surface_handle) ##在尋找如果從這個點垂直投影到曲面上，它會落在哪里\n",
    "        \n",
    "        if projector.NbPoints() > 0:  ##確保至少有一個投影點\n",
    "            \"\"\"\n",
    "            在曲面上，每個點都可以通過兩個參數（通常表示為 u 和 v）來定位。這些參數有點像地圖上的經緯度，它們告訴你這個點在曲面的「網格」上的位置。\n",
    "            \"\"\"\n",
    "            u, v = projector.LowerDistanceParameters()\n",
    "        props.SetParameters(u, v)     ##告訴分析器在曲面上的哪個點進行計算\n",
    "        if props.IsCurvatureDefined():\n",
    "            max_curvature = props.MaxCurvature()\n",
    "            min_curvature = props.MinCurvature()\n",
    "            \n",
    "            # 取得最大曲率和最小曲率的絕對值\n",
    "            abs_max_curvature = abs(max_curvature)\n",
    "            abs_min_curvature = abs(min_curvature)\n",
    "\n",
    "            # 比較絕對值大小，並將較大的曲率絕對值添加到列表中\n",
    "            if abs_max_curvature < abs_min_curvature:\n",
    "                curvature_list.append(abs_min_curvature)\n",
    "            else:\n",
    "                curvature_list.append(abs_max_curvature)\n",
    "               \n",
    "    # print(\"face_index=\", face_index)\n",
    "    # print(\"curvature_list=\", curvature_list)\n",
    "    max_curvature = max(curvature_list) ## 得到曲線上的最大曲率\n",
    "    # print(\"max_curvature=\", max_curvature)\n",
    "    # min_curvature = min(curvature_list) ## 得到曲線上的最大曲率\n",
    "    # print(\"min_curvature=\", min_curvature)\n",
    "    if max_curvature == 0:              ## 反推得到曲率半徑\n",
    "        min_radius = 1000           \n",
    "    else:\n",
    "        min_radius = 1. / max_curvature\n",
    "    # print(\"min_radius=\", min_radius)\n",
    "    min_spacing = math.sin(math.acos(1-(x/min_radius))) * 2 * min_radius  ## 得到最大容許長度\n",
    "    return min_spacing"
   ]
  },
  {
   "cell_type": "markdown",
   "metadata": {},
   "source": [
    "# 根據最小曲率方向生成目標線段"
   ]
  },
  {
   "cell_type": "code",
   "execution_count": 157,
   "metadata": {},
   "outputs": [],
   "source": [
    "import os\n",
    "import numpy as np\n",
    "from OCC.Core.IGESControl import IGESControl_Reader\n",
    "from OCC.Core.TopExp import TopExp_Explorer\n",
    "from OCC.Core.TopoDS import topods_Face, TopoDS_Face, TopoDS_Shape\n",
    "from OCC.Core.BRepAdaptor import BRepAdaptor_Surface\n",
    "from OCC.Core.BRepLProp import BRepLProp_SLProps\n",
    "from OCC.Core.TopoDS import topods_Edge\n",
    "from OCC.Core.TopAbs import TopAbs_FACE\n",
    "from OCC.Core.TopAbs import TopAbs_EDGE\n",
    "from OCC.Core.gp import gp_Pnt, gp_Vec\n",
    "from OCC.Core.BRepBuilderAPI import BRepBuilderAPI_MakeEdge, BRepBuilderAPI_MakeVertex\n",
    "from OCC.Core.Bnd import Bnd_Box\n",
    "from OCC.Core.BRepBndLib import brepbndlib_Add\n",
    "from OCC.Core.gp import gp_Pnt\n",
    "from OCC.Core.BRepPrimAPI import BRepPrimAPI_MakeBox\n",
    "from OCC.Core.BRepExtrema import BRepExtrema_DistShapeShape\n",
    "from OCC.Display.OCCViewer import rgb_color\n",
    "from OCC.Core.gp import gp_Pnt, gp_Dir, gp_Lin\n",
    "from OCC.Core.BRepAlgoAPI import BRepAlgoAPI_Section\n",
    "from OCC.Core.TopAbs import TopAbs_VERTEX\n",
    "from OCC.Core.BRep import BRep_Tool\n",
    "def make_line(start_point, end_point):\n",
    "    edge_builder = BRepBuilderAPI_MakeEdge(start_point, end_point)\n",
    "    print(\"edgebuilder=\",edge_builder)\n",
    "    return edge_builder.Edge()\n",
    "\n",
    "\n",
    "def extend_to_boundary(face, direction, step=0.1, max_steps=1000, tolerance=0.01):\n",
    "    bbox = Bnd_Box()\n",
    "    brepbndlib_Add(face, bbox)\n",
    "    xmin, ymin, zmin, xmax, ymax, zmax = bbox.Get()\n",
    "    # print(xmin, ymin, zmin, xmax, ymax, zmax)\n",
    "    center = gp_Pnt((xmin + xmax) / 2, (ymin + ymax) / 2, (zmin + zmax) / 2)\n",
    "    point = center\n",
    "    if xmin < 0:\n",
    "        xmin += 1\n",
    "    else:\n",
    "        xmin -= 1\n",
    "    \n",
    "    if xmax < 0:\n",
    "        xmax += 1\n",
    "    else:\n",
    "        xmax -= 1\n",
    "\n",
    "    if ymin < 0:\n",
    "        ymin += 1\n",
    "    else:\n",
    "        ymin -= 1\n",
    "    \n",
    "    if ymax < 0:\n",
    "        ymax += 1\n",
    "    else:\n",
    "        ymax -= 1\n",
    "\n",
    "    if zmin < 0:\n",
    "        zmin += 1\n",
    "    else:\n",
    "        zmin -= 1\n",
    "\n",
    "    if zmax < 0:\n",
    "        zmax += 1\n",
    "    else:\n",
    "        zmax -= 1\n",
    "    box = BRepPrimAPI_MakeBox(gp_Pnt(xmin,ymin,zmin),gp_Pnt(xmax,ymax,zmax)).Shape()\n",
    "    for _ in range(max_steps):\n",
    "        next_point = gp_Pnt(point.X() + direction.X() * step,\n",
    "                            point.Y() + direction.Y() * step,\n",
    "                            point.Z() + direction.Z() * step)\n",
    "        vertex = BRepBuilderAPI_MakeVertex(next_point).Vertex()\n",
    "        dist = BRepExtrema_DistShapeShape(box, vertex)\n",
    "        if dist.Value() > tolerance:\n",
    "            break\n",
    "        point = next_point\n",
    "    # display.DisplayShape(face)\n",
    "    \n",
    "    # display.DisplayShape(box,update=True,color=rgb_color(0,0,0.1),transparency=1)\n",
    "    return point\n",
    "# def extend_to_boundary(face, direction):\n",
    "#     bbox = Bnd_Box()\n",
    "#     brepbndlib_Add(face, bbox)\n",
    "#     xmin, ymin, zmin, xmax, ymax, zmax = bbox.Get()\n",
    "    \n",
    "#     center = gp_Pnt((xmin + xmax) / 2, (ymin + ymax) / 2, (zmin + zmax) / 2)\n",
    "#     box = BRepPrimAPI_MakeBox(gp_Pnt(xmin, ymin, zmin), gp_Pnt(xmax, ymax, zmax)).Shape()\n",
    "    \n",
    "#     start_point = gp_Pnt(center.X(), center.Y(), center.Z())\n",
    "#     end_point = gp_Pnt(center.X() + 1000 * direction.X(), center.Y() + 1000 * direction.Y(), center.Z() + 1000 * direction.Z())\n",
    "\n",
    "#     # 建立有界邊緣\n",
    "#     line = BRepBuilderAPI_MakeEdge(start_point, end_point).Edge()\n",
    "#     section = BRepAlgoAPI_Section(box, line)\n",
    "#     section.Build()\n",
    "    \n",
    "#     if not section.IsDone():\n",
    "#         print(\"Section failed to compute\")\n",
    "#         return None\n",
    "    \n",
    "#     points = None\n",
    "#     ex = TopExp_Explorer(section.Shape(), TopAbs_VERTEX)\n",
    "#     while ex.More():\n",
    "#         vertex = topods.Vertex(ex.Current())\n",
    "#         pnt = BRep_Tool.Pnt(vertex)\n",
    "#         points = pnt\n",
    "#         ex.Next()\n",
    "#     return points\n",
    "\n",
    "def generate_line_segments(face):    \n",
    "    face = topods.Face(face)\n",
    "    adaptor_surface = BRepAdaptor_Surface(face, True)\n",
    "    props = BRepLProp_SLProps(adaptor_surface, 2, 0.01)\n",
    "    u_min, u_max, v_min, v_max = adaptor_surface.FirstUParameter(), adaptor_surface.LastUParameter(), adaptor_surface.FirstVParameter(), adaptor_surface.LastVParameter()\n",
    "\n",
    "    u_values = np.linspace(u_min, u_max, num=100)\n",
    "    v_values = np.linspace(v_min, v_max, num=100)\n",
    "\n",
    "    min_curvatures = []\n",
    "    selected_tangents = []\n",
    "    for u in u_values:\n",
    "        for v in v_values:\n",
    "            u_mid = (u_min + u_max) / 2\n",
    "            v_mid = (v_min + v_max) / 2\n",
    "            props.SetParameters(u, v)\n",
    "            if props.IsCurvatureDefined():\n",
    "                normal = props.Normal()\n",
    "                \n",
    "                if face.Orientation() == TopAbs_FACE:\n",
    "                    normal.Reverse()\n",
    "\n",
    "                tangent_U = props.D1U()\n",
    "                tangent_V = props.D1V()\n",
    "                center = adaptor_surface.Value(u_mid, v_mid)\n",
    "\n",
    "                tangent_U_magnitude = tangent_U.Magnitude()\n",
    "                tangent_V_magnitude = tangent_V.Magnitude()\n",
    "\n",
    "                normalized_tangent_U = gp_Vec(tangent_U.X() / tangent_U_magnitude, tangent_U.Y() / tangent_U_magnitude, tangent_U.Z() / tangent_U_magnitude)\n",
    "                normalized_tangent_V = gp_Vec(tangent_V.X() / tangent_V_magnitude, tangent_V.Y() / tangent_V_magnitude, tangent_V.Z() / tangent_V_magnitude)\n",
    "\n",
    "                min_curvature_V = props.MinCurvature()\n",
    "                min_curvature_U = props.MinCurvature()\n",
    "\n",
    "                if min_curvature_V > min_curvature_U:\n",
    "                    selected_tangent = normalized_tangent_U\n",
    "                    min_curvature = min_curvature_U\n",
    "                else:\n",
    "                    selected_tangent = normalized_tangent_V\n",
    "                    min_curvature = min_curvature_V\n",
    "\n",
    "                min_curvatures.append(min_curvature)\n",
    "                selected_tangents.append(selected_tangent)\n",
    "\n",
    "    average_min_curvature = sum(min_curvatures) / len(min_curvatures)\n",
    "    # print(\"平均最小曲率:\", round(average_min_curvature, 2))\n",
    "\n",
    "    average_tangent = gp_Vec(sum(tangent.X() for tangent in selected_tangents) / len(selected_tangents),\n",
    "                            sum(tangent.Y() for tangent in selected_tangents) / len(selected_tangents),\n",
    "                            sum(tangent.Z() for tangent in selected_tangents) / len(selected_tangents))\n",
    "    # print(\"平均最小曲率的方向:\", round(average_tangent.X(), 2), round(average_tangent.Y(), 2), round(average_tangent.Z(), 2))\n",
    "\n",
    "    end_point_selected = extend_to_boundary(face, average_tangent)\n",
    "    start_point_selected = extend_to_boundary(face, gp_Vec(-average_tangent.X(), -average_tangent.Y(), -average_tangent.Z()))\n",
    "\n",
    "    line_selected = make_line(start_point_selected, end_point_selected)\n",
    "    \n",
    "    \n",
    "\n",
    "    return line_selected    "
   ]
  },
  {
   "cell_type": "code",
   "execution_count": 158,
   "metadata": {},
   "outputs": [],
   "source": [
    "#確定法向量方向\n",
    "from OCC.Core.gp import gp_Pnt\n",
    "from OCC.Core.GC import GC_MakeSegment\n",
    "from OCC.Core.BRepBuilderAPI import BRepBuilderAPI_MakeEdge, BRepBuilderAPI_MakeWire\n",
    "from OCC.Core.gp import gp_Pnt, gp_Vec, gp_Dir,gp_Circ, gp_Ax2, gp_Pnt\n",
    "from OCC.Core.BRepBuilderAPI import BRepBuilderAPI_MakeEdge, BRepBuilderAPI_MakeWire,BRepBuilderAPI_MakeFace\n",
    "from OCC.Core.BRepOffsetAPI import BRepOffsetAPI_MakePipe\n",
    "from OCC.Display.SimpleGui import init_display\n",
    "import numpy as np\n",
    "from OCC.Core.IGESControl import IGESControl_Reader\n",
    "from OCC.Core.BRepBuilderAPI import BRepBuilderAPI_MakeEdge\n",
    "from OCC.Core.BRepAlgoAPI import BRepAlgoAPI_Section\n",
    "from OCC.Core.TopExp import TopExp_Explorer\n",
    "from OCC.Core.TopAbs import TopAbs_VERTEX\n",
    "from OCC.Core.BRep import BRep_Tool\n",
    "from OCC.Extend.DataExchange import read_iges_file\n",
    "\n",
    "\n",
    "def check_normal_vector_direction(face,model):\n",
    "\n",
    "    adaptor_surface = BRepAdaptor_Surface(face, True)\n",
    "    props = BRepLProp_SLProps(adaptor_surface, 2, 0.01)\n",
    "    u_min, u_max, v_min, v_max = adaptor_surface.FirstUParameter(), adaptor_surface.LastUParameter(), adaptor_surface.FirstVParameter(), adaptor_surface.LastVParameter()\n",
    "    u_mid = (u_min + u_max) / 2\n",
    "    v_mid = (v_min + v_max) / 2\n",
    "    props.SetParameters(u_mid, v_mid)\n",
    "    center = adaptor_surface.Value(u_mid, v_mid)\n",
    "    if props.IsCurvatureDefined():\n",
    "        normal = props.Normal()    \n",
    "    # if projector.NbPoints() > 0:\n",
    "    #     u, v = projector.LowerDistanceParameters()\n",
    "    \n",
    "    # else:\n",
    "    #     print(\"No projection found for this point\")        \n",
    "    #     props.SetParameters(u, v)\n",
    "    #     if props.IsCurvatureDefined():\n",
    "    #         normal = props.Normal()\n",
    "    # 創建一條線段\n",
    "    point_s=gp_Pnt(center.X(),center.Y(), center.Z())\n",
    "    point_e=gp_Pnt(float(center.X()+10000*normal.X()),float(center.Y()+10000*normal.Y()), float(center.Z()+10000*normal.Z()))\n",
    "    line = BRepBuilderAPI_MakeEdge(point_s, point_e).Edge()\n",
    "\n",
    "    # 計算交點\n",
    "    section = BRepAlgoAPI_Section(line, model)\n",
    "    section.Build()\n",
    "\n",
    "    # 提取交點\n",
    "    intersection_points = []\n",
    "    if section.IsDone():\n",
    "        ex = TopExp_Explorer(section.Shape(), TopAbs_VERTEX)\n",
    "        while ex.More():\n",
    "            vertex = ex.Current()\n",
    "            point = BRep_Tool.Pnt(vertex)\n",
    "            intersection_points.append(point)\n",
    "            ex.Next()\n",
    "\n",
    "    # 打印交點數量和座標\n",
    "    # print(f\"Number of intersection points: {len(intersection_points)}\")\n",
    "\n",
    "    \n",
    "    # print(f\"Number of intersection points: {len(intersection_points)}\")\n",
    "    # for point in intersection_points:\n",
    "    #     print(f\"Intersection point: ({point.X()}, {point.Y()}, {point.Z()})\")\n",
    "        \n",
    "    if len(intersection_points)%2==0:\n",
    "        return 0\n",
    "    else :\n",
    "        return 1"
   ]
  },
  {
   "cell_type": "code",
   "execution_count": 159,
   "metadata": {},
   "outputs": [],
   "source": [
    "from OCC.Core.gp import gp_Pnt, gp_Dir, gp_Pln, gp_Vec\n",
    "from OCC.Core.BRepBuilderAPI import BRepBuilderAPI_MakeFace\n",
    "from OCC.Core.BRepAdaptor import BRepAdaptor_Curve\n",
    "from OCC.Core.GCPnts import GCPnts_UniformAbscissa\n",
    "from OCC.Display.SimpleGui import init_display\n",
    "from OCC.Core.BRepAlgoAPI import BRepAlgoAPI_Section\n",
    "from OCC.Core.TopExp import TopExp_Explorer\n",
    "from OCC.Core.TopoDS import topods_Face\n",
    "from OCC.Core.GCPnts import GCPnts_AbscissaPoint\n",
    "from OCC.Core.GCPnts import GCPnts_UniformAbscissa  \n",
    "from OCC.Core.BRepLProp import BRepLProp_SLProps\n",
    "from OCC.Core.BRepAdaptor import BRepAdaptor_Surface\n",
    "from OCC.Core.GeomAPI import GeomAPI_ProjectPointOnSurf\n",
    "from OCC.Core.BRep import BRep_Tool\n",
    "from OCC.Core.TopAbs import TopAbs_FACE, TopAbs_REVERSED\n",
    "\n",
    "def calculate_section(object,face, length, curve_adaptor, name = '', plane_spacing = 10.0, point_spacing = 5.0, is_save=True, is_display=False):\n",
    "    \"\"\"\n",
    "    可以更容易地獲取這個面的各種幾何信息，比如曲面的尺寸、形狀、位置等，並且可以更方便地執行一些複雜的操作，如計算曲率等。\n",
    "    \"\"\"\n",
    "    adaptor_surface = BRepAdaptor_Surface(face, True) \n",
    "    props = BRepLProp_SLProps(adaptor_surface, 2, 0.01)  # 這個分析器被配置為能夠計算高達二階導數的幾何性質（這由第二個參數指定，此處為 2），這意味著它能夠計算曲率等性質\n",
    "    num_planes = int(length / plane_spacing) + 1\n",
    "    path_index = 0\n",
    "    check_normal=check_normal_vector_direction(face,object)\n",
    "\n",
    "    if length % plane_spacing != 0:\n",
    "        iter_plane = num_planes + 1\n",
    "    else:\n",
    "        iter_plane = num_planes\n",
    "    \n",
    "    for i in range(0, iter_plane):\n",
    "        path_index += 1\n",
    "        u = curve_adaptor.FirstParameter() + i * plane_spacing\n",
    "        if u >= curve_adaptor.LastParameter():\n",
    "            u = curve_adaptor.LastParameter()\n",
    "        pnt = curve_adaptor.Value(u)           ## 得到XYZ座標\n",
    "        tangent_vector = curve_adaptor.DN(u, 1).Normalized() ##  tangent_vector。DN(u, 1) 表示取得曲線在 u 點的第一階導數（即切向量），並且通過 Normalized() 函數將此向量標準化\n",
    "        tangent_dir = gp_Dir(tangent_vector)  #表示為一個方向，不具備長度\n",
    "        \n",
    "        perpendicular_plane = gp_Pln(pnt, tangent_dir)   ##定義一個幾何平面，用點跟法向量，無限大的平面\n",
    "        \n",
    "        # if is_display:\n",
    "        #     perpendicular_face = BRepBuilderAPI_MakeFace(perpendicular_plane, -110, 110, -110, 110).Face()\n",
    "        #     display.DisplayShape(perpendicular_face, update=True, color='RED', transparency=0.9)\n",
    "            \n",
    "        section = BRepAlgoAPI_Section(face, perpendicular_plane, False) #用於計算兩個B-Rep幾何實體之間交集的物件\n",
    "        \"\"\"\n",
    "        具體來說，當你對兩個幾何形體（例如，兩個面）進行交集操作來查找它們的交界線時，ComputePCurveOn1(True) 指示算法在第一個面上計算這條交界線的投影。\n",
    "        這意味著它將生成一個參數化曲線，描述交界線如何在第一個面的局部坐標系中行進\n",
    "        \"\"\"\n",
    "        section.ComputePCurveOn1(True)\n",
    "        section.Build()\n",
    "        \n",
    "        if section.IsDone() :\n",
    "            intersection_shape = section.Shape()\n",
    "            if is_display:\n",
    "                display.DisplayShape(intersection_shape, update=True, color='GREEN')\n",
    "                \n",
    "            explorer = TopExp_Explorer(intersection_shape, TopAbs_EDGE)\n",
    "            if not explorer.More():\n",
    "                print(\"No edges found in the intersection shape.\",face_index, path_index)\n",
    "                continue\n",
    "            edge = topods_Edge(explorer.Current())\n",
    "            curve = BRepAdaptor_Curve(edge)    ## BRepAdaptor_Curve 是一個適配器類，用於從拓撲邊提取底層的曲線幾何資訊\n",
    "                \n",
    "            curve_length = GCPnts_AbscissaPoint.Length(curve, curve.FirstParameter(), curve.LastParameter())\n",
    "            if curve_length <= 1:\n",
    "                print(\"No edges found in the intersection shape.\",face_index, path_index)\n",
    "                continue\n",
    "            # print(str(face_index) + '\\t' + str(path_index) + '\\t' + \"curve_length:\", curve_length)\n",
    "\n",
    "\n",
    "            suitable_spacing = calculate_suitable_plane_spacing(edge, curve_length, props =props, point_spacing=1, num_points=1000) \n",
    "            print(str(face_index) + '\\t' + str(path_index) + '\\t' + \"spacing:\", suitable_spacing)\n",
    "            if suitable_spacing < point_spacing:   ## 如果設定長度小於最大容許長度，則更改設定長度\n",
    "                adjust_point_spacing = round(suitable_spacing-1)\n",
    "            else:\n",
    "                adjust_point_spacing = point_spacing\n",
    "                \n",
    "            # average_curvature = calculate_average_curvature(edge, curve_length, props =props, point_spacing=1.0, num_points=1000)\n",
    "            # if average_curvature is not None:\n",
    "            #     print(str(face_index) + '\\t' + str(path_index) + '\\t' + \"Average curvature:\", average_curvature)\n",
    "            # else:\n",
    "            #     print(\"No valid points found to calculate curvature.\")\n",
    "                \n",
    "            num_points = int(curve_length / adjust_point_spacing) + 1\n",
    "            \n",
    "            if curve_length % adjust_point_spacing != 0:\n",
    "                iter_point = num_points + 1\n",
    "            else:\n",
    "                iter_point = num_points\n",
    "    \n",
    "            for j in range(0, iter_point):\n",
    "                param = curve.FirstParameter() + j * (curve.LastParameter() - curve.FirstParameter()) * adjust_point_spacing / curve_length #因為有些UV被正規畫到0~1之間了\n",
    "                if param >= curve.LastParameter():\n",
    "                    param = curve.LastParameter()\n",
    "                point = curve.Value(param)\n",
    "                if is_display:\n",
    "                    display.DisplayShape(point, update=True, color='YELLOW')\n",
    "                \n",
    "            \n",
    "                surface_handle = BRep_Tool.Surface(face)\n",
    "                projector = GeomAPI_ProjectPointOnSurf(point, surface_handle)\n",
    "                \n",
    "                if projector.NbPoints() > 0:\n",
    "                    u, v = projector.LowerDistanceParameters()\n",
    "                else:\n",
    "                    print(\"No projection found for this point\")\n",
    "                    \n",
    "                props.SetParameters(u, v)\n",
    "                if props.IsCurvatureDefined():\n",
    "                    normal = props.Normal()\n",
    "                \n",
    "                #確定法向量皆朝外\n",
    "                # point_coordinate=[(point.X()),(point.Y()),(point.Z())]\n",
    "                # normal_vector=[(normal.X()) ,(normal.Y()) ,(normal.Z())]\n",
    "                if check_normal == 1:#加一個判斷式\n",
    "                    # print(normal.X(), normal.Y(), normal.Z())\n",
    "                    # print(\"reversed\")\n",
    "                    normal.Reverse()\n",
    "                    # print(normal.X(), normal.Y(), normal.Z())\n",
    "                    \n",
    "                    \n",
    "                if is_save:\n",
    "                    with open(name  + '.txt', 'a') as outfile:\n",
    "                        outfile.write(str(face_index) + '\\t' + str(path_index) +\n",
    "                                    '\\t' + format(point.X(), \".2f\") + '\\t' + format(point.Y(), \".2f\") + '\\t' + format(point.Z(), \".2f\") +\n",
    "                                    '\\t' + format(normal.X(), \".2f\") + '\\t' + format(normal.Y(), \".2f\") + '\\t' + format(normal.Z(), \".2f\") + '\\n')\n",
    "        \n",
    "    \n",
    "                    # with open(name + '.csv', 'a', newline='') as outfile:\n",
    "                    #     # 寫入數據，使用逗號分隔\n",
    "                    #     outfile.write(f\"{face_index},{path_index},\" +\n",
    "                    #                 f\"{format(point.X(), '.2f')},{format(point.Y(), '.2f')},{format(point.Z(), '.2f')},\" +\n",
    "                    #                 f\"{format(normal.X(), '.2f')},{format(normal.Y(), '.2f')},{format(normal.Z(), '.2f')}\\n\")\n",
    "        \n",
    "    "
   ]
  },
  {
   "cell_type": "code",
   "execution_count": 160,
   "metadata": {},
   "outputs": [
    {
     "name": "stderr",
     "output_type": "stream",
     "text": [
      "C:\\Users\\sw_ya\\AppData\\Local\\Temp\\ipykernel_28428\\1464076160.py:5: DeprecationWarning: Call to deprecated function topods_Face since pythonocc-core 7.7.1. This function will be removed in a future release, please rather use the static method topods.Face\n",
      "  face = topods_Face(face)\n",
      "C:\\Users\\sw_ya\\AppData\\Local\\Temp\\ipykernel_28428\\894951785.py:31: DeprecationWarning: Call to deprecated function brepbndlib_Add since pythonocc-core 7.7.1. This function will be removed in a future release, please rather use the static method brepbndlib.Add\n",
      "  brepbndlib_Add(face, bbox)\n",
      "C:\\Users\\sw_ya\\AppData\\Local\\Temp\\ipykernel_28428\\894951785.py:31: DeprecationWarning: Call to deprecated function brepbndlib_Add since pythonocc-core 7.7.1. This function will be removed in a future release, please rather use the static method brepbndlib.Add\n",
      "  brepbndlib_Add(face, bbox)\n",
      "C:\\Users\\sw_ya\\AppData\\Local\\Temp\\ipykernel_28428\\2104889355.py:64: DeprecationWarning: Call to deprecated function topods_Edge since pythonocc-core 7.7.1. This function will be removed in a future release, please rather use the static method topods.Edge\n",
      "  edge = topods_Edge(explorer.Current())\n"
     ]
    },
    {
     "name": "stdout",
     "output_type": "stream",
     "text": [
      "edgebuilder= <class 'BRepBuilderAPI_MakeEdge'>\n",
      "1\t1\tspacing: 14.645731421315576\n",
      "1\t2\tspacing: 14.818723199254107\n"
     ]
    },
    {
     "name": "stderr",
     "output_type": "stream",
     "text": [
      "C:\\Users\\sw_ya\\AppData\\Local\\Temp\\ipykernel_28428\\2104889355.py:64: DeprecationWarning: Call to deprecated function topods_Edge since pythonocc-core 7.7.1. This function will be removed in a future release, please rather use the static method topods.Edge\n",
      "  edge = topods_Edge(explorer.Current())\n",
      "C:\\Users\\sw_ya\\AppData\\Local\\Temp\\ipykernel_28428\\2104889355.py:64: DeprecationWarning: Call to deprecated function topods_Edge since pythonocc-core 7.7.1. This function will be removed in a future release, please rather use the static method topods.Edge\n",
      "  edge = topods_Edge(explorer.Current())\n"
     ]
    },
    {
     "name": "stdout",
     "output_type": "stream",
     "text": [
      "1\t3\tspacing: 14.96476737672494\n",
      "1\t4\tspacing: 15.088413930430104\n"
     ]
    },
    {
     "name": "stderr",
     "output_type": "stream",
     "text": [
      "C:\\Users\\sw_ya\\AppData\\Local\\Temp\\ipykernel_28428\\2104889355.py:64: DeprecationWarning: Call to deprecated function topods_Edge since pythonocc-core 7.7.1. This function will be removed in a future release, please rather use the static method topods.Edge\n",
      "  edge = topods_Edge(explorer.Current())\n",
      "C:\\Users\\sw_ya\\AppData\\Local\\Temp\\ipykernel_28428\\2104889355.py:64: DeprecationWarning: Call to deprecated function topods_Edge since pythonocc-core 7.7.1. This function will be removed in a future release, please rather use the static method topods.Edge\n",
      "  edge = topods_Edge(explorer.Current())\n"
     ]
    },
    {
     "name": "stdout",
     "output_type": "stream",
     "text": [
      "1\t5\tspacing: 15.18683298142919\n",
      "1\t6\tspacing: 15.273516377843327\n"
     ]
    },
    {
     "name": "stderr",
     "output_type": "stream",
     "text": [
      "C:\\Users\\sw_ya\\AppData\\Local\\Temp\\ipykernel_28428\\2104889355.py:64: DeprecationWarning: Call to deprecated function topods_Edge since pythonocc-core 7.7.1. This function will be removed in a future release, please rather use the static method topods.Edge\n",
      "  edge = topods_Edge(explorer.Current())\n",
      "C:\\Users\\sw_ya\\AppData\\Local\\Temp\\ipykernel_28428\\2104889355.py:64: DeprecationWarning: Call to deprecated function topods_Edge since pythonocc-core 7.7.1. This function will be removed in a future release, please rather use the static method topods.Edge\n",
      "  edge = topods_Edge(explorer.Current())\n"
     ]
    },
    {
     "name": "stdout",
     "output_type": "stream",
     "text": [
      "1\t7\tspacing: 15.33546236378754\n",
      "1\t8\tspacing: 15.384685414354834\n"
     ]
    },
    {
     "name": "stderr",
     "output_type": "stream",
     "text": [
      "C:\\Users\\sw_ya\\AppData\\Local\\Temp\\ipykernel_28428\\2104889355.py:64: DeprecationWarning: Call to deprecated function topods_Edge since pythonocc-core 7.7.1. This function will be removed in a future release, please rather use the static method topods.Edge\n",
      "  edge = topods_Edge(explorer.Current())\n",
      "C:\\Users\\sw_ya\\AppData\\Local\\Temp\\ipykernel_28428\\2104889355.py:64: DeprecationWarning: Call to deprecated function topods_Edge since pythonocc-core 7.7.1. This function will be removed in a future release, please rather use the static method topods.Edge\n",
      "  edge = topods_Edge(explorer.Current())\n"
     ]
    },
    {
     "name": "stdout",
     "output_type": "stream",
     "text": [
      "1\t9\tspacing: 15.412038133477596\n",
      "1\t10\tspacing: 15.434490155766603\n"
     ]
    },
    {
     "name": "stderr",
     "output_type": "stream",
     "text": [
      "C:\\Users\\sw_ya\\AppData\\Local\\Temp\\ipykernel_28428\\2104889355.py:64: DeprecationWarning: Call to deprecated function topods_Edge since pythonocc-core 7.7.1. This function will be removed in a future release, please rather use the static method topods.Edge\n",
      "  edge = topods_Edge(explorer.Current())\n",
      "C:\\Users\\sw_ya\\AppData\\Local\\Temp\\ipykernel_28428\\2104889355.py:64: DeprecationWarning: Call to deprecated function topods_Edge since pythonocc-core 7.7.1. This function will be removed in a future release, please rather use the static method topods.Edge\n",
      "  edge = topods_Edge(explorer.Current())\n",
      "C:\\Users\\sw_ya\\AppData\\Local\\Temp\\ipykernel_28428\\2104889355.py:64: DeprecationWarning: Call to deprecated function topods_Edge since pythonocc-core 7.7.1. This function will be removed in a future release, please rather use the static method topods.Edge\n",
      "  edge = topods_Edge(explorer.Current())\n"
     ]
    },
    {
     "name": "stdout",
     "output_type": "stream",
     "text": [
      "1\t11\tspacing: 15.440386950516897\n",
      "1\t12\tspacing: 15.430020690825618\n"
     ]
    },
    {
     "name": "stderr",
     "output_type": "stream",
     "text": [
      "C:\\Users\\sw_ya\\AppData\\Local\\Temp\\ipykernel_28428\\2104889355.py:64: DeprecationWarning: Call to deprecated function topods_Edge since pythonocc-core 7.7.1. This function will be removed in a future release, please rather use the static method topods.Edge\n",
      "  edge = topods_Edge(explorer.Current())\n",
      "C:\\Users\\sw_ya\\AppData\\Local\\Temp\\ipykernel_28428\\2104889355.py:64: DeprecationWarning: Call to deprecated function topods_Edge since pythonocc-core 7.7.1. This function will be removed in a future release, please rather use the static method topods.Edge\n",
      "  edge = topods_Edge(explorer.Current())\n"
     ]
    },
    {
     "name": "stdout",
     "output_type": "stream",
     "text": [
      "1\t13\tspacing: 15.40445465650796\n",
      "1\t14\tspacing: 15.370829026168106\n"
     ]
    },
    {
     "name": "stderr",
     "output_type": "stream",
     "text": [
      "C:\\Users\\sw_ya\\AppData\\Local\\Temp\\ipykernel_28428\\2104889355.py:64: DeprecationWarning: Call to deprecated function topods_Edge since pythonocc-core 7.7.1. This function will be removed in a future release, please rather use the static method topods.Edge\n",
      "  edge = topods_Edge(explorer.Current())\n",
      "C:\\Users\\sw_ya\\AppData\\Local\\Temp\\ipykernel_28428\\2104889355.py:64: DeprecationWarning: Call to deprecated function topods_Edge since pythonocc-core 7.7.1. This function will be removed in a future release, please rather use the static method topods.Edge\n",
      "  edge = topods_Edge(explorer.Current())\n"
     ]
    },
    {
     "name": "stdout",
     "output_type": "stream",
     "text": [
      "1\t15\tspacing: 15.320299779364772\n",
      "1\t16\tspacing: 15.249799486097693\n"
     ]
    },
    {
     "name": "stderr",
     "output_type": "stream",
     "text": [
      "C:\\Users\\sw_ya\\AppData\\Local\\Temp\\ipykernel_28428\\2104889355.py:64: DeprecationWarning: Call to deprecated function topods_Edge since pythonocc-core 7.7.1. This function will be removed in a future release, please rather use the static method topods.Edge\n",
      "  edge = topods_Edge(explorer.Current())\n",
      "C:\\Users\\sw_ya\\AppData\\Local\\Temp\\ipykernel_28428\\2104889355.py:64: DeprecationWarning: Call to deprecated function topods_Edge since pythonocc-core 7.7.1. This function will be removed in a future release, please rather use the static method topods.Edge\n",
      "  edge = topods_Edge(explorer.Current())\n"
     ]
    },
    {
     "name": "stdout",
     "output_type": "stream",
     "text": [
      "1\t17\tspacing: 15.165342615032872\n",
      "1\t18\tspacing: 15.05628733583193\n"
     ]
    },
    {
     "name": "stderr",
     "output_type": "stream",
     "text": [
      "C:\\Users\\sw_ya\\AppData\\Local\\Temp\\ipykernel_28428\\2104889355.py:64: DeprecationWarning: Call to deprecated function topods_Edge since pythonocc-core 7.7.1. This function will be removed in a future release, please rather use the static method topods.Edge\n",
      "  edge = topods_Edge(explorer.Current())\n",
      "C:\\Users\\sw_ya\\AppData\\Local\\Temp\\ipykernel_28428\\2104889355.py:64: DeprecationWarning: Call to deprecated function topods_Edge since pythonocc-core 7.7.1. This function will be removed in a future release, please rather use the static method topods.Edge\n",
      "  edge = topods_Edge(explorer.Current())\n"
     ]
    },
    {
     "name": "stdout",
     "output_type": "stream",
     "text": [
      "1\t19\tspacing: 14.93025688547852\n",
      "1\t20\tspacing: 14.774157243501367\n"
     ]
    },
    {
     "name": "stderr",
     "output_type": "stream",
     "text": [
      "C:\\Users\\sw_ya\\AppData\\Local\\Temp\\ipykernel_28428\\2104889355.py:64: DeprecationWarning: Call to deprecated function topods_Edge since pythonocc-core 7.7.1. This function will be removed in a future release, please rather use the static method topods.Edge\n",
      "  edge = topods_Edge(explorer.Current())\n",
      "C:\\Users\\sw_ya\\AppData\\Local\\Temp\\ipykernel_28428\\1464076160.py:5: DeprecationWarning: Call to deprecated function topods_Face since pythonocc-core 7.7.1. This function will be removed in a future release, please rather use the static method topods.Face\n",
      "  face = topods_Face(face)\n"
     ]
    },
    {
     "name": "stdout",
     "output_type": "stream",
     "text": [
      "1\t21\tspacing: 14.645731421342163\n"
     ]
    },
    {
     "name": "stderr",
     "output_type": "stream",
     "text": [
      "C:\\Users\\sw_ya\\AppData\\Local\\Temp\\ipykernel_28428\\894951785.py:31: DeprecationWarning: Call to deprecated function brepbndlib_Add since pythonocc-core 7.7.1. This function will be removed in a future release, please rather use the static method brepbndlib.Add\n",
      "  brepbndlib_Add(face, bbox)\n",
      "C:\\Users\\sw_ya\\AppData\\Local\\Temp\\ipykernel_28428\\894951785.py:31: DeprecationWarning: Call to deprecated function brepbndlib_Add since pythonocc-core 7.7.1. This function will be removed in a future release, please rather use the static method brepbndlib.Add\n",
      "  brepbndlib_Add(face, bbox)\n",
      "C:\\Users\\sw_ya\\AppData\\Local\\Temp\\ipykernel_28428\\2104889355.py:64: DeprecationWarning: Call to deprecated function topods_Edge since pythonocc-core 7.7.1. This function will be removed in a future release, please rather use the static method topods.Edge\n",
      "  edge = topods_Edge(explorer.Current())\n"
     ]
    },
    {
     "name": "stdout",
     "output_type": "stream",
     "text": [
      "edgebuilder= <class 'BRepBuilderAPI_MakeEdge'>\n",
      "2\t1\tspacing: 14.645623721971887\n",
      "2\t2\tspacing: 14.818722882609048\n"
     ]
    },
    {
     "name": "stderr",
     "output_type": "stream",
     "text": [
      "C:\\Users\\sw_ya\\AppData\\Local\\Temp\\ipykernel_28428\\2104889355.py:64: DeprecationWarning: Call to deprecated function topods_Edge since pythonocc-core 7.7.1. This function will be removed in a future release, please rather use the static method topods.Edge\n",
      "  edge = topods_Edge(explorer.Current())\n",
      "C:\\Users\\sw_ya\\AppData\\Local\\Temp\\ipykernel_28428\\2104889355.py:64: DeprecationWarning: Call to deprecated function topods_Edge since pythonocc-core 7.7.1. This function will be removed in a future release, please rather use the static method topods.Edge\n",
      "  edge = topods_Edge(explorer.Current())\n"
     ]
    },
    {
     "name": "stdout",
     "output_type": "stream",
     "text": [
      "2\t3\tspacing: 14.964767151045724\n",
      "2\t4\tspacing: 15.088423366297977\n"
     ]
    },
    {
     "name": "stderr",
     "output_type": "stream",
     "text": [
      "C:\\Users\\sw_ya\\AppData\\Local\\Temp\\ipykernel_28428\\2104889355.py:64: DeprecationWarning: Call to deprecated function topods_Edge since pythonocc-core 7.7.1. This function will be removed in a future release, please rather use the static method topods.Edge\n",
      "  edge = topods_Edge(explorer.Current())\n",
      "C:\\Users\\sw_ya\\AppData\\Local\\Temp\\ipykernel_28428\\2104889355.py:64: DeprecationWarning: Call to deprecated function topods_Edge since pythonocc-core 7.7.1. This function will be removed in a future release, please rather use the static method topods.Edge\n",
      "  edge = topods_Edge(explorer.Current())\n"
     ]
    },
    {
     "name": "stdout",
     "output_type": "stream",
     "text": [
      "2\t5\tspacing: 15.186805404053166\n",
      "2\t6\tspacing: 15.27351554037977\n"
     ]
    },
    {
     "name": "stderr",
     "output_type": "stream",
     "text": [
      "C:\\Users\\sw_ya\\AppData\\Local\\Temp\\ipykernel_28428\\2104889355.py:64: DeprecationWarning: Call to deprecated function topods_Edge since pythonocc-core 7.7.1. This function will be removed in a future release, please rather use the static method topods.Edge\n",
      "  edge = topods_Edge(explorer.Current())\n",
      "C:\\Users\\sw_ya\\AppData\\Local\\Temp\\ipykernel_28428\\2104889355.py:64: DeprecationWarning: Call to deprecated function topods_Edge since pythonocc-core 7.7.1. This function will be removed in a future release, please rather use the static method topods.Edge\n",
      "  edge = topods_Edge(explorer.Current())\n"
     ]
    },
    {
     "name": "stdout",
     "output_type": "stream",
     "text": [
      "2\t7\tspacing: 15.335462000939687\n",
      "2\t8\tspacing: 15.384685660711085\n"
     ]
    },
    {
     "name": "stderr",
     "output_type": "stream",
     "text": [
      "C:\\Users\\sw_ya\\AppData\\Local\\Temp\\ipykernel_28428\\2104889355.py:64: DeprecationWarning: Call to deprecated function topods_Edge since pythonocc-core 7.7.1. This function will be removed in a future release, please rather use the static method topods.Edge\n",
      "  edge = topods_Edge(explorer.Current())\n",
      "C:\\Users\\sw_ya\\AppData\\Local\\Temp\\ipykernel_28428\\2104889355.py:64: DeprecationWarning: Call to deprecated function topods_Edge since pythonocc-core 7.7.1. This function will be removed in a future release, please rather use the static method topods.Edge\n",
      "  edge = topods_Edge(explorer.Current())\n"
     ]
    },
    {
     "name": "stdout",
     "output_type": "stream",
     "text": [
      "2\t9\tspacing: 15.412038060234643\n",
      "2\t10\tspacing: 15.434490117821033\n",
      "2\t11\tspacing: 15.440386879073515\n"
     ]
    },
    {
     "name": "stderr",
     "output_type": "stream",
     "text": [
      "C:\\Users\\sw_ya\\AppData\\Local\\Temp\\ipykernel_28428\\2104889355.py:64: DeprecationWarning: Call to deprecated function topods_Edge since pythonocc-core 7.7.1. This function will be removed in a future release, please rather use the static method topods.Edge\n",
      "  edge = topods_Edge(explorer.Current())\n",
      "C:\\Users\\sw_ya\\AppData\\Local\\Temp\\ipykernel_28428\\2104889355.py:64: DeprecationWarning: Call to deprecated function topods_Edge since pythonocc-core 7.7.1. This function will be removed in a future release, please rather use the static method topods.Edge\n",
      "  edge = topods_Edge(explorer.Current())\n",
      "C:\\Users\\sw_ya\\AppData\\Local\\Temp\\ipykernel_28428\\2104889355.py:64: DeprecationWarning: Call to deprecated function topods_Edge since pythonocc-core 7.7.1. This function will be removed in a future release, please rather use the static method topods.Edge\n",
      "  edge = topods_Edge(explorer.Current())\n",
      "C:\\Users\\sw_ya\\AppData\\Local\\Temp\\ipykernel_28428\\2104889355.py:64: DeprecationWarning: Call to deprecated function topods_Edge since pythonocc-core 7.7.1. This function will be removed in a future release, please rather use the static method topods.Edge\n",
      "  edge = topods_Edge(explorer.Current())\n"
     ]
    },
    {
     "name": "stdout",
     "output_type": "stream",
     "text": [
      "2\t12\tspacing: 15.430020665469328\n",
      "2\t13\tspacing: 15.404454724066806\n"
     ]
    },
    {
     "name": "stderr",
     "output_type": "stream",
     "text": [
      "C:\\Users\\sw_ya\\AppData\\Local\\Temp\\ipykernel_28428\\2104889355.py:64: DeprecationWarning: Call to deprecated function topods_Edge since pythonocc-core 7.7.1. This function will be removed in a future release, please rather use the static method topods.Edge\n",
      "  edge = topods_Edge(explorer.Current())\n",
      "C:\\Users\\sw_ya\\AppData\\Local\\Temp\\ipykernel_28428\\2104889355.py:64: DeprecationWarning: Call to deprecated function topods_Edge since pythonocc-core 7.7.1. This function will be removed in a future release, please rather use the static method topods.Edge\n",
      "  edge = topods_Edge(explorer.Current())\n"
     ]
    },
    {
     "name": "stdout",
     "output_type": "stream",
     "text": [
      "2\t14\tspacing: 15.370829207584945\n",
      "2\t15\tspacing: 15.320300267221238\n"
     ]
    },
    {
     "name": "stderr",
     "output_type": "stream",
     "text": [
      "C:\\Users\\sw_ya\\AppData\\Local\\Temp\\ipykernel_28428\\2104889355.py:64: DeprecationWarning: Call to deprecated function topods_Edge since pythonocc-core 7.7.1. This function will be removed in a future release, please rather use the static method topods.Edge\n",
      "  edge = topods_Edge(explorer.Current())\n",
      "C:\\Users\\sw_ya\\AppData\\Local\\Temp\\ipykernel_28428\\2104889355.py:64: DeprecationWarning: Call to deprecated function topods_Edge since pythonocc-core 7.7.1. This function will be removed in a future release, please rather use the static method topods.Edge\n",
      "  edge = topods_Edge(explorer.Current())\n"
     ]
    },
    {
     "name": "stdout",
     "output_type": "stream",
     "text": [
      "2\t16\tspacing: 15.249799883476829\n",
      "2\t17\tspacing: 15.16536547121488\n",
      "2\t18\tspacing: 15.056282716494037\n"
     ]
    },
    {
     "name": "stderr",
     "output_type": "stream",
     "text": [
      "C:\\Users\\sw_ya\\AppData\\Local\\Temp\\ipykernel_28428\\2104889355.py:64: DeprecationWarning: Call to deprecated function topods_Edge since pythonocc-core 7.7.1. This function will be removed in a future release, please rather use the static method topods.Edge\n",
      "  edge = topods_Edge(explorer.Current())\n",
      "C:\\Users\\sw_ya\\AppData\\Local\\Temp\\ipykernel_28428\\2104889355.py:64: DeprecationWarning: Call to deprecated function topods_Edge since pythonocc-core 7.7.1. This function will be removed in a future release, please rather use the static method topods.Edge\n",
      "  edge = topods_Edge(explorer.Current())\n"
     ]
    },
    {
     "name": "stdout",
     "output_type": "stream",
     "text": [
      "2\t19\tspacing: 14.930274330011471\n",
      "2\t20\tspacing: 14.774156887763665\n"
     ]
    },
    {
     "name": "stderr",
     "output_type": "stream",
     "text": [
      "C:\\Users\\sw_ya\\AppData\\Local\\Temp\\ipykernel_28428\\2104889355.py:64: DeprecationWarning: Call to deprecated function topods_Edge since pythonocc-core 7.7.1. This function will be removed in a future release, please rather use the static method topods.Edge\n",
      "  edge = topods_Edge(explorer.Current())\n",
      "C:\\Users\\sw_ya\\AppData\\Local\\Temp\\ipykernel_28428\\2104889355.py:64: DeprecationWarning: Call to deprecated function topods_Edge since pythonocc-core 7.7.1. This function will be removed in a future release, please rather use the static method topods.Edge\n",
      "  edge = topods_Edge(explorer.Current())\n"
     ]
    },
    {
     "name": "stdout",
     "output_type": "stream",
     "text": [
      "2\t21\tspacing: 14.645623720101762\n"
     ]
    },
    {
     "name": "stderr",
     "output_type": "stream",
     "text": [
      "C:\\Users\\sw_ya\\AppData\\Local\\Temp\\ipykernel_28428\\1464076160.py:5: DeprecationWarning: Call to deprecated function topods_Face since pythonocc-core 7.7.1. This function will be removed in a future release, please rather use the static method topods.Face\n",
      "  face = topods_Face(face)\n",
      "C:\\Users\\sw_ya\\AppData\\Local\\Temp\\ipykernel_28428\\894951785.py:31: DeprecationWarning: Call to deprecated function brepbndlib_Add since pythonocc-core 7.7.1. This function will be removed in a future release, please rather use the static method brepbndlib.Add\n",
      "  brepbndlib_Add(face, bbox)\n",
      "C:\\Users\\sw_ya\\AppData\\Local\\Temp\\ipykernel_28428\\894951785.py:31: DeprecationWarning: Call to deprecated function brepbndlib_Add since pythonocc-core 7.7.1. This function will be removed in a future release, please rather use the static method brepbndlib.Add\n",
      "  brepbndlib_Add(face, bbox)\n"
     ]
    },
    {
     "name": "stdout",
     "output_type": "stream",
     "text": [
      "edgebuilder= <class 'BRepBuilderAPI_MakeEdge'>\n",
      "3\t1\tspacing: 14.645745072197162\n"
     ]
    },
    {
     "name": "stderr",
     "output_type": "stream",
     "text": [
      "C:\\Users\\sw_ya\\AppData\\Local\\Temp\\ipykernel_28428\\2104889355.py:64: DeprecationWarning: Call to deprecated function topods_Edge since pythonocc-core 7.7.1. This function will be removed in a future release, please rather use the static method topods.Edge\n",
      "  edge = topods_Edge(explorer.Current())\n",
      "C:\\Users\\sw_ya\\AppData\\Local\\Temp\\ipykernel_28428\\2104889355.py:64: DeprecationWarning: Call to deprecated function topods_Edge since pythonocc-core 7.7.1. This function will be removed in a future release, please rather use the static method topods.Edge\n",
      "  edge = topods_Edge(explorer.Current())\n"
     ]
    },
    {
     "name": "stdout",
     "output_type": "stream",
     "text": [
      "3\t2\tspacing: 14.818828382804728\n",
      "3\t3\tspacing: 14.964875014342649\n"
     ]
    },
    {
     "name": "stderr",
     "output_type": "stream",
     "text": [
      "C:\\Users\\sw_ya\\AppData\\Local\\Temp\\ipykernel_28428\\2104889355.py:64: DeprecationWarning: Call to deprecated function topods_Edge since pythonocc-core 7.7.1. This function will be removed in a future release, please rather use the static method topods.Edge\n",
      "  edge = topods_Edge(explorer.Current())\n",
      "C:\\Users\\sw_ya\\AppData\\Local\\Temp\\ipykernel_28428\\2104889355.py:64: DeprecationWarning: Call to deprecated function topods_Edge since pythonocc-core 7.7.1. This function will be removed in a future release, please rather use the static method topods.Edge\n",
      "  edge = topods_Edge(explorer.Current())\n"
     ]
    },
    {
     "name": "stdout",
     "output_type": "stream",
     "text": [
      "3\t4\tspacing: 15.088172569589311\n",
      "3\t5\tspacing: 15.186786637201743\n"
     ]
    },
    {
     "name": "stderr",
     "output_type": "stream",
     "text": [
      "C:\\Users\\sw_ya\\AppData\\Local\\Temp\\ipykernel_28428\\2104889355.py:64: DeprecationWarning: Call to deprecated function topods_Edge since pythonocc-core 7.7.1. This function will be removed in a future release, please rather use the static method topods.Edge\n",
      "  edge = topods_Edge(explorer.Current())\n",
      "C:\\Users\\sw_ya\\AppData\\Local\\Temp\\ipykernel_28428\\2104889355.py:64: DeprecationWarning: Call to deprecated function topods_Edge since pythonocc-core 7.7.1. This function will be removed in a future release, please rather use the static method topods.Edge\n",
      "  edge = topods_Edge(explorer.Current())\n"
     ]
    },
    {
     "name": "stdout",
     "output_type": "stream",
     "text": [
      "3\t6\tspacing: 15.273620173875521\n",
      "3\t7\tspacing: 15.3355695341218\n"
     ]
    },
    {
     "name": "stderr",
     "output_type": "stream",
     "text": [
      "C:\\Users\\sw_ya\\AppData\\Local\\Temp\\ipykernel_28428\\2104889355.py:64: DeprecationWarning: Call to deprecated function topods_Edge since pythonocc-core 7.7.1. This function will be removed in a future release, please rather use the static method topods.Edge\n",
      "  edge = topods_Edge(explorer.Current())\n",
      "C:\\Users\\sw_ya\\AppData\\Local\\Temp\\ipykernel_28428\\2104889355.py:64: DeprecationWarning: Call to deprecated function topods_Edge since pythonocc-core 7.7.1. This function will be removed in a future release, please rather use the static method topods.Edge\n",
      "  edge = topods_Edge(explorer.Current())\n"
     ]
    },
    {
     "name": "stdout",
     "output_type": "stream",
     "text": [
      "3\t8\tspacing: 15.384789661808144\n",
      "3\t9\tspacing: 15.412151858339396\n"
     ]
    },
    {
     "name": "stderr",
     "output_type": "stream",
     "text": [
      "C:\\Users\\sw_ya\\AppData\\Local\\Temp\\ipykernel_28428\\2104889355.py:64: DeprecationWarning: Call to deprecated function topods_Edge since pythonocc-core 7.7.1. This function will be removed in a future release, please rather use the static method topods.Edge\n",
      "  edge = topods_Edge(explorer.Current())\n",
      "C:\\Users\\sw_ya\\AppData\\Local\\Temp\\ipykernel_28428\\2104889355.py:64: DeprecationWarning: Call to deprecated function topods_Edge since pythonocc-core 7.7.1. This function will be removed in a future release, please rather use the static method topods.Edge\n",
      "  edge = topods_Edge(explorer.Current())\n"
     ]
    },
    {
     "name": "stdout",
     "output_type": "stream",
     "text": [
      "3\t10\tspacing: 15.434597388650788\n",
      "3\t11\tspacing: 15.440492490666808\n"
     ]
    },
    {
     "name": "stderr",
     "output_type": "stream",
     "text": [
      "C:\\Users\\sw_ya\\AppData\\Local\\Temp\\ipykernel_28428\\2104889355.py:64: DeprecationWarning: Call to deprecated function topods_Edge since pythonocc-core 7.7.1. This function will be removed in a future release, please rather use the static method topods.Edge\n",
      "  edge = topods_Edge(explorer.Current())\n",
      "C:\\Users\\sw_ya\\AppData\\Local\\Temp\\ipykernel_28428\\2104889355.py:64: DeprecationWarning: Call to deprecated function topods_Edge since pythonocc-core 7.7.1. This function will be removed in a future release, please rather use the static method topods.Edge\n",
      "  edge = topods_Edge(explorer.Current())\n"
     ]
    },
    {
     "name": "stdout",
     "output_type": "stream",
     "text": [
      "3\t12\tspacing: 15.430129210668625\n",
      "3\t13\tspacing: 15.404568356417979\n",
      "3\t14\tspacing: 15.37093727032501\n"
     ]
    },
    {
     "name": "stderr",
     "output_type": "stream",
     "text": [
      "C:\\Users\\sw_ya\\AppData\\Local\\Temp\\ipykernel_28428\\2104889355.py:64: DeprecationWarning: Call to deprecated function topods_Edge since pythonocc-core 7.7.1. This function will be removed in a future release, please rather use the static method topods.Edge\n",
      "  edge = topods_Edge(explorer.Current())\n",
      "C:\\Users\\sw_ya\\AppData\\Local\\Temp\\ipykernel_28428\\2104889355.py:64: DeprecationWarning: Call to deprecated function topods_Edge since pythonocc-core 7.7.1. This function will be removed in a future release, please rather use the static method topods.Edge\n",
      "  edge = topods_Edge(explorer.Current())\n",
      "C:\\Users\\sw_ya\\AppData\\Local\\Temp\\ipykernel_28428\\2104889355.py:64: DeprecationWarning: Call to deprecated function topods_Edge since pythonocc-core 7.7.1. This function will be removed in a future release, please rather use the static method topods.Edge\n",
      "  edge = topods_Edge(explorer.Current())\n",
      "C:\\Users\\sw_ya\\AppData\\Local\\Temp\\ipykernel_28428\\2104889355.py:64: DeprecationWarning: Call to deprecated function topods_Edge since pythonocc-core 7.7.1. This function will be removed in a future release, please rather use the static method topods.Edge\n",
      "  edge = topods_Edge(explorer.Current())\n"
     ]
    },
    {
     "name": "stdout",
     "output_type": "stream",
     "text": [
      "3\t15\tspacing: 15.320405196665044\n",
      "3\t16\tspacing: 15.249907944024422\n"
     ]
    },
    {
     "name": "stderr",
     "output_type": "stream",
     "text": [
      "C:\\Users\\sw_ya\\AppData\\Local\\Temp\\ipykernel_28428\\2104889355.py:64: DeprecationWarning: Call to deprecated function topods_Edge since pythonocc-core 7.7.1. This function will be removed in a future release, please rather use the static method topods.Edge\n",
      "  edge = topods_Edge(explorer.Current())\n",
      "C:\\Users\\sw_ya\\AppData\\Local\\Temp\\ipykernel_28428\\2104889355.py:64: DeprecationWarning: Call to deprecated function topods_Edge since pythonocc-core 7.7.1. This function will be removed in a future release, please rather use the static method topods.Edge\n",
      "  edge = topods_Edge(explorer.Current())\n"
     ]
    },
    {
     "name": "stdout",
     "output_type": "stream",
     "text": [
      "3\t17\tspacing: 15.16510948999299\n",
      "3\t18\tspacing: 15.05624275712248\n"
     ]
    },
    {
     "name": "stderr",
     "output_type": "stream",
     "text": [
      "C:\\Users\\sw_ya\\AppData\\Local\\Temp\\ipykernel_28428\\2104889355.py:64: DeprecationWarning: Call to deprecated function topods_Edge since pythonocc-core 7.7.1. This function will be removed in a future release, please rather use the static method topods.Edge\n",
      "  edge = topods_Edge(explorer.Current())\n",
      "C:\\Users\\sw_ya\\AppData\\Local\\Temp\\ipykernel_28428\\2104889355.py:64: DeprecationWarning: Call to deprecated function topods_Edge since pythonocc-core 7.7.1. This function will be removed in a future release, please rather use the static method topods.Edge\n",
      "  edge = topods_Edge(explorer.Current())\n"
     ]
    },
    {
     "name": "stdout",
     "output_type": "stream",
     "text": [
      "3\t19\tspacing: 14.930214568245525\n",
      "3\t20\tspacing: 14.774261524457641\n"
     ]
    },
    {
     "name": "stderr",
     "output_type": "stream",
     "text": [
      "C:\\Users\\sw_ya\\AppData\\Local\\Temp\\ipykernel_28428\\2104889355.py:64: DeprecationWarning: Call to deprecated function topods_Edge since pythonocc-core 7.7.1. This function will be removed in a future release, please rather use the static method topods.Edge\n",
      "  edge = topods_Edge(explorer.Current())\n",
      "C:\\Users\\sw_ya\\AppData\\Local\\Temp\\ipykernel_28428\\1464076160.py:5: DeprecationWarning: Call to deprecated function topods_Face since pythonocc-core 7.7.1. This function will be removed in a future release, please rather use the static method topods.Face\n",
      "  face = topods_Face(face)\n"
     ]
    },
    {
     "name": "stdout",
     "output_type": "stream",
     "text": [
      "3\t21\tspacing: 14.64574507086246\n"
     ]
    },
    {
     "name": "stderr",
     "output_type": "stream",
     "text": [
      "C:\\Users\\sw_ya\\AppData\\Local\\Temp\\ipykernel_28428\\894951785.py:31: DeprecationWarning: Call to deprecated function brepbndlib_Add since pythonocc-core 7.7.1. This function will be removed in a future release, please rather use the static method brepbndlib.Add\n",
      "  brepbndlib_Add(face, bbox)\n",
      "C:\\Users\\sw_ya\\AppData\\Local\\Temp\\ipykernel_28428\\894951785.py:31: DeprecationWarning: Call to deprecated function brepbndlib_Add since pythonocc-core 7.7.1. This function will be removed in a future release, please rather use the static method brepbndlib.Add\n",
      "  brepbndlib_Add(face, bbox)\n",
      "C:\\Users\\sw_ya\\AppData\\Local\\Temp\\ipykernel_28428\\2104889355.py:64: DeprecationWarning: Call to deprecated function topods_Edge since pythonocc-core 7.7.1. This function will be removed in a future release, please rather use the static method topods.Edge\n",
      "  edge = topods_Edge(explorer.Current())\n",
      "C:\\Users\\sw_ya\\AppData\\Local\\Temp\\ipykernel_28428\\2104889355.py:64: DeprecationWarning: Call to deprecated function topods_Edge since pythonocc-core 7.7.1. This function will be removed in a future release, please rather use the static method topods.Edge\n",
      "  edge = topods_Edge(explorer.Current())\n"
     ]
    },
    {
     "name": "stdout",
     "output_type": "stream",
     "text": [
      "edgebuilder= <class 'BRepBuilderAPI_MakeEdge'>\n",
      "4\t1\tspacing: 63.23764701504603\n",
      "4\t2\tspacing: 63.23764701504603\n"
     ]
    },
    {
     "name": "stderr",
     "output_type": "stream",
     "text": [
      "C:\\Users\\sw_ya\\AppData\\Local\\Temp\\ipykernel_28428\\2104889355.py:64: DeprecationWarning: Call to deprecated function topods_Edge since pythonocc-core 7.7.1. This function will be removed in a future release, please rather use the static method topods.Edge\n",
      "  edge = topods_Edge(explorer.Current())\n",
      "C:\\Users\\sw_ya\\AppData\\Local\\Temp\\ipykernel_28428\\2104889355.py:64: DeprecationWarning: Call to deprecated function topods_Edge since pythonocc-core 7.7.1. This function will be removed in a future release, please rather use the static method topods.Edge\n",
      "  edge = topods_Edge(explorer.Current())\n"
     ]
    },
    {
     "name": "stdout",
     "output_type": "stream",
     "text": [
      "4\t3\tspacing: 63.23764701504603\n",
      "4\t4\tspacing: 63.23764701504603\n"
     ]
    },
    {
     "name": "stderr",
     "output_type": "stream",
     "text": [
      "C:\\Users\\sw_ya\\AppData\\Local\\Temp\\ipykernel_28428\\2104889355.py:64: DeprecationWarning: Call to deprecated function topods_Edge since pythonocc-core 7.7.1. This function will be removed in a future release, please rather use the static method topods.Edge\n",
      "  edge = topods_Edge(explorer.Current())\n",
      "C:\\Users\\sw_ya\\AppData\\Local\\Temp\\ipykernel_28428\\2104889355.py:64: DeprecationWarning: Call to deprecated function topods_Edge since pythonocc-core 7.7.1. This function will be removed in a future release, please rather use the static method topods.Edge\n",
      "  edge = topods_Edge(explorer.Current())\n"
     ]
    },
    {
     "name": "stdout",
     "output_type": "stream",
     "text": [
      "4\t5\tspacing: 63.23764701504603\n",
      "4\t6\tspacing: 63.23764701504603\n"
     ]
    },
    {
     "name": "stderr",
     "output_type": "stream",
     "text": [
      "C:\\Users\\sw_ya\\AppData\\Local\\Temp\\ipykernel_28428\\2104889355.py:64: DeprecationWarning: Call to deprecated function topods_Edge since pythonocc-core 7.7.1. This function will be removed in a future release, please rather use the static method topods.Edge\n",
      "  edge = topods_Edge(explorer.Current())\n",
      "C:\\Users\\sw_ya\\AppData\\Local\\Temp\\ipykernel_28428\\2104889355.py:64: DeprecationWarning: Call to deprecated function topods_Edge since pythonocc-core 7.7.1. This function will be removed in a future release, please rather use the static method topods.Edge\n",
      "  edge = topods_Edge(explorer.Current())\n"
     ]
    },
    {
     "name": "stdout",
     "output_type": "stream",
     "text": [
      "4\t7\tspacing: 63.23764701504603\n",
      "4\t8\tspacing: 63.23764701504603\n"
     ]
    },
    {
     "name": "stderr",
     "output_type": "stream",
     "text": [
      "C:\\Users\\sw_ya\\AppData\\Local\\Temp\\ipykernel_28428\\2104889355.py:64: DeprecationWarning: Call to deprecated function topods_Edge since pythonocc-core 7.7.1. This function will be removed in a future release, please rather use the static method topods.Edge\n",
      "  edge = topods_Edge(explorer.Current())\n",
      "C:\\Users\\sw_ya\\AppData\\Local\\Temp\\ipykernel_28428\\2104889355.py:64: DeprecationWarning: Call to deprecated function topods_Edge since pythonocc-core 7.7.1. This function will be removed in a future release, please rather use the static method topods.Edge\n",
      "  edge = topods_Edge(explorer.Current())\n"
     ]
    },
    {
     "name": "stdout",
     "output_type": "stream",
     "text": [
      "4\t9\tspacing: 63.23764701504603\n",
      "4\t10\tspacing: 63.23764701504603\n",
      "4\t11\tspacing: 63.23764701504603\n"
     ]
    },
    {
     "name": "stderr",
     "output_type": "stream",
     "text": [
      "C:\\Users\\sw_ya\\AppData\\Local\\Temp\\ipykernel_28428\\2104889355.py:64: DeprecationWarning: Call to deprecated function topods_Edge since pythonocc-core 7.7.1. This function will be removed in a future release, please rather use the static method topods.Edge\n",
      "  edge = topods_Edge(explorer.Current())\n",
      "C:\\Users\\sw_ya\\AppData\\Local\\Temp\\ipykernel_28428\\2104889355.py:64: DeprecationWarning: Call to deprecated function topods_Edge since pythonocc-core 7.7.1. This function will be removed in a future release, please rather use the static method topods.Edge\n",
      "  edge = topods_Edge(explorer.Current())\n"
     ]
    },
    {
     "name": "stdout",
     "output_type": "stream",
     "text": [
      "4\t12\tspacing: 63.23764701504603\n"
     ]
    },
    {
     "name": "stderr",
     "output_type": "stream",
     "text": [
      "C:\\Users\\sw_ya\\AppData\\Local\\Temp\\ipykernel_28428\\2104889355.py:64: DeprecationWarning: Call to deprecated function topods_Edge since pythonocc-core 7.7.1. This function will be removed in a future release, please rather use the static method topods.Edge\n",
      "  edge = topods_Edge(explorer.Current())\n"
     ]
    },
    {
     "name": "stdout",
     "output_type": "stream",
     "text": [
      "4\t13\tspacing: 63.23764701504603\n"
     ]
    },
    {
     "name": "stderr",
     "output_type": "stream",
     "text": [
      "C:\\Users\\sw_ya\\AppData\\Local\\Temp\\ipykernel_28428\\2104889355.py:64: DeprecationWarning: Call to deprecated function topods_Edge since pythonocc-core 7.7.1. This function will be removed in a future release, please rather use the static method topods.Edge\n",
      "  edge = topods_Edge(explorer.Current())\n",
      "C:\\Users\\sw_ya\\AppData\\Local\\Temp\\ipykernel_28428\\2104889355.py:64: DeprecationWarning: Call to deprecated function topods_Edge since pythonocc-core 7.7.1. This function will be removed in a future release, please rather use the static method topods.Edge\n",
      "  edge = topods_Edge(explorer.Current())\n"
     ]
    },
    {
     "name": "stdout",
     "output_type": "stream",
     "text": [
      "4\t14\tspacing: 63.23764701504603\n",
      "4\t15\tspacing: 63.23764701504603\n"
     ]
    },
    {
     "name": "stderr",
     "output_type": "stream",
     "text": [
      "C:\\Users\\sw_ya\\AppData\\Local\\Temp\\ipykernel_28428\\2104889355.py:64: DeprecationWarning: Call to deprecated function topods_Edge since pythonocc-core 7.7.1. This function will be removed in a future release, please rather use the static method topods.Edge\n",
      "  edge = topods_Edge(explorer.Current())\n",
      "C:\\Users\\sw_ya\\AppData\\Local\\Temp\\ipykernel_28428\\2104889355.py:64: DeprecationWarning: Call to deprecated function topods_Edge since pythonocc-core 7.7.1. This function will be removed in a future release, please rather use the static method topods.Edge\n",
      "  edge = topods_Edge(explorer.Current())\n"
     ]
    },
    {
     "name": "stdout",
     "output_type": "stream",
     "text": [
      "4\t16\tspacing: 63.23764701504603\n",
      "4\t17\tspacing: 63.23764701504603\n"
     ]
    },
    {
     "name": "stderr",
     "output_type": "stream",
     "text": [
      "C:\\Users\\sw_ya\\AppData\\Local\\Temp\\ipykernel_28428\\2104889355.py:64: DeprecationWarning: Call to deprecated function topods_Edge since pythonocc-core 7.7.1. This function will be removed in a future release, please rather use the static method topods.Edge\n",
      "  edge = topods_Edge(explorer.Current())\n",
      "C:\\Users\\sw_ya\\AppData\\Local\\Temp\\ipykernel_28428\\2104889355.py:64: DeprecationWarning: Call to deprecated function topods_Edge since pythonocc-core 7.7.1. This function will be removed in a future release, please rather use the static method topods.Edge\n",
      "  edge = topods_Edge(explorer.Current())\n"
     ]
    },
    {
     "name": "stdout",
     "output_type": "stream",
     "text": [
      "4\t18\tspacing: 63.23764701504603\n",
      "4\t19\tspacing: 63.23764701504603\n"
     ]
    },
    {
     "name": "stderr",
     "output_type": "stream",
     "text": [
      "C:\\Users\\sw_ya\\AppData\\Local\\Temp\\ipykernel_28428\\2104889355.py:64: DeprecationWarning: Call to deprecated function topods_Edge since pythonocc-core 7.7.1. This function will be removed in a future release, please rather use the static method topods.Edge\n",
      "  edge = topods_Edge(explorer.Current())\n",
      "C:\\Users\\sw_ya\\AppData\\Local\\Temp\\ipykernel_28428\\1464076160.py:5: DeprecationWarning: Call to deprecated function topods_Face since pythonocc-core 7.7.1. This function will be removed in a future release, please rather use the static method topods.Face\n",
      "  face = topods_Face(face)\n"
     ]
    },
    {
     "name": "stdout",
     "output_type": "stream",
     "text": [
      "4\t20\tspacing: 63.23764701504603\n",
      "edgebuilder= <class 'BRepBuilderAPI_MakeEdge'>\n"
     ]
    },
    {
     "name": "stderr",
     "output_type": "stream",
     "text": [
      "C:\\Users\\sw_ya\\AppData\\Local\\Temp\\ipykernel_28428\\894951785.py:31: DeprecationWarning: Call to deprecated function brepbndlib_Add since pythonocc-core 7.7.1. This function will be removed in a future release, please rather use the static method brepbndlib.Add\n",
      "  brepbndlib_Add(face, bbox)\n",
      "C:\\Users\\sw_ya\\AppData\\Local\\Temp\\ipykernel_28428\\894951785.py:31: DeprecationWarning: Call to deprecated function brepbndlib_Add since pythonocc-core 7.7.1. This function will be removed in a future release, please rather use the static method brepbndlib.Add\n",
      "  brepbndlib_Add(face, bbox)\n"
     ]
    },
    {
     "ename": "RuntimeError",
     "evalue": "StdFail_NotDoneBRep_API: command not done raised from method Edge of class BRepBuilderAPI_MakeEdge",
     "output_type": "error",
     "traceback": [
      "\u001b[1;31m---------------------------------------------------------------------------\u001b[0m",
      "\u001b[1;31mRuntimeError\u001b[0m                              Traceback (most recent call last)",
      "Cell \u001b[1;32mIn[160], line 8\u001b[0m\n\u001b[0;32m      5\u001b[0m face \u001b[38;5;241m=\u001b[39m topods_Face(face)\n\u001b[0;32m      6\u001b[0m face_index \u001b[38;5;241m+\u001b[39m\u001b[38;5;241m=\u001b[39m \u001b[38;5;241m1\u001b[39m\n\u001b[1;32m----> 8\u001b[0m selected_edge \u001b[38;5;241m=\u001b[39m \u001b[43mgenerate_line_segments\u001b[49m\u001b[43m(\u001b[49m\u001b[43mface\u001b[49m\u001b[43m)\u001b[49m \u001b[38;5;66;03m################\u001b[39;00m\n\u001b[0;32m     10\u001b[0m curve_adaptor \u001b[38;5;241m=\u001b[39m BRepAdaptor_Curve(selected_edge)\n\u001b[0;32m     11\u001b[0m length \u001b[38;5;241m=\u001b[39m curve_adaptor\u001b[38;5;241m.\u001b[39mLastParameter() \u001b[38;5;241m-\u001b[39m curve_adaptor\u001b[38;5;241m.\u001b[39mFirstParameter()\n",
      "Cell \u001b[1;32mIn[157], line 164\u001b[0m, in \u001b[0;36mgenerate_line_segments\u001b[1;34m(face)\u001b[0m\n\u001b[0;32m    161\u001b[0m end_point_selected \u001b[38;5;241m=\u001b[39m extend_to_boundary(face, average_tangent)\n\u001b[0;32m    162\u001b[0m start_point_selected \u001b[38;5;241m=\u001b[39m extend_to_boundary(face, gp_Vec(\u001b[38;5;241m-\u001b[39maverage_tangent\u001b[38;5;241m.\u001b[39mX(), \u001b[38;5;241m-\u001b[39maverage_tangent\u001b[38;5;241m.\u001b[39mY(), \u001b[38;5;241m-\u001b[39maverage_tangent\u001b[38;5;241m.\u001b[39mZ()))\n\u001b[1;32m--> 164\u001b[0m line_selected \u001b[38;5;241m=\u001b[39m \u001b[43mmake_line\u001b[49m\u001b[43m(\u001b[49m\u001b[43mstart_point_selected\u001b[49m\u001b[43m,\u001b[49m\u001b[43m \u001b[49m\u001b[43mend_point_selected\u001b[49m\u001b[43m)\u001b[49m\n\u001b[0;32m    168\u001b[0m \u001b[38;5;28;01mreturn\u001b[39;00m line_selected\n",
      "Cell \u001b[1;32mIn[157], line 26\u001b[0m, in \u001b[0;36mmake_line\u001b[1;34m(start_point, end_point)\u001b[0m\n\u001b[0;32m     24\u001b[0m edge_builder \u001b[38;5;241m=\u001b[39m BRepBuilderAPI_MakeEdge(start_point, end_point)\n\u001b[0;32m     25\u001b[0m \u001b[38;5;28mprint\u001b[39m(\u001b[38;5;124m\"\u001b[39m\u001b[38;5;124medgebuilder=\u001b[39m\u001b[38;5;124m\"\u001b[39m,edge_builder)\n\u001b[1;32m---> 26\u001b[0m \u001b[38;5;28;01mreturn\u001b[39;00m \u001b[43medge_builder\u001b[49m\u001b[38;5;241;43m.\u001b[39;49m\u001b[43mEdge\u001b[49m\u001b[43m(\u001b[49m\u001b[43m)\u001b[49m\n",
      "File \u001b[1;32mc:\\Users\\sw_ya\\anaconda3\\envs\\pyoccenv\\lib\\site-packages\\OCC\\Core\\BRepBuilderAPI.py:2601\u001b[0m, in \u001b[0;36mBRepBuilderAPI_MakeEdge.Edge\u001b[1;34m(self, *args)\u001b[0m\n\u001b[0;32m   2590\u001b[0m \u001b[38;5;28;01mdef\u001b[39;00m \u001b[38;5;21mEdge\u001b[39m(\u001b[38;5;28mself\u001b[39m, \u001b[38;5;241m*\u001b[39margs):\n\u001b[0;32m   2591\u001b[0m \u001b[38;5;250m    \u001b[39m\u001b[38;5;124mr\u001b[39m\u001b[38;5;124;03m\"\"\"\u001b[39;00m\n\u001b[0;32m   2592\u001b[0m \u001b[38;5;124;03m    Return\u001b[39;00m\n\u001b[0;32m   2593\u001b[0m \u001b[38;5;124;03m    -------\u001b[39;00m\n\u001b[1;32m   (...)\u001b[0m\n\u001b[0;32m   2599\u001b[0m \n\u001b[0;32m   2600\u001b[0m \u001b[38;5;124;03m    \"\"\"\u001b[39;00m\n\u001b[1;32m-> 2601\u001b[0m     \u001b[38;5;28;01mreturn\u001b[39;00m \u001b[43m_BRepBuilderAPI\u001b[49m\u001b[38;5;241;43m.\u001b[39;49m\u001b[43mBRepBuilderAPI_MakeEdge_Edge\u001b[49m\u001b[43m(\u001b[49m\u001b[38;5;28;43mself\u001b[39;49m\u001b[43m,\u001b[49m\u001b[43m \u001b[49m\u001b[38;5;241;43m*\u001b[39;49m\u001b[43margs\u001b[49m\u001b[43m)\u001b[49m\n",
      "\u001b[1;31mRuntimeError\u001b[0m: StdFail_NotDoneBRep_API: command not done raised from method Edge of class BRepBuilderAPI_MakeEdge"
     ]
    }
   ],
   "source": [
    "face_index = 0\n",
    "display, start_display, add_menu, add_function_to_menu = init_display()\n",
    "display.DisplayShape(object_1, update=True)\n",
    "for face in object_1_faces:\n",
    "    face = topods_Face(face)\n",
    "    face_index += 1\n",
    "    \n",
    "    selected_edge = generate_line_segments(face) ################\n",
    "    \n",
    "    curve_adaptor = BRepAdaptor_Curve(selected_edge)\n",
    "    length = curve_adaptor.LastParameter() - curve_adaptor.FirstParameter()\n",
    "    \n",
    "    calculate_section(object_1,face=face, length=length, curve_adaptor=curve_adaptor, name=\"complex2_0718\", plane_spacing = 5.0, point_spacing = 20.0, is_save=True, is_display=True)\n",
    "    \n",
    "start_display()"
   ]
  },
  {
   "cell_type": "code",
   "execution_count": null,
   "metadata": {},
   "outputs": [],
   "source": [
    "# ##給定一方向而生成線段\n",
    "\n",
    "# from OCC.Display.SimpleGui import init_display\n",
    "# from OCC.Core.gp import gp_Pnt, gp_Vec, gp_Dir\n",
    "# from OCC.Core.BRepBuilderAPI import BRepBuilderAPI_MakeEdge\n",
    "\n",
    "# # 初始化显示\n",
    "# display, start_display, add_menu, add_function_to_menu = init_display()\n",
    "\n",
    "# # 起点\n",
    "# start_point = gp_Pnt(0, 0, 0)\n",
    "\n",
    "# # 方向和长度\n",
    "# direction = gp_Dir(1, 0, 0)  # 沿 X 方向\n",
    "# length = 5.0  # 线段长度\n",
    "\n",
    "# # 计算结束点\n",
    "# end_point = gp_Pnt(start_point.X() + length * direction.X(),\n",
    "#                    start_point.Y() + length * direction.Y(),\n",
    "#                    start_point.Z() + length * direction.Z())\n",
    "\n",
    "# # 创建线段\n",
    "# edge = BRepBuilderAPI_MakeEdge(start_point, end_point).Edge()\n",
    "\n",
    "# # 显示线段\n",
    "# display.DisplayShape(edge, update=True, color='RED')\n",
    "\n",
    "# # 适应视图\n",
    "# display.FitAll()\n",
    "\n",
    "# # 开始显示\n",
    "# start_display()"
   ]
  }
 ],
 "metadata": {
  "kernelspec": {
   "display_name": "pyoccenv",
   "language": "python",
   "name": "python3"
  },
  "language_info": {
   "codemirror_mode": {
    "name": "ipython",
    "version": 3
   },
   "file_extension": ".py",
   "mimetype": "text/x-python",
   "name": "python",
   "nbconvert_exporter": "python",
   "pygments_lexer": "ipython3",
   "version": "3.8.19"
  }
 },
 "nbformat": 4,
 "nbformat_minor": 2
}
